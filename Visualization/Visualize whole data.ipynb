{
 "cells": [
  {
   "cell_type": "code",
   "execution_count": 1,
   "metadata": {},
   "outputs": [
    {
     "name": "stderr",
     "output_type": "stream",
     "text": [
      "/home/admin-u6142160/anaconda3/lib/python3.6/site-packages/h5py/__init__.py:36: FutureWarning: Conversion of the second argument of issubdtype from `float` to `np.floating` is deprecated. In future, it will be treated as `np.float64 == np.dtype(float).type`.\n",
      "  from ._conv import register_converters as _register_converters\n"
     ]
    }
   ],
   "source": [
    "import matplotlib.pyplot as plt\n",
    "import matplotlib.cm as cm\n",
    "import scipy.io as sio\n",
    "import numpy as np\n",
    "\n",
    "import skimage.io\n",
    "import sklearn.metrics\n",
    "import h5py\n",
    "import sys\n",
    "import gc\n",
    "\n",
    "sys.path.append('../Data_Preprocessing/')\n",
    "sys.path.append('../Visualization/')\n",
    "from Preprocess_Utilities import *\n",
    "from Data_Extractor import *\n",
    "from Visualization import *"
   ]
  },
  {
   "cell_type": "markdown",
   "metadata": {},
   "source": [
    "All data (raw & road)"
   ]
  },
  {
   "cell_type": "code",
   "execution_count": null,
   "metadata": {},
   "outputs": [],
   "source": [
    "path_raw_image = \"../Data/090085/090085_20170531.h5\"\n",
    "path_road_mask = \"../Data/090085/Road_Data/motor_trunk_pri_sec_tert/motor_trunk_pri_sec_tert.tif\"\n",
    "\n",
    "raw_image = np.array(h5py.File(path_raw_image)['scene'])\n",
    "road_mask = skimage.io.imread(path_road_mask)"
   ]
  },
  {
   "cell_type": "code",
   "execution_count": null,
   "metadata": {},
   "outputs": [],
   "source": [
    "show_image_against_road(raw_image, road_mask, size=-1, show_raw=False, figsize=(150,150), show_plot=False, \n",
    "                        save_path=\"./Result/presentation/road on img\")\n",
    "plt.close()"
   ]
  },
  {
   "cell_type": "code",
   "execution_count": null,
   "metadata": {},
   "outputs": [],
   "source": [
    "plt.close()\n",
    "plt.figure(figsize=(150, 150))\n",
    "plt.imshow(road_mask*255, cmap='gray')\n",
    "plt.show()\n",
    "plt.close()"
   ]
  },
  {
   "cell_type": "markdown",
   "metadata": {},
   "source": [
    "splitted dataset"
   ]
  },
  {
   "cell_type": "code",
   "execution_count": 2,
   "metadata": {},
   "outputs": [
    {
     "data": {
      "text/plain": [
       "43"
      ]
     },
     "execution_count": 2,
     "metadata": {},
     "output_type": "execute_result"
    }
   ],
   "source": [
    "train_path = '../Data/090085/Road_Data/motor_trunk_pri_sec_tert_uncl_track/posneg_seg_coord_split_thr1_128_16_train'\n",
    "train_h5f = h5py.File(train_path, 'r')\n",
    "train_pos_topleft_coord = np.array(train_h5f['positive_example'])\n",
    "train_neg_topleft_coord = np.array(train_h5f['negative_example'])\n",
    "train_raw_image = np.array(train_h5f['raw_image'])\n",
    "train_road_mask = np.array(train_h5f['road_mask'])\n",
    "train_h5f.close()\n",
    "gc.collect()"
   ]
  },
  {
   "cell_type": "code",
   "execution_count": 3,
   "metadata": {},
   "outputs": [
    {
     "name": "stdout",
     "output_type": "stream",
     "text": [
      "mu =  [ 115.69131349  161.49723211  341.19094609  334.01943174 2424.52057387\n",
      " 1328.10566523  683.31856912]\n",
      "class weight [neg= 0.014629, pos= 0.985371]\n"
     ]
    }
   ],
   "source": [
    "Train_Data = FCN_Data_Extractor (train_raw_image, train_road_mask, 128,\n",
    "                             pos_topleft_coord = train_pos_topleft_coord,\n",
    "                             neg_topleft_coord = train_neg_topleft_coord,\n",
    "                             normalization = 'mean')"
   ]
  },
  {
   "cell_type": "code",
   "execution_count": 4,
   "metadata": {},
   "outputs": [],
   "source": [
    "mask = np.zeros(train_road_mask.shape)\n",
    "for coord in Train_Data.topleft_coordinate:\n",
    "    mask[coord[0]:coord[0]+128, coord[1]:coord[1]+128] += 1\n",
    "mask[np.where(mask>0)] = 0.5"
   ]
  },
  {
   "cell_type": "code",
   "execution_count": 5,
   "metadata": {},
   "outputs": [],
   "source": [
    "white_train_raw_image = train_raw_image.copy()\n",
    "white_train_raw_image[np.where(white_train_raw_image==-9999)] = 9999"
   ]
  },
  {
   "cell_type": "code",
   "execution_count": 6,
   "metadata": {},
   "outputs": [],
   "source": [
    "show_pred_prob_with_raw(white_train_raw_image, mask, train_road_mask, pred_weight=0.8, figsize=(100,100), \n",
    "                                show_plot=False, save_path='train_white.png')"
   ]
  },
  {
   "cell_type": "code",
   "execution_count": 7,
   "metadata": {},
   "outputs": [],
   "source": [
    "show_pred_prob_with_raw(train_raw_image, mask, train_road_mask, pred_weight=0.8, figsize=(100,100), \n",
    "                                show_plot=False, save_path='train.png')"
   ]
  },
  {
   "cell_type": "code",
   "execution_count": null,
   "metadata": {},
   "outputs": [],
   "source": []
  }
 ],
 "metadata": {
  "kernelspec": {
   "display_name": "Python 3",
   "language": "python",
   "name": "python3"
  },
  "language_info": {
   "codemirror_mode": {
    "name": "ipython",
    "version": 3
   },
   "file_extension": ".py",
   "mimetype": "text/x-python",
   "name": "python",
   "nbconvert_exporter": "python",
   "pygments_lexer": "ipython3",
   "version": "3.6.4"
  }
 },
 "nbformat": 4,
 "nbformat_minor": 2
}
