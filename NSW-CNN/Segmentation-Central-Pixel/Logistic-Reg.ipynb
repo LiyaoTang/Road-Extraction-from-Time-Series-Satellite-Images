{
 "cells": [
  {
   "cell_type": "code",
   "execution_count": 18,
   "metadata": {},
   "outputs": [],
   "source": [
    "import numpy as np\n",
    "import sklearn as sk\n",
    "import sklearn.linear_model as sklm\n",
    "import sklearn.metrics as skmt\n",
    "import matplotlib.pyplot as plt\n",
    "import scipy.io as sio\n",
    "import skimage.io\n",
    "import h5py\n",
    "import sys\n",
    "# import pickle # save into bytes file\n",
    "\n",
    "sys.path.append('../Metric/')\n",
    "sys.path.append('../../Visualization/')\n",
    "sys.path.append('../../Data_Preprocessing//')\n",
    "from Metric import *\n",
    "from Visualization import *\n",
    "from Data_Extractor import *"
   ]
  },
  {
   "cell_type": "markdown",
   "metadata": {},
   "source": [
    "Load & Construct training & test set:"
   ]
  },
  {
   "cell_type": "code",
   "execution_count": 2,
   "metadata": {},
   "outputs": [
    {
     "name": "stdout",
     "output_type": "stream",
     "text": [
      "(7, 7650, 8091) (7650, 8091)\n",
      "pos= 304920 neg= 21258076\n"
     ]
    }
   ],
   "source": [
    "# Load\n",
    "path_train_set = \"../../Data/090085/Road_Data/motor_trunk_pri_sec_tert_uncl_track/posneg_topleft_coord_split_8_train\"\n",
    "\n",
    "train_set = h5py.File(path_train_set, 'r')\n",
    "train_pos_topleft_coord = np.array(train_set['positive_example'])\n",
    "train_neg_topleft_coord = np.array(train_set['negative_example'])\n",
    "train_raw_image = np.array(train_set['raw_image'])\n",
    "train_road_mask = np.array(train_set['road_mask'])\n",
    "train_set.close()\n",
    "\n",
    "print(train_raw_image.shape, train_road_mask.shape)\n",
    "\n",
    "# Construct training & test set\n",
    "pos_size = train_pos_topleft_coord.shape[0]\n",
    "neg_size = train_neg_topleft_coord.shape[0]\n",
    "print(\"pos=\", pos_size, \"neg=\", neg_size)"
   ]
  },
  {
   "cell_type": "code",
   "execution_count": 3,
   "metadata": {
    "scrolled": true
   },
   "outputs": [
    {
     "name": "stdout",
     "output_type": "stream",
     "text": [
      "pos =  304920 neg =  21258076\n"
     ]
    }
   ],
   "source": [
    "Train_Data = Data_Extractor (train_raw_image, train_road_mask, 8,\n",
    "                             pos_topleft_coord = train_pos_topleft_coord,\n",
    "                             neg_topleft_coord = train_neg_topleft_coord)\n",
    "\n",
    "print(\"pos = \", Train_Data.pos_size, \"neg = \", Train_Data.neg_size)"
   ]
  },
  {
   "cell_type": "markdown",
   "metadata": {},
   "source": [
    "Model parameters: "
   ]
  },
  {
   "cell_type": "code",
   "execution_count": 4,
   "metadata": {},
   "outputs": [
    {
     "name": "stdout",
     "output_type": "stream",
     "text": [
      "SGDClassifier(alpha=0.0001, average=False,\n",
      "       class_weight={0: 0.013885005649860315, 1: 0.9861149943501397},\n",
      "       epsilon=0.1, eta0=0.0, fit_intercept=True, l1_ratio=0.15,\n",
      "       learning_rate='optimal', loss='log', max_iter=1, n_iter=None,\n",
      "       n_jobs=1, penalty='l2', power_t=0.5, random_state=None,\n",
      "       shuffle=True, tol=None, verbose=0, warm_start=False)\n"
     ]
    }
   ],
   "source": [
    "width = 8\n",
    "height = 8\n",
    "band = 7\n",
    "\n",
    "batch_size = 64\n",
    "learning_rate = 9e-6\n",
    "epoch = 15\n",
    "iteration = int(Train_Data.size / batch_size) + 1\n",
    "\n",
    "# emphasize on pos example\n",
    "log_classifier = sklm.SGDClassifier(loss='log', max_iter=1, \n",
    "                                    class_weight={0:Train_Data.pos_size/Train_Data.size,\n",
    "                                                  1:Train_Data.neg_size/Train_Data.size})\n",
    "all_classes = np.array([0, 1])\n",
    "print(log_classifier)"
   ]
  },
  {
   "cell_type": "code",
   "execution_count": 7,
   "metadata": {},
   "outputs": [],
   "source": [
    "model_path = './Result/motor_trunk_pri_sec_tert_uncl_track/sklearn/'\n",
    "model_name = 'sklearn_split_weighted_pos0'"
   ]
  },
  {
   "cell_type": "markdown",
   "metadata": {},
   "source": [
    "Train & monitor:"
   ]
  },
  {
   "cell_type": "code",
   "execution_count": null,
   "metadata": {},
   "outputs": [
    {
     "name": "stdout",
     "output_type": "stream",
     "text": [
      "acc =  0.546875  cross entropy =  15057.105685921813\n"
     ]
    }
   ],
   "source": [
    "learning_curve = []\n",
    "for epoch_num in range(epoch):\n",
    "    for iter_num in range(iteration):\n",
    "\n",
    "        batch_x, batch_y = Train_Data.get_patches(batch_size=batch_size, positive_num=8, norm=True)\n",
    "        batch_x = batch_x.reshape((batch_size, -1))\n",
    "        \n",
    "        log_classifier.partial_fit(batch_x, batch_y, all_classes)\n",
    "\n",
    "    # snap shot\n",
    "    cost = log_classifier.decision_function(batch_x).mean()\n",
    "    learning_curve.append(cost)\n",
    "    print(\"acc = \", log_classifier.score(batch_x, batch_y), \" cross entropy = \", cost)\n",
    "\n",
    "print(\"finish\")"
   ]
  },
  {
   "cell_type": "code",
   "execution_count": null,
   "metadata": {
    "scrolled": false
   },
   "outputs": [],
   "source": [
    "# plot training curve\n",
    "plt.figsize=(9,5)\n",
    "plt.plot(learning_curve)\n",
    "plt.title('learning_curve')\n",
    "plt.show()"
   ]
  },
  {
   "cell_type": "markdown",
   "metadata": {},
   "source": [
    "(Optional) Save the model"
   ]
  },
  {
   "cell_type": "code",
   "execution_count": null,
   "metadata": {},
   "outputs": [],
   "source": [
    "from sklearn.externals import joblib\n",
    "joblib.dump(log_classifier, model_path+model_name) \n",
    "\n",
    "saved_sk_obj = joblib.load(model_path+model_name)\n",
    "assert (saved_sk_obj.coef_ == log_classifier.coef_).all()"
   ]
  },
  {
   "cell_type": "markdown",
   "metadata": {},
   "source": [
    "Reload model"
   ]
  },
  {
   "cell_type": "code",
   "execution_count": 8,
   "metadata": {},
   "outputs": [],
   "source": [
    "# reload\n",
    "from sklearn.externals import joblib\n",
    "log_classifier = joblib.load(model_path+model_name)"
   ]
  },
  {
   "cell_type": "markdown",
   "metadata": {},
   "source": [
    "Evaluate:"
   ]
  },
  {
   "cell_type": "code",
   "execution_count": null,
   "metadata": {},
   "outputs": [],
   "source": [
    "print(log_classifier.coef_.shape)\n",
    "print(log_classifier.coef_.max(), log_classifier.coef_.min())\n",
    "print(log_classifier.coef_)"
   ]
  },
  {
   "cell_type": "code",
   "execution_count": null,
   "metadata": {},
   "outputs": [],
   "source": [
    "train_metric = Metric()\n",
    "\n",
    "for x, y in Train_Data.iterate_data(norm=True):\n",
    "    x = x.reshape((1, -1))\n",
    "    \n",
    "    # record metric\n",
    "    pred = log_classifier.predict(x)\n",
    "    train_metric.accumulate(np.array([pred]), np.array([y]))\n",
    "    \n",
    "train_metric.print_info()"
   ]
  },
  {
   "cell_type": "code",
   "execution_count": null,
   "metadata": {},
   "outputs": [],
   "source": [
    "test_metric = Metric()\n",
    "\n",
    "for x, y in Test_Data.iterate_data(norm=True):\n",
    "    x = x.reshape((1, -1))\n",
    "    \n",
    "    # record metric\n",
    "    pred = log_classifier.predict(x)\n",
    "    test_metric.accumulate(np.array([pred]), np.array([y]))\n",
    "    \n",
    "test_metric.print_info()"
   ]
  },
  {
   "cell_type": "markdown",
   "metadata": {},
   "source": [
    "Load whole dataset"
   ]
  },
  {
   "cell_type": "code",
   "execution_count": null,
   "metadata": {},
   "outputs": [],
   "source": [
    "path_raw_image = \"../../Data/090085/090085_20170531.h5\"\n",
    "path_road_mask = \"../../Data/090085/Road_Data/motor_trunk_pri_sec_tert_uncl_track/motor_trunk_pri_sec_tert_uncl_track.tif\"\n",
    "\n",
    "raw_image = np.array(h5py.File(path_raw_image)['scene'])\n",
    "road_mask = skimage.io.imread(path_road_mask)"
   ]
  },
  {
   "cell_type": "markdown",
   "metadata": {},
   "source": [
    "Predict road prob masks"
   ]
  },
  {
   "cell_type": "code",
   "execution_count": null,
   "metadata": {},
   "outputs": [],
   "source": [
    "index = np.where(log_classifier.classes_ == 1)[0][0]\n",
    "print(log_classifier.classes_, index)\n",
    "\n",
    "pred_road = np.zeros(train_road_mask.shape)\n",
    "for coord, patch in Train_Data.iterate_raw_image_patches_with_coord(norm=True):\n",
    "    patch = patch.reshape([1,-1])\n",
    "    \n",
    "    pred_road[int(coord[0]+width/2), int(coord[1]+width/2)] = log_classifier.predict_proba(patch)[0, index]"
   ]
  },
  {
   "cell_type": "code",
   "execution_count": null,
   "metadata": {},
   "outputs": [],
   "source": [
    "prediction_name = model_name + '_pred.h5'\n",
    "\n",
    "h5f_file = h5py.File(model_path + prediction_name, 'w')\n",
    "h5f_file.create_dataset (name='pred_road', data=pred_road)\n",
    "h5f_file.close()"
   ]
  },
  {
   "cell_type": "markdown",
   "metadata": {},
   "source": [
    "Load prediction"
   ]
  },
  {
   "cell_type": "code",
   "execution_count": null,
   "metadata": {},
   "outputs": [],
   "source": [
    "# restore prediction \n",
    "prediction_name = model_name + '_pred.h5'\n",
    "\n",
    "h5f_file  = h5py.File(model_path + prediction_name, 'r')\n",
    "pred_road = np.array(h5f_file['pred_road'])\n",
    "h5f_file.close()"
   ]
  },
  {
   "cell_type": "markdown",
   "metadata": {},
   "source": [
    "Analyze pred"
   ]
  },
  {
   "cell_type": "code",
   "execution_count": null,
   "metadata": {
    "scrolled": true
   },
   "outputs": [],
   "source": [
    "print(pred_road.min(), pred_road.max(), pred_road.mean())\n",
    "plt.hist(x=pred_road.flatten(), bins=100, histtype='step')\n",
    "plt.show()\n",
    "plt.close()\n",
    "plt.hist(x=pred_road[np.where(pred_road>0)].flatten(), bins=100, histtype='step')\n",
    "plt.show()\n",
    "plt.close()"
   ]
  },
  {
   "cell_type": "code",
   "execution_count": null,
   "metadata": {},
   "outputs": [],
   "source": [
    "show_pred_prob_with_raw(train_raw_image, pred_road, train_road_mask, pred_weight=0.2, figsize=(50,50), \n",
    "                        show_plot=True)\n",
    "#                         save_path=model_path + 'Analysis/prob_road_on_raw - 0_1.png')"
   ]
  },
  {
   "cell_type": "markdown",
   "metadata": {},
   "source": [
    "Analyze log pred"
   ]
  },
  {
   "cell_type": "code",
   "execution_count": null,
   "metadata": {},
   "outputs": [],
   "source": [
    "log_pred = -np.log(-pred_road + 1 + 1e-7)\n",
    "print(log_pred.min(), log_pred.max(), log_pred.mean())\n",
    "\n",
    "norm_log_pred = (log_pred - log_pred.min()) / (log_pred.max()-log_pred.min())\n",
    "print(norm_log_pred.min(), norm_log_pred.max(), norm_log_pred.mean())"
   ]
  },
  {
   "cell_type": "code",
   "execution_count": null,
   "metadata": {},
   "outputs": [],
   "source": [
    "show_pred_prob_with_raw(raw_image, norm_log_pred,\n",
    "                        true_road=road_mask, pred_weight=0.2, figsize=(150,150), show_plot=False,\n",
    "                        save_path=model_path + 'Analysis/log_prob_on_raw - 0_2.png')"
   ]
  },
  {
   "cell_type": "code",
   "execution_count": null,
   "metadata": {},
   "outputs": [],
   "source": [
    "plt.imshow(np.array([[0,0.1,0.2,0.3,0.4,0.5,0.6,0.7,0.8,0.9,1]]), cmap='hot')\n",
    "plt.show()\n",
    "plt.figure(figsize=(100,100))\n",
    "plt.imshow(pred_road, cmap=plt.get_cmap('hot'))\n",
    "plt.show()\n",
    "plt.close()"
   ]
  },
  {
   "cell_type": "code",
   "execution_count": null,
   "metadata": {},
   "outputs": [],
   "source": [
    "plt.imshow(np.array([[0,0.1,0.2,0.3,0.4,0.5,0.6,0.7,0.8,0.9,1]]), cmap='hot')\n",
    "plt.show()\n",
    "plt.figure(figsize=(100,100))\n",
    "plt.imshow(np.log(pred_road + 1e-9), cmap='hot')\n",
    "plt.show()\n",
    "plt.close()"
   ]
  },
  {
   "cell_type": "code",
   "execution_count": null,
   "metadata": {},
   "outputs": [],
   "source": []
  }
 ],
 "metadata": {
  "kernelspec": {
   "display_name": "Python 3",
   "language": "python",
   "name": "python3"
  },
  "language_info": {
   "codemirror_mode": {
    "name": "ipython",
    "version": 3
   },
   "file_extension": ".py",
   "mimetype": "text/x-python",
   "name": "python",
   "nbconvert_exporter": "python",
   "pygments_lexer": "ipython3",
   "version": "3.6.4"
  }
 },
 "nbformat": 4,
 "nbformat_minor": 2
}
