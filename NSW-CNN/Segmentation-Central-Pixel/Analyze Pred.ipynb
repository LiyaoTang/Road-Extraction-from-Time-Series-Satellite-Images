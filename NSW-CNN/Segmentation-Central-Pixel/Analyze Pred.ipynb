{
 "cells": [
  {
   "cell_type": "code",
   "execution_count": null,
   "metadata": {},
   "outputs": [],
   "source": [
    "import matplotlib.pyplot as plt\n",
    "import scipy.io as sio\n",
    "import skimage.io\n",
    "import h5py\n",
    "import sys"
   ]
  },
  {
   "cell_type": "code",
   "execution_count": null,
   "metadata": {},
   "outputs": [],
   "source": [
    "\n",
    "# Analyze pred in plot\n",
    "show_pred_prob_with_raw(train_raw_image, train_pred_road, train_road_mask, pred_weight=0.3, figsize=(150,150), \n",
    "                        show_plot=False, save_path=save_path + 'Analysis/' + 'prob_road_on_train - 0_3.png')\n",
    "\n",
    "show_pred_prob_with_raw(CV_raw_image, CV_pred_road, CV_road_mask, pred_weight=0.3, figsize=(150,150), \n",
    "                        show_plot=False, save_path=save_path + 'Analysis/' + 'prob_road_on_CV - 0_3.png')\n",
    "\n",
    "# Analyze log pred\n",
    "train_log_pred = -np.log(-train_pred_road + 1 + 1e-7)\n",
    "CV_log_pred = -np.log(-CV_pred_road + 1 + 1e-7)\n",
    "print('train_log pred: ')\n",
    "print(train_log_pred.min(), train_log_pred.max(), train_log_pred.mean())\n",
    "print('CV_log pred: ')\n",
    "print(CV_log_pred.min(), CV_log_pred.max(), CV_log_pred.mean())\n",
    "\n",
    "\n",
    "print('normalized log pred')\n",
    "print('train: ')\n",
    "norm_log_pred = (train_log_pred - train_log_pred.min()) / (train_log_pred.max()-train_log_pred.min())\n",
    "print(norm_log_pred.min(), norm_log_pred.max(), norm_log_pred.mean())\n",
    "show_pred_prob_with_raw(train_raw_image, norm_log_pred, train_road_mask, pred_weight=0.3, figsize=(150,150), \n",
    "                        show_plot=False, save_path=save_path + 'Analysis/' + 'log_prob_on_train - 0_3.png')\n",
    "\n",
    "print('train: ')\n",
    "norm_log_pred = (CV_log_pred - CV_log_pred.min()) / (CV_log_pred.max()-CV_log_pred.min())\n",
    "print(norm_log_pred.min(), norm_log_pred.max(), norm_log_pred.mean())\n",
    "show_pred_prob_with_raw(CV_raw_image, norm_log_pred, CV_road_mask, pred_weight=0.3, figsize=(150,150), \n",
    "                        show_plot=False, save_path=save_path + 'Analysis/' + 'log_prob_on_CV - 0_3.png')\n"
   ]
  }
 ],
 "metadata": {
  "kernelspec": {
   "display_name": "Python 3",
   "language": "python",
   "name": "python3"
  },
  "language_info": {
   "codemirror_mode": {
    "name": "ipython",
    "version": 3
   },
   "file_extension": ".py",
   "mimetype": "text/x-python",
   "name": "python",
   "nbconvert_exporter": "python",
   "pygments_lexer": "ipython3",
   "version": "3.6.4"
  }
 },
 "nbformat": 4,
 "nbformat_minor": 2
}
