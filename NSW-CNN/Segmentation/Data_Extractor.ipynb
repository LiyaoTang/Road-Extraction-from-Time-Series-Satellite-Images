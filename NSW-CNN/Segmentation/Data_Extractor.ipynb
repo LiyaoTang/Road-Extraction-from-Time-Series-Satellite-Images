{
 "cells": [
  {
   "cell_type": "code",
   "execution_count": 1,
   "metadata": {
    "collapsed": true
   },
   "outputs": [],
   "source": [
    "import numpy as np"
   ]
  },
  {
   "cell_type": "code",
   "execution_count": 2,
   "metadata": {
    "collapsed": true
   },
   "outputs": [],
   "source": [
    "# top-left coordinate should be of shape (n, 2) => default to flatten out\n",
    "def get_patches(raw_image, road_mask, topleft_coordinate, step, flatten = True):\n",
    "    X = []\n",
    "    Y = []\n",
    "    \n",
    "    if flatten:\n",
    "        for coord in topleft_coordinate:\n",
    "            X.append(raw_image[:, coord[0]:coord[0]+step, coord[1]:coord[1]+step].flatten())\n",
    "            Y.append(road_mask[int(coord[0]+step/2), int(coord[1]+step/2)])\n",
    "    else:\n",
    "        for coord in topleft_coordinate:\n",
    "            X.append(raw_image[:, coord[0]:coord[0]+step, coord[1]:coord[1]+step])\n",
    "            Y.append(road_mask[int(coord[0]+step/2), int(coord[1]+step/2)])\n",
    "        \n",
    "\n",
    "    X = np.array(X)\n",
    "    Y = np.array(Y)\n",
    "    return X, Y"
   ]
  }
 ],
 "metadata": {
  "kernelspec": {
   "display_name": "Python 3",
   "language": "python",
   "name": "python3"
  },
  "language_info": {
   "codemirror_mode": {
    "name": "ipython",
    "version": 3
   },
   "file_extension": ".py",
   "mimetype": "text/x-python",
   "name": "python",
   "nbconvert_exporter": "python",
   "pygments_lexer": "ipython3",
   "version": "3.6.2"
  }
 },
 "nbformat": 4,
 "nbformat_minor": 2
}
