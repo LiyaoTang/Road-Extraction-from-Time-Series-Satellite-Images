{
 "cells": [
  {
   "cell_type": "code",
   "execution_count": 1,
   "metadata": {},
   "outputs": [
    {
     "name": "stderr",
     "output_type": "stream",
     "text": [
      "/home/admin-u6142160/anaconda3/lib/python3.6/site-packages/h5py/__init__.py:36: FutureWarning: Conversion of the second argument of issubdtype from `float` to `np.floating` is deprecated. In future, it will be treated as `np.float64 == np.dtype(float).type`.\n",
      "  from ._conv import register_converters as _register_converters\n"
     ]
    }
   ],
   "source": [
    "import matplotlib.pyplot as plt\n",
    "import scipy.io as sio\n",
    "import skimage.io\n",
    "import h5py\n",
    "import sys\n",
    "import gc"
   ]
  },
  {
   "cell_type": "code",
   "execution_count": null,
   "metadata": {},
   "outputs": [],
   "source": [
    "predition_dir = './Result/motor_trunk_pri_sec_tert_uncl_track/sklearn/sklearn_split_weighted_pos0_pred.h5'\n",
    "h5f = h5py.File(predition_dir, 'r')\n",
    "train_pred = h5f['train_pred']\n",
    "CV_pred = h5f['CV_pred']\n",
    "h5f.close()"
   ]
  },
  {
   "cell_type": "code",
   "execution_count": null,
   "metadata": {},
   "outputs": [],
   "source": [
    "# choose a way to normalize\n",
    "# normalization\n",
    "def pred_normalization(pred):\n",
    "    return pred[:,:,1]/pred.sum(axis=-1)\n",
    "\n",
    "# softmax\n",
    "def pred_softmax(pred)\n",
    "    return np.exp(pred[:,:,1])/np.exp(pred).sum(axis=-1)"
   ]
  },
  {
   "cell_type": "code",
   "execution_count": null,
   "metadata": {},
   "outputs": [],
   "source": [
    "train_pred = pred_normalization(train_pred)\n",
    "CV_pred = pred_normalization(CV_pred)"
   ]
  },
  {
   "cell_type": "code",
   "execution_count": null,
   "metadata": {},
   "outputs": [],
   "source": [
    "path_train_set = \"../../Data/090085/Road_Data/motor_trunk_pri_sec_tert_uncl_track/posneg_topleft_coord_split_8_train\"\n",
    "path_cv_set = \"../../Data/090085/Road_Data/motor_trunk_pri_sec_tert_uncl_track/posneg_topleft_coord_split_8_cv\"\n",
    "\n",
    "# Load training set\n",
    "train_set = h5py.File(path_train_set, 'r')\n",
    "train_pos_topleft_coord = np.array(train_set['positive_example'])\n",
    "train_neg_topleft_coord = np.array(train_set['negative_example'])\n",
    "train_raw_image = np.array(train_set['raw_image'])\n",
    "train_road_mask = np.array(train_set['road_mask'])\n",
    "train_set.close()\n",
    "\n",
    "# Load cross-validation set\n",
    "CV_set = h5py.File(path_cv_set, 'r')\n",
    "CV_pos_topleft_coord = np.array(CV_set['positive_example'])\n",
    "CV_neg_topleft_coord = np.array(CV_set['negative_example'])\n",
    "CV_raw_image = np.array(CV_set['raw_image'])\n",
    "CV_road_mask = np.array(CV_set['road_mask'])\n",
    "CV_set.close()\n",
    "\n",
    "gc.collect()"
   ]
  },
  {
   "cell_type": "markdown",
   "metadata": {},
   "source": [
    "Train"
   ]
  },
  {
   "cell_type": "code",
   "execution_count": null,
   "metadata": {},
   "outputs": [],
   "source": [
    "# pred\n",
    "show_pred_prob_with_raw(train_raw_image, train_pred_road, train_road_mask, pred_weight=0.3, figsize=(50,50))"
   ]
  },
  {
   "cell_type": "code",
   "execution_count": null,
   "metadata": {},
   "outputs": [],
   "source": [
    "# log pred\n",
    "train_log_pred = -np.log(-train_pred_road + 1 + 1e-7)\n",
    "\n",
    "print('train_log pred: ')\n",
    "print(train_log_pred.min(), train_log_pred.max(), train_log_pred.mean())\n",
    "\n",
    "train_norm_log_pred = (train_log_pred - train_log_pred.min()) / (train_log_pred.max()-train_log_pred.min())\n",
    "\n",
    "print('normalized log pred: ')\n",
    "print(train_norm_log_pred.min(), train_norm_log_pred.max(), train_norm_log_pred.mean())\n",
    "\n",
    "show_pred_prob_with_raw(train_raw_image, train_norm_log_pred, train_road_mask, pred_weight=0.3, \n",
    "                        figsize=(50,50))"
   ]
  },
  {
   "cell_type": "markdown",
   "metadata": {},
   "source": [
    "CV"
   ]
  },
  {
   "cell_type": "code",
   "execution_count": null,
   "metadata": {},
   "outputs": [],
   "source": [
    "# pred\n",
    "show_pred_prob_with_raw(CV_raw_image, CV_pred_road, CV_road_mask, pred_weight=0.3, figsize=(50,50))"
   ]
  },
  {
   "cell_type": "code",
   "execution_count": null,
   "metadata": {},
   "outputs": [],
   "source": [
    "# log pred\n",
    "CV_log_pred = -np.log(-CV_pred_road + 1 + 1e-7)\n",
    "\n",
    "print('CV_log pred: ')\n",
    "print(CV_log_pred.min(), CV_log_pred.max(), CV_log_pred.mean())\n",
    "\n",
    "CV_norm_log_pred = (CV_log_pred - CV_log_pred.min()) / (CV_log_pred.max()-CV_log_pred.min())\n",
    "\n",
    "print('normalized log pred: ')\n",
    "print(CV_norm_log_pred.min(), CV_norm_log_pred.max(), CV_norm_log_pred.mean())\n",
    "\n",
    "show_pred_prob_with_raw(CV_raw_image, CV_norm_log_pred, CV_road_mask, pred_weight=0.3, figsize=(50,50))"
   ]
  },
  {
   "cell_type": "markdown",
   "metadata": {},
   "source": [
    "save plot"
   ]
  },
  {
   "cell_type": "code",
   "execution_count": null,
   "metadata": {},
   "outputs": [],
   "source": [
    "save_path = \"...\""
   ]
  },
  {
   "cell_type": "code",
   "execution_count": null,
   "metadata": {},
   "outputs": [],
   "source": [
    "# Analyze pred in plot\n",
    "show_pred_prob_with_raw(train_raw_image, train_pred_road, train_road_mask, pred_weight=0.3, figsize=(150,150), \n",
    "                        show_plot=False, save_path=save_path + 'Analysis/' + 'prob_road_on_train - 0_3.png')\n",
    "\n",
    "show_pred_prob_with_raw(CV_raw_image, CV_pred_road, CV_road_mask, pred_weight=0.3, figsize=(150,150), \n",
    "                        show_plot=False, save_path=save_path + 'Analysis/' + 'prob_road_on_CV - 0_3.png')"
   ]
  },
  {
   "cell_type": "code",
   "execution_count": null,
   "metadata": {},
   "outputs": [],
   "source": [
    "show_pred_prob_with_raw(CV_raw_image, CV_norm_log_pred, CV_road_mask, pred_weight=0.3, figsize=(150,150), \n",
    "                        show_plot=False, save_path=save_path + 'Analysis/' + 'log_prob_on_CV - 0_3.png')\n",
    "\n",
    "show_pred_prob_with_raw(train_raw_image, train_norm_log_pred, train_road_mask, \n",
    "                        pred_weight=0.3, figsize=(150,150), \n",
    "                        show_plot=False, save_path=save_path + 'Analysis/' + 'log_prob_on_train - 0_3.png')"
   ]
  },
  {
   "cell_type": "code",
   "execution_count": null,
   "metadata": {},
   "outputs": [],
   "source": [
    "# trial for FCN pred (one-hot encoding)\n",
    "b[:,:,0] *=3\n",
    "b[:,:,1] *=6\n",
    "print(b)\n",
    "\n",
    "np.exp(b)/np.array([np.sum(np.exp(b), axis=-1)]*b.shape[-1]).transpose(1,2,0)\n",
    "np.exp(b)[:,:,1]/np.sum(np.exp(b), axis=-1)\n",
    "b[:,:,1]/np.sum(b, axis=-1)"
   ]
  }
 ],
 "metadata": {
  "kernelspec": {
   "display_name": "Python 3",
   "language": "python",
   "name": "python3"
  },
  "language_info": {
   "codemirror_mode": {
    "name": "ipython",
    "version": 3
   },
   "file_extension": ".py",
   "mimetype": "text/x-python",
   "name": "python",
   "nbconvert_exporter": "python",
   "pygments_lexer": "ipython3",
   "version": "3.6.4"
  }
 },
 "nbformat": 4,
 "nbformat_minor": 2
}
