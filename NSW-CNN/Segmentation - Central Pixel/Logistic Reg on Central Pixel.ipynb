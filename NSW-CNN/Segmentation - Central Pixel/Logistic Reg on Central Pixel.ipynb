{
 "cells": [
  {
   "cell_type": "code",
   "execution_count": 1,
   "metadata": {},
   "outputs": [
    {
     "name": "stderr",
     "output_type": "stream",
     "text": [
      "/home/admin-u6142160/anaconda3/lib/python3.6/site-packages/h5py/__init__.py:36: FutureWarning: Conversion of the second argument of issubdtype from `float` to `np.floating` is deprecated. In future, it will be treated as `np.float64 == np.dtype(float).type`.\n",
      "  from ._conv import register_converters as _register_converters\n"
     ]
    }
   ],
   "source": [
    "import numpy as np\n",
    "import sklearn as sk\n",
    "import sklearn.linear_model as sklm\n",
    "import matplotlib.pyplot as plt\n",
    "import scipy.io as sio\n",
    "import skimage.io\n",
    "import h5py\n",
    "import sys\n",
    "# import pickle # save into bytes file\n",
    "\n",
    "sys.path.append('../Metric/')\n",
    "sys.path.append('../../Visualization/')\n",
    "sys.path.append('../../Data_Preprocessing//')\n",
    "from Metric import *\n",
    "from Visualization import *\n",
    "from Data_Extractor import *"
   ]
  },
  {
   "cell_type": "markdown",
   "metadata": {},
   "source": [
    "Load & Construct training & test set:"
   ]
  },
  {
   "cell_type": "code",
   "execution_count": 3,
   "metadata": {},
   "outputs": [
    {
     "name": "stdout",
     "output_type": "stream",
     "text": [
      "(7, 6791, 8091) (6791, 8091)\n",
      "pos= 320813 neg= 22784183\n"
     ]
    }
   ],
   "source": [
    "# Load\n",
    "path_train_set = \"../../Data/090085/Road_Data/motor_trunk_pri_sec_tert_uncl_track/posneg_topleft_coord_split_8_train\"\n",
    "\n",
    "train_set = h5py.File(path_train_set, 'r')\n",
    "train_pos_topleft_coord = np.array(train_set['positive_example'])\n",
    "train_neg_topleft_coord = np.array(train_set['negative_example'])\n",
    "train_raw_image = np.array(train_set['raw_image'])\n",
    "train_road_mask = np.array(train_set['road_mask'])\n",
    "train_set.close()\n",
    "\n",
    "print(train_raw_image.shape, train_road_mask.shape)\n",
    "\n",
    "# Construct training & test set\n",
    "pos_size = train_pos_topleft_coord.shape[0]\n",
    "neg_size = train_neg_topleft_coord.shape[0]\n",
    "print(\"pos=\", pos_size, \"neg=\", neg_size)"
   ]
  },
  {
   "cell_type": "code",
   "execution_count": 4,
   "metadata": {
    "scrolled": true
   },
   "outputs": [
    {
     "name": "stdout",
     "output_type": "stream",
     "text": [
      "pos =  320813 neg =  22784183\n"
     ]
    }
   ],
   "source": [
    "Train_Data = Data_Extractor (train_raw_image, train_road_mask, 8,\n",
    "                             pos_topleft_coord = train_pos_topleft_coord,\n",
    "                             neg_topleft_coord = train_neg_topleft_coord)\n",
    "\n",
    "print(\"pos = \", Train_Data.pos_size, \"neg = \", Train_Data.neg_size)"
   ]
  },
  {
   "cell_type": "code",
   "execution_count": 5,
   "metadata": {},
   "outputs": [
    {
     "name": "stdout",
     "output_type": "stream",
     "text": [
      "[2128 1782]\n"
     ]
    }
   ],
   "source": [
    "for coord, patch in Train_Data.iterate_raw_image_patches_with_coord(norm=False):\n",
    "    if not (patch != -9999).all():\n",
    "        print(coord)\n",
    "        break"
   ]
  },
  {
   "cell_type": "markdown",
   "metadata": {},
   "source": [
    "Model parameters: "
   ]
  },
  {
   "cell_type": "code",
   "execution_count": 5,
   "metadata": {},
   "outputs": [
    {
     "name": "stdout",
     "output_type": "stream",
     "text": [
      "SGDClassifier(alpha=0.0001, average=False,\n",
      "       class_weight={0: 0.013885005649860315, 1: 0.9861149943501397},\n",
      "       epsilon=0.1, eta0=0.0, fit_intercept=True, l1_ratio=0.15,\n",
      "       learning_rate='optimal', loss='log', max_iter=1, n_iter=None,\n",
      "       n_jobs=1, penalty='l2', power_t=0.5, random_state=None,\n",
      "       shuffle=True, tol=None, verbose=0, warm_start=False)\n"
     ]
    }
   ],
   "source": [
    "width = 8\n",
    "height = 8\n",
    "band = 7\n",
    "\n",
    "batch_size = 64\n",
    "learning_rate = 9e-6\n",
    "epoch = 15\n",
    "iteration = int(Train_Data.size / batch_size) + 1\n",
    "\n",
    "# emphasize on pos example\n",
    "log_classifier = sklm.SGDClassifier(loss='log', max_iter=1, \n",
    "                                    class_weight={0:Train_Data.pos_size/Train_Data.size,\n",
    "                                                  1:Train_Data.neg_size/Train_Data.size})\n",
    "all_classes = np.array([0, 1])\n",
    "print(log_classifier)"
   ]
  },
  {
   "cell_type": "code",
   "execution_count": 6,
   "metadata": {},
   "outputs": [],
   "source": [
    "model_path = './Result/motor_trunk_pri_sec_tert_uncl_track/sklearn - central pixel/'\n",
    "model_name = 'sklearn_split_weighted_pos0'"
   ]
  },
  {
   "cell_type": "markdown",
   "metadata": {},
   "source": [
    "Train & monitor:"
   ]
  },
  {
   "cell_type": "code",
   "execution_count": 7,
   "metadata": {},
   "outputs": [
    {
     "name": "stdout",
     "output_type": "stream",
     "text": [
      "acc =  0.546875  cross entropy =  15057.105685921813\n",
      "acc =  0.859375  cross entropy =  -18411.283630322214\n",
      "acc =  0.65625  cross entropy =  -4121.238686741095\n",
      "acc =  0.796875  cross entropy =  -14386.182018022955\n",
      "acc =  0.5625  cross entropy =  3985.4786032310017\n",
      "acc =  0.5  cross entropy =  6825.063483530894\n",
      "acc =  0.59375  cross entropy =  1901.409104682518\n",
      "acc =  0.828125  cross entropy =  -5513.874889863262\n",
      "acc =  0.390625  cross entropy =  6864.060340648249\n",
      "acc =  0.671875  cross entropy =  -3759.2166392058502\n",
      "acc =  0.671875  cross entropy =  -1839.8352297749943\n",
      "acc =  0.53125  cross entropy =  778.9067260670723\n",
      "acc =  0.75  cross entropy =  -2743.8922752455937\n",
      "acc =  0.671875  cross entropy =  -1236.9851042778787\n",
      "acc =  0.765625  cross entropy =  -5963.519030740603\n",
      "finish\n"
     ]
    }
   ],
   "source": [
    "learning_curve = []\n",
    "for epoch_num in range(epoch):\n",
    "    for iter_num in range(iteration):\n",
    "\n",
    "        batch_x, batch_y = Train_Data.get_patches(batch_size=batch_size, positive_num=8, norm=True)\n",
    "        batch_x = batch_x.reshape((batch_size, -1))\n",
    "        \n",
    "        log_classifier.partial_fit(batch_x, batch_y, all_classes)\n",
    "\n",
    "    # snap shot\n",
    "    cost = log_classifier.decision_function(batch_x).mean()\n",
    "    learning_curve.append(cost)\n",
    "    print(\"acc = \", log_classifier.score(batch_x, batch_y), \" cross entropy = \", cost)\n",
    "\n",
    "print(\"finish\")"
   ]
  },
  {
   "cell_type": "code",
   "execution_count": 8,
   "metadata": {
    "scrolled": false
   },
   "outputs": [
    {
     "data": {
      "image/png": "[encoded data removed]",
      "text/plain": [
       "<matplotlib.figure.Figure at 0x7f758efad898>"
      ]
     },
     "metadata": {},
     "output_type": "display_data"
    }
   ],
   "source": [
    "# plot training curve\n",
    "plt.figsize=(9,5)\n",
    "plt.plot(learning_curve)\n",
    "plt.title('learning_curve')\n",
    "plt.show()"
   ]
  },
  {
   "cell_type": "markdown",
   "metadata": {},
   "source": [
    "(Optional) Save the model"
   ]
  },
  {
   "cell_type": "code",
   "execution_count": 10,
   "metadata": {},
   "outputs": [],
   "source": [
    "from sklearn.externals import joblib\n",
    "joblib.dump(log_classifier, model_path+model_name) \n",
    "\n",
    "saved_sk_obj = joblib.load(model_path+model_name)\n",
    "assert (saved_sk_obj.coef_ == log_classifier.coef_).all()"
   ]
  },
  {
   "cell_type": "markdown",
   "metadata": {},
   "source": [
    "Reload model"
   ]
  },
  {
   "cell_type": "code",
   "execution_count": null,
   "metadata": {},
   "outputs": [],
   "source": [
    "# reload\n",
    "from sklearn.externals import joblib\n",
    "log_classifier = joblib.load(model_path+model_name)"
   ]
  },
  {
   "cell_type": "markdown",
   "metadata": {},
   "source": [
    "Evaluate:"
   ]
  },
  {
   "cell_type": "code",
   "execution_count": 12,
   "metadata": {},
   "outputs": [
    {
     "name": "stdout",
     "output_type": "stream",
     "text": [
      "(1, 448)\n",
      "31.336387451013962 -21.46674658944571\n",
      "[[ 1.36851460e+00  3.44255374e-01  1.10202111e+00  1.04734300e+00\n",
      "  -7.95243154e-01 -8.07214412e-01 -3.14870016e-01 -3.27703528e-01\n",
      "   2.13969338e+00  8.77943906e-02 -1.81159468e-01  2.08576190e+00\n",
      "   5.73972349e-01  4.76273760e-01 -3.37695017e-01  4.99024102e-01\n",
      "   2.13396702e+00 -3.62074887e-01  3.77282464e-01  4.15794073e-01\n",
      "   8.47751171e-02  7.58768097e-01 -1.62701142e-01  6.27812295e-01\n",
      "   2.87286647e+00  2.02818747e+00  7.63509869e-01 -3.80071453e+00\n",
      "  -1.23325511e+01 -5.35053841e+00  8.27400256e-01  1.71704421e+00\n",
      "   1.08984608e+00  7.55393599e-01  1.05967999e+00 -5.82535175e+00\n",
      "  -2.14667466e+01 -8.68711702e+00  9.14206235e-01  1.24354090e+00\n",
      "   1.47795235e+00 -2.08173073e-01  1.30614439e+00 -2.29472468e+00\n",
      "  -1.01384499e+01 -3.96156958e+00  6.68000238e-01  2.38616374e+00\n",
      "   1.77430126e+00  1.71102591e+00  5.33255623e-01  1.62288731e+00\n",
      "   1.34457939e+00  2.29480440e+00  9.62456531e-01  1.81279293e+00\n",
      "   4.77064399e-01  1.76581598e-01 -8.02649421e-01  7.93092910e-01\n",
      "   1.30089103e+00  2.19455017e+00 -8.91119199e-02  2.44475739e+00\n",
      "  -6.07040003e+00 -1.28507864e-01 -2.07163695e+00 -2.22930605e+00\n",
      "  -3.18629851e-01 -7.27620376e-01  3.01471035e-01 -6.14025222e+00\n",
      "  -1.39897211e+00  4.18121381e+00  1.57552703e+00  2.07847802e-01\n",
      "   1.82040735e+00  1.60850458e+00  4.52629875e+00  3.12933428e-01\n",
      "  -2.92589307e+00  2.41167861e+00  6.81476239e-01 -2.21512515e-01\n",
      "   6.48326979e-01 -1.21540697e-01  2.10413988e+00 -2.04383051e+00\n",
      "  -4.00578306e+00  1.52649267e+00 -3.39197252e-01  4.94872715e+00\n",
      "   1.53081672e+01  5.13005613e+00 -7.19666852e-01 -2.76128144e+00\n",
      "  -2.26034727e+00  1.70747387e+00 -2.23261242e-01  5.68070564e+00\n",
      "   3.13363875e+01  1.14090039e+01 -3.68371194e-02 -2.74147053e+00\n",
      "  -2.69261150e+00  2.01859250e+00 -1.13732271e+00  1.98120181e+00\n",
      "   1.17629706e+01  4.71631772e+00  3.92852106e-01 -3.44402442e+00\n",
      "  -5.59218602e-02  2.39698372e+00  1.98160386e+00  1.04229130e+00\n",
      "   7.17262966e-02 -1.68081163e-01  3.45765194e+00 -1.36260614e+00\n",
      "  -7.12815571e+00 -2.53493822e-01 -1.37971461e-01 -2.68308139e+00\n",
      "  -1.79368329e+00 -3.15627971e+00  2.72634745e-01 -7.34123659e+00\n",
      "   7.91564500e+00 -2.16463271e+00  2.90582735e+00  2.57056758e+00\n",
      "   2.21867718e+00  2.13247714e+00 -2.39248156e+00  5.39370454e+00\n",
      "   1.24315056e+00 -5.40160890e+00 -2.40773305e+00 -2.44177208e+00\n",
      "  -3.51028019e+00 -1.41712002e+00 -5.44566606e+00 -4.02148266e+00\n",
      "   1.24446097e+00 -4.36889050e+00 -7.40048898e-01 -7.84203982e-01\n",
      "  -2.00716445e+00  1.51560717e+00 -1.20345272e+00  2.56304940e+00\n",
      "   4.11008462e+00 -1.84542570e+00 -3.71791972e-01 -2.21684534e+00\n",
      "  -4.41629572e+00 -1.33297750e+00 -2.02209134e+00  4.51064687e+00\n",
      "   4.66863974e+00 -1.84077009e+00  2.40009069e-01 -4.98115650e+00\n",
      "  -6.68148849e+00 -1.66381806e+00 -7.20413386e-01  2.23971260e+00\n",
      "   3.15720543e+00 -4.99514241e+00  5.00501533e-01  1.49008397e-01\n",
      "  -5.61815302e+00 -3.85538433e-01 -2.64226046e+00  2.99003776e+00\n",
      "  -2.28992919e+00 -5.59176020e+00 -1.78334893e+00 -3.05515409e+00\n",
      "  -1.28837455e+00 -1.27138260e+00 -9.03924279e+00 -2.12045723e+00\n",
      "   9.17272432e+00 -1.31155382e+00  3.50260197e+00  2.38021879e+00\n",
      "   2.64712114e+00  3.68067943e+00 -3.09773963e+00  9.54219948e+00\n",
      "  -1.70578325e+00  1.82862353e+00  7.51421234e-01 -4.58379733e-01\n",
      "   1.14998554e+00 -1.42628522e+00  2.61408317e+00 -1.01128505e+00\n",
      "  -2.39313533e+00  2.61394335e-01  1.10779168e+00  9.02009174e-01\n",
      "   1.97125202e+00  5.13606436e-01  3.35026812e+00  1.79524216e+00\n",
      "  -9.69317455e-02  1.43463655e+00  4.59936746e-02  2.61459073e-01\n",
      "  -2.24285004e+00 -2.16040093e+00  8.57733133e-01 -9.59299770e-01\n",
      "  -6.78181748e-01  1.74508781e+00 -4.91816778e-01  6.49031439e-01\n",
      "   1.18247758e+00 -7.89781752e-01  2.07985178e+00 -1.92875953e+00\n",
      "  -9.33410573e-01  1.17749371e+00  9.39854754e-01  9.13087644e-01\n",
      "   6.97648526e+00 -1.63777512e+00  1.13649787e+00 -8.12293290e-01\n",
      "  -3.20886395e-01  9.89847236e-01  1.28765973e-01 -1.41078120e+00\n",
      "   8.24901291e-01 -1.28158888e+00  4.71927302e+00 -8.87179263e-01\n",
      "  -4.39163517e-01 -3.74867093e-01  1.59322648e+00  2.95013162e-01\n",
      "  -4.71797442e-01 -2.06560662e+00  3.98776577e+00 -5.80076859e-01\n",
      "  -2.06994598e+00  4.33209260e-01  9.11650971e-01 -2.11607005e-01\n",
      "   6.41515399e-01  1.10415043e+00  1.37881584e+00 -3.38753479e+00\n",
      "  -2.03232806e-01 -1.35455210e-02 -8.66097792e-02 -1.81450319e-01\n",
      "  -1.72403475e-01 -7.87055587e-02  4.16049882e-01 -1.57660174e-01\n",
      "  -5.54148625e-02 -1.82976044e-01  2.25871641e-01  1.33205904e-01\n",
      "   1.04142810e-01 -2.04470746e-02  2.72461196e-01  1.47498247e-01\n",
      "   1.62063845e-01  4.37793254e-02 -2.23169683e-01  2.08517862e-01\n",
      "  -1.08432471e-01 -5.82430417e-02  3.30105591e-01 -1.53880439e-01\n",
      "  -1.39478272e-02  7.17311836e-02 -2.37054581e-01  1.80286767e-02\n",
      "  -4.15235641e-01  2.50635285e-01  2.80506684e-01  7.91346518e-02\n",
      "   3.96510867e-02  1.06799768e-02 -2.02171262e-01 -1.61719387e-01\n",
      "  -1.17381259e+00 -1.62409024e-01  1.29740082e-01  3.30004537e-02\n",
      "   2.02440818e-01  2.05826720e-01 -1.99933510e-01  2.71502814e-01\n",
      "  -3.95152980e-02  1.41819089e-01  1.17628112e-01 -2.35153305e-02\n",
      "  -9.82458197e-03 -9.28043703e-02 -1.99404891e-01 -1.07887018e-01\n",
      "   6.50519773e-02  1.40335158e-01 -5.82868332e-03 -1.71205471e-01\n",
      "   2.47948754e-01 -2.57347781e-01 -1.67127296e-01  2.01058096e-01\n",
      "  -2.12744365e-01 -7.07248340e-02  1.89872559e-02 -1.91820941e-01\n",
      "   1.24920749e-01 -4.55626543e-01  5.41121002e-02 -4.09065715e-02\n",
      "   2.28256873e-01 -9.10241394e-03 -6.08447488e-01 -3.85746416e-01\n",
      "  -3.38488950e-01 -7.60611246e-01 -4.01969280e-01 -5.93283365e-01\n",
      "  -4.71252549e-01 -1.48086781e-01 -9.16139243e-01 -6.12917733e-01\n",
      "   2.95113263e-02 -3.50235682e-01 -5.46339572e-02  5.98474720e-02\n",
      "   1.91028351e-01  1.01855269e-01 -3.20573383e-01 -5.26650834e-02\n",
      "   1.79592231e-01 -6.39890271e-01 -4.79759992e-01 -3.63006840e-01\n",
      "  -5.43249847e-01  2.47366278e-01 -2.48979104e-01 -6.49401831e-02\n",
      "   1.17751453e-01 -5.21433180e-01  2.63880717e-02 -7.05213058e-01\n",
      "  -2.15543733e+00 -1.46228712e-01 -1.78998335e-01 -2.80666611e-01\n",
      "  -3.03229547e-01 -3.78374929e-01 -2.49992413e-01 -2.83628678e-01\n",
      "  -1.31263212e+00 -5.25614609e-01 -2.50195805e-01  8.85405602e-02\n",
      "  -2.88986376e-01 -7.67922078e-01 -6.60424717e-01 -2.80072828e-01\n",
      "  -3.34527453e-01 -1.49576157e-01 -8.98580933e-01 -3.35990155e-01\n",
      "   1.30003466e-01 -2.38402224e-01 -5.64820626e-02  2.64559464e-01\n",
      "  -1.22655672e-01  1.69824100e-01 -4.91190523e-01  2.69640864e-03\n",
      "   3.79280903e+00 -6.29610170e-01  9.34643622e-01  6.83829939e-01\n",
      "   2.36228665e-01  7.15851978e-01 -5.28886679e-02  4.04462709e+00\n",
      "   1.16274668e-01 -1.44017386e+00 -1.16102790e+00 -9.09925008e-01\n",
      "  -6.06454495e-01 -9.09475889e-01 -8.99972174e-01 -3.74273006e-01\n",
      "   6.33723466e-01 -8.97455555e-01 -6.72475154e-02  9.64130267e-02\n",
      "  -1.22937149e-01 -1.52457583e-01 -6.73598787e-01  9.62459723e-01\n",
      "   3.00030285e-01 -1.52318903e+00 -2.39049576e-01 -1.47725281e-01\n",
      "  -5.41678143e-01 -1.08421954e+00 -4.68823657e-01  4.08243133e-01\n",
      "   2.23227668e-01 -1.14345271e+00 -3.52262414e-01 -4.80278870e-01\n",
      "   3.03965855e+00 -1.11761979e+00 -1.20430412e+00  6.86382120e-01\n",
      "   1.42705677e+00 -7.68334765e-01  5.89300888e-03 -2.04874932e-01\n",
      "   4.03908363e-01 -5.80850752e-01 -1.12321404e+00  8.23831653e-01\n",
      "  -6.53215880e-01 -1.52896147e+00 -1.89375236e-01 -1.08524684e+00\n",
      "  -9.50951255e-01 -5.82334660e-01 -1.87002747e+00 -2.01492561e-01\n",
      "   4.54776295e+00 -3.58248806e-01  9.27157364e-01  8.30576245e-02\n",
      "   3.66823000e-01  1.15866039e-01 -1.81034258e-01  3.99581794e+00]]\n"
     ]
    }
   ],
   "source": [
    "print(log_classifier.coef_.shape)\n",
    "print(log_classifier.coef_.max(), log_classifier.coef_.min())\n",
    "print(log_classifier.coef_)"
   ]
  },
  {
   "cell_type": "code",
   "execution_count": null,
   "metadata": {},
   "outputs": [],
   "source": [
    "train_metric = Metric()\n",
    "\n",
    "for x, y in Train_Data.iterate_data(norm=True):\n",
    "    x = x.reshape((1, -1))\n",
    "    \n",
    "    # record metric\n",
    "    pred = log_classifier.predict(x)\n",
    "    train_metric.accumulate(np.array([pred]), np.array([y]))\n",
    "    \n",
    "train_metric.print_info()"
   ]
  },
  {
   "cell_type": "code",
   "execution_count": null,
   "metadata": {},
   "outputs": [],
   "source": [
    "test_metric = Metric()\n",
    "\n",
    "for x, y in Test_Data.iterate_data(norm=True):\n",
    "    x = x.reshape((1, -1))\n",
    "    \n",
    "    # record metric\n",
    "    pred = log_classifier.predict(x)\n",
    "    test_metric.accumulate(np.array([pred]), np.array([y]))\n",
    "    \n",
    "test_metric.print_info()"
   ]
  },
  {
   "cell_type": "markdown",
   "metadata": {},
   "source": [
    "Load whole dataset"
   ]
  },
  {
   "cell_type": "code",
   "execution_count": 11,
   "metadata": {},
   "outputs": [],
   "source": [
    "path_raw_image = \"../../Data/090085/090085_20170531.h5\"\n",
    "path_road_mask = \"../../Data/090085/Road_Data/motor_trunk_pri_sec_tert_uncl_track/motor_trunk_pri_sec_tert_uncl_track.tif\"\n",
    "\n",
    "raw_image = np.array(h5py.File(path_raw_image)['scene'])\n",
    "road_mask = skimage.io.imread(path_road_mask)"
   ]
  },
  {
   "cell_type": "markdown",
   "metadata": {},
   "source": [
    "Predict road prob masks"
   ]
  },
  {
   "cell_type": "code",
   "execution_count": null,
   "metadata": {},
   "outputs": [
    {
     "name": "stdout",
     "output_type": "stream",
     "text": [
      "[0 1] 1\n"
     ]
    },
    {
     "name": "stderr",
     "output_type": "stream",
     "text": [
      "/home/admin-u6142160/anaconda3/lib/python3.6/site-packages/sklearn/linear_model/base.py:340: RuntimeWarning: overflow encountered in exp\n",
      "  np.exp(prob, prob)\n"
     ]
    }
   ],
   "source": [
    "index = np.where(log_classifier.classes_ == 1)[0][0]\n",
    "print(log_classifier.classes_, index)\n",
    "\n",
    "pred_road = np.zeros(train_road_mask.shape)\n",
    "for coord, patch in Train_Data.iterate_raw_image_patches_with_coord(norm=True):\n",
    "    patch = patch.reshape([1,-1])\n",
    "    \n",
    "    pred_road[int(coord[0]+width/2), int(coord[1]+width/2)] = log_classifier.predict_proba(patch)[0, index]"
   ]
  },
  {
   "cell_type": "code",
   "execution_count": 14,
   "metadata": {},
   "outputs": [],
   "source": [
    "prediction_name = model_name + '_pred.h5'\n",
    "\n",
    "h5f_file = h5py.File(model_path + prediction_name, 'w')\n",
    "h5f_file.create_dataset (name='pred_road', data=pred_road)\n",
    "h5f_file.close()"
   ]
  },
  {
   "cell_type": "markdown",
   "metadata": {},
   "source": [
    "Load prediction"
   ]
  },
  {
   "cell_type": "code",
   "execution_count": 6,
   "metadata": {},
   "outputs": [],
   "source": [
    "# restore prediction \n",
    "prediction_name = model_name + '_pred.h5'\n",
    "\n",
    "h5f_file  = h5py.File(model_path + prediction_name, 'r')\n",
    "pred_road = np.array(h5f_file['pred_road'])\n",
    "h5f_file.close()"
   ]
  },
  {
   "cell_type": "markdown",
   "metadata": {},
   "source": [
    "Analyze pred"
   ]
  },
  {
   "cell_type": "code",
   "execution_count": null,
   "metadata": {
    "scrolled": true
   },
   "outputs": [],
   "source": [
    "print(pred_road.min(), pred_road.max(), pred_road.mean())\n",
    "plt.hist(x=pred_road.flatten(), bins=100, histtype='step')\n",
    "plt.show()\n",
    "plt.close()\n",
    "plt.hist(x=pred_road[np.where(pred_road>0)].flatten(), bins=100, histtype='step')\n",
    "plt.show()\n",
    "plt.close()"
   ]
  },
  {
   "cell_type": "code",
   "execution_count": null,
   "metadata": {
    "scrolled": false
   },
   "outputs": [],
   "source": [
    "show_pred_prob_with_raw(train_raw_image, pred_road, train_road_mask, pred_weight=0.2, figsize=(50,50), \n",
    "                        show_plot=True)\n",
    "#                         save_path=model_path + 'Analysis/prob_road_on_raw - 0_1.png')"
   ]
  },
  {
   "cell_type": "markdown",
   "metadata": {},
   "source": [
    "Analyze log pred"
   ]
  },
  {
   "cell_type": "code",
   "execution_count": 8,
   "metadata": {},
   "outputs": [
    {
     "name": "stdout",
     "output_type": "stream",
     "text": [
      "-9.999999505838704e-08 16.11809565095832 0.5997394716039092\n",
      "0.0 1.0 0.037209083558657895\n"
     ]
    }
   ],
   "source": [
    "log_pred = -np.log(-pred_road + 1 + 1e-7)\n",
    "print(log_pred.min(), log_pred.max(), log_pred.mean())\n",
    "\n",
    "norm_log_pred = (log_pred - log_pred.min()) / (log_pred.max()-log_pred.min())\n",
    "print(norm_log_pred.min(), norm_log_pred.max(), norm_log_pred.mean())"
   ]
  },
  {
   "cell_type": "code",
   "execution_count": null,
   "metadata": {},
   "outputs": [],
   "source": [
    "show_pred_prob_with_raw(raw_image, norm_log_pred,\n",
    "                        true_road=road_mask, pred_weight=0.2, figsize=(150,150), show_plot=False,\n",
    "                        save_path=model_path + 'Analysis/log_prob_on_raw - 0_2.png')"
   ]
  },
  {
   "cell_type": "code",
   "execution_count": null,
   "metadata": {},
   "outputs": [],
   "source": [
    "plt.imshow(np.array([[0,0.1,0.2,0.3,0.4,0.5,0.6,0.7,0.8,0.9,1]]), cmap='hot')\n",
    "plt.show()\n",
    "plt.figure(figsize=(100,100))\n",
    "plt.imshow(pred_road, cmap=plt.get_cmap('hot'))\n",
    "plt.show()\n",
    "plt.close()"
   ]
  },
  {
   "cell_type": "code",
   "execution_count": null,
   "metadata": {},
   "outputs": [],
   "source": [
    "plt.imshow(np.array([[0,0.1,0.2,0.3,0.4,0.5,0.6,0.7,0.8,0.9,1]]), cmap='hot')\n",
    "plt.show()\n",
    "plt.figure(figsize=(100,100))\n",
    "plt.imshow(np.log(pred_road + 1e-9), cmap='hot')\n",
    "plt.show()\n",
    "plt.close()"
   ]
  },
  {
   "cell_type": "code",
   "execution_count": null,
   "metadata": {},
   "outputs": [],
   "source": []
  }
 ],
 "metadata": {
  "kernelspec": {
   "display_name": "Python 3",
   "language": "python",
   "name": "python3"
  },
  "language_info": {
   "codemirror_mode": {
    "name": "ipython",
    "version": 3
   },
   "file_extension": ".py",
   "mimetype": "text/x-python",
   "name": "python",
   "nbconvert_exporter": "python",
   "pygments_lexer": "ipython3",
   "version": "3.6.4"
  }
 },
 "nbformat": 4,
 "nbformat_minor": 2
}
