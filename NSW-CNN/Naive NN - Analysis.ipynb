{
 "cells": [
  {
   "cell_type": "code",
   "execution_count": 1,
   "metadata": {
    "collapsed": true
   },
   "outputs": [],
   "source": [
    "import tensorflow as tf\n",
    "import h5py\n",
    "import sys\n",
    "sys.path.append(\"../Data_Preprocessing/\")\n",
    "from Preprocess_Utilities import *"
   ]
  },
  {
   "cell_type": "code",
   "execution_count": 3,
   "metadata": {},
   "outputs": [
    {
     "name": "stdout",
     "output_type": "stream",
     "text": [
      "INFO:tensorflow:Restoring parameters from ./Result/models/res_serv_road_livi/res_serv_road_livi\n"
     ]
    }
   ],
   "source": [
    "# restore trained model & training info into session\n",
    "sess = tf.InteractiveSession()\n",
    "\n",
    "saver = tf.train.import_meta_graph('./Result/models/res_serv_road_livi/res_serv_road_livi.meta')\n",
    "saver.restore(sess, tf.train.latest_checkpoint('./Result/models/res_serv_road_livi/'))\n",
    "\n",
    "training_info = h5py.File('./Result/models/res_serv_road_livi/training_info.h5')\n",
    "train_index = training_info['train_index']\n",
    "test_index = training_info['test_index']"
   ]
  },
  {
   "cell_type": "code",
   "execution_count": 4,
   "metadata": {},
   "outputs": [
    {
     "name": "stdout",
     "output_type": "stream",
     "text": [
      "(64, 5488) (64,) (64, 28, 28)\n",
      "(86833, 5488) (86833,) (86833, 28, 28)\n"
     ]
    }
   ],
   "source": [
    "# read in & re-construct training/test set\n",
    "data_path = '../Data/090085/Road_Data/res_serv_road_livi/patch_set.h5'\n",
    "data = h5py.File(data_path, 'r')\n",
    "X = np.array(data['image_patch'])\n",
    "Y = np.array(data['road_existence'])\n",
    "Road_patch = np.array(data['road_patch'])\n",
    "data.close()\n",
    "\n",
    "train_x = X[train_index].flatten().reshape((train_index.size, -1))\n",
    "train_y = Y[train_index]\n",
    "train_road_patch = Road_patch[train_index]\n",
    "\n",
    "test_x = X[test_index].flatten().reshape((test_index.size, -1))\n",
    "test_y = Y[test_index]\n",
    "test_road_patch = Road_patch[test_index]\n",
    "\n",
    "print(train_x.shape, train_y.shape, train_road_patch.shape)\n",
    "print(test_x.shape, test_y.shape, test_road_patch.shape)"
   ]
  },
  {
   "cell_type": "code",
   "execution_count": 11,
   "metadata": {},
   "outputs": [],
   "source": [
    "class Metric:\n",
    "    true_neg = 0\n",
    "    false_neg = 0\n",
    "    true_pos = 0\n",
    "    false_pos = 0\n",
    "    size = 0\n",
    "    \n",
    "    def accumulate(self,pred, Y):\n",
    "        true_neg  += np.logical_and(pred == Y, np.logical_not(Y)).sum()\n",
    "        false_neg += np.logical_and(pred != Y, np.logical_not(Y)).sum()\n",
    "        true_pos  += np.logical_and(pred == Y, Y).sum()\n",
    "        false_pos += np.logical_and(pred != Y, Y).sum()\n",
    "        size += Y.size\n",
    "        \n",
    "    def cal_metric(self):\n",
    "        pos_precision = true_pos / (true_pos + false_pos)\n",
    "        pos_recall = true_pos / (true_pos + false_neg)\n",
    "        pos_F1 = 2*(pos_recall*pos_precision) / (pos_recall+pos_precision)\n",
    "        \n",
    "        neg_precision = true_neg / (true_neg + false_neg)\n",
    "        neg_recall = true_neg / (true_neg + false_pos)\n",
    "        neg_F1 = 2*(neg_recall*neg_precision) / (neg_recall+neg_precision)\n",
    "\n",
    "        accuracy = (true_pos + true_neg) / size\n",
    "        \n",
    "        result = {}\n",
    "        if not np.isnan(pos_recall):\n",
    "            result['pos_recall'] = pos_recall\n",
    "        if not np.isnan(pos_precision):\n",
    "            result['pos_precision'] = pos_precision        \n",
    "        if not np.isnan(pos_F1):\n",
    "            result['pos_F1'] = pos_F1\n",
    "        \n",
    "        if not np.isnan(neg_precision):\n",
    "            result['neg_precision'] = neg_precision\n",
    "        if not np.isnan(neg_recall):\n",
    "            result['neg_recall'] = neg_recall\n",
    "        if not np.isnan(neg_F1):\n",
    "            result['neg_F1'] = neg_F1\n",
    "                    \n",
    "        if not np.isnan(accuracy):\n",
    "            result['accuracy'] = (pred == Y).sum()\n",
    "            \n",
    "        return result"
   ]
  },
  {
   "cell_type": "code",
   "execution_count": 12,
   "metadata": {},
   "outputs": [
    {
     "ename": "NameError",
     "evalue": "name 'mu' is not defined",
     "output_type": "error",
     "traceback": [
      "\u001b[1;31m---------------------------------------------------------------------------\u001b[0m",
      "\u001b[1;31mNameError\u001b[0m                                 Traceback (most recent call last)",
      "\u001b[1;32m<ipython-input-12-0c87ea93ab43>\u001b[0m in \u001b[0;36m<module>\u001b[1;34m()\u001b[0m\n\u001b[0;32m     14\u001b[0m         \u001b[0mend\u001b[0m \u001b[1;33m=\u001b[0m \u001b[0mtrain_index\u001b[0m\u001b[1;33m.\u001b[0m\u001b[0msize\u001b[0m\u001b[1;33m\u001b[0m\u001b[0m\n\u001b[0;32m     15\u001b[0m \u001b[1;33m\u001b[0m\u001b[0m\n\u001b[1;32m---> 16\u001b[1;33m     \u001b[0mbatch\u001b[0m \u001b[1;33m=\u001b[0m \u001b[1;33m[\u001b[0m\u001b[1;33m(\u001b[0m\u001b[1;33m(\u001b[0m\u001b[0mtrain_x\u001b[0m\u001b[1;33m[\u001b[0m\u001b[0mstart\u001b[0m\u001b[1;33m:\u001b[0m\u001b[0mend\u001b[0m\u001b[1;33m]\u001b[0m\u001b[1;33m-\u001b[0m\u001b[0mmu\u001b[0m\u001b[1;33m)\u001b[0m\u001b[1;33m/\u001b[0m\u001b[0msigma\u001b[0m\u001b[1;33m)\u001b[0m\u001b[1;33m,\u001b[0m \u001b[0mnp\u001b[0m\u001b[1;33m.\u001b[0m\u001b[0mmatrix\u001b[0m\u001b[1;33m(\u001b[0m\u001b[0mtrain_y\u001b[0m\u001b[1;33m[\u001b[0m\u001b[0mstart\u001b[0m\u001b[1;33m:\u001b[0m\u001b[0mend\u001b[0m\u001b[1;33m]\u001b[0m\u001b[1;33m)\u001b[0m\u001b[1;33m.\u001b[0m\u001b[0mT\u001b[0m\u001b[1;33m]\u001b[0m\u001b[1;33m\u001b[0m\u001b[0m\n\u001b[0m\u001b[0;32m     17\u001b[0m \u001b[1;33m\u001b[0m\u001b[0m\n\u001b[0;32m     18\u001b[0m     \u001b[1;31m# record metric\u001b[0m\u001b[1;33m\u001b[0m\u001b[1;33m\u001b[0m\u001b[0m\n",
      "\u001b[1;31mNameError\u001b[0m: name 'mu' is not defined"
     ]
    }
   ],
   "source": [
    "# predict training & test set\n",
    "\n",
    "# training set\n",
    "train_metric = Metric()\n",
    "train_pred_label = np.zeros(train_index.size)\n",
    "\n",
    "batch_size = 64\n",
    "batch_num = int(train_index.size/batch_size)+1\n",
    "for i in range(batch_num):\n",
    "    start = i%batch_num * batch_size\n",
    "    end = start + batch_size\n",
    "\n",
    "    if end > train_index.size:\n",
    "        end = train_index.size\n",
    "    \n",
    "    batch = [((train_x[start:end]-mu)/sigma), np.matrix(train_y[start:end]).T]\n",
    " \n",
    "    # record metric\n",
    "    pred = prediction.eval(feed_dict={x:batch[0]})\n",
    "    train_metric.accumulate(pred, batch[1])\n",
    "\n",
    "print(train_metric.cal_metric())\n",
    "\n",
    "# test set\n",
    "test_metric = Metric()\n",
    "test_pred_label = np.zeros(test_index.size)\n",
    "\n",
    "batch_size = 64\n",
    "batch_num = int(test_index.size/batch_size)+1\n",
    "for i in range(batch_num):\n",
    "    start = i%batch_num * batch_size\n",
    "    end = start + batch_size\n",
    "\n",
    "    if end > test_index.size:\n",
    "        end = test_index.size\n",
    "    \n",
    "    batch = [((test_x[start:end]-mu)/sigma), np.matrix(test_y[start:end]).T]\n",
    "\n",
    "    # record metric   \n",
    "    pred = prediction.eval(feed_dict={x:batch[0]})\n",
    "    test_metric.accumulate(pred, batch[1])\n",
    "\n",
    "print(test_metric.cal_metric())"
   ]
  },
  {
   "cell_type": "code",
   "execution_count": null,
   "metadata": {
    "collapsed": true
   },
   "outputs": [],
   "source": []
  }
 ],
 "metadata": {
  "kernelspec": {
   "display_name": "Python 3",
   "language": "python",
   "name": "python3"
  },
  "language_info": {
   "codemirror_mode": {
    "name": "ipython",
    "version": 3
   },
   "file_extension": ".py",
   "mimetype": "text/x-python",
   "name": "python",
   "nbconvert_exporter": "python",
   "pygments_lexer": "ipython3",
   "version": "3.5.4"
  }
 },
 "nbformat": 4,
 "nbformat_minor": 2
}
