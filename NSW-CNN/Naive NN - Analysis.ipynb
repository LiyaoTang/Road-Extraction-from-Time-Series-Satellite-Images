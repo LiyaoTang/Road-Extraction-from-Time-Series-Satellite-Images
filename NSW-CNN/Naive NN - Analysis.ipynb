{
 "cells": [
  {
   "cell_type": "code",
   "execution_count": null,
   "metadata": {
    "collapsed": true
   },
   "outputs": [],
   "source": [
    "import tensorflow as tf\n",
    "import sys\n",
    "sys.path.append(\"../Data_Preprocessing/\")\n",
    "from Preprocess_Utilities import *"
   ]
  },
  {
   "cell_type": "code",
   "execution_count": null,
   "metadata": {
    "collapsed": true
   },
   "outputs": [],
   "source": [
    "model_path = './Result/'\n",
    "\n",
    "print(train_pred_neg.shape)\n",
    "print()\n",
    "\n",
    "for i in range(10):\n",
    "    idx = np.random.randint(0, train_pred_neg.size)\n",
    "    patch_idx = train_pred_neg[idx]\n",
    "    while train_y[patch_idx] == 0:\n",
    "        idx = np.random.randint(0, train_pred_neg.size)\n",
    "        patch_idx = train_pred_neg[idx]        \n",
    "    \n",
    "    show_image_against_road(image=train_x[patch_idx].reshape(7, 28, 28), road=train_road_mask[patch_idx],\n",
    "                            size=-1, figsize=(10,10))"
   ]
  }
 ],
 "metadata": {
  "kernelspec": {
   "display_name": "Python 3",
   "language": "python",
   "name": "python3"
  },
  "language_info": {
   "codemirror_mode": {
    "name": "ipython",
    "version": 3
   },
   "file_extension": ".py",
   "mimetype": "text/x-python",
   "name": "python",
   "nbconvert_exporter": "python",
   "pygments_lexer": "ipython3",
   "version": "3.6.2"
  }
 },
 "nbformat": 4,
 "nbformat_minor": 2
}
