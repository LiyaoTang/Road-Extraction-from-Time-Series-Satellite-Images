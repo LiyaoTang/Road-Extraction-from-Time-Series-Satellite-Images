{
 "cells": [
  {
   "cell_type": "code",
   "execution_count": 3,
   "metadata": {},
   "outputs": [],
   "source": [
    "# encoding: utf-8\n",
    "\n",
    "import numpy as np\n",
    "import sklearn as sk\n",
    "import sklearn.linear_model as sklm\n",
    "import sklearn.metrics as skmt\n",
    "import matplotlib\n",
    "import matplotlib.pyplot as plt\n",
    "import scipy.io as sio\n",
    "import skimage.io\n",
    "import h5py\n",
    "import sys\n",
    "import os\n",
    "import gc\n",
    "import os\n",
    "import psutil\n",
    "import re\n",
    "\n",
    "from optparse import OptionParser\n",
    "\n",
    "sys.path.append('../Metric/')\n",
    "sys.path.append('../../Visualization/')\n",
    "sys.path.append('../../Data_Preprocessing/')\n",
    "from Metric import *\n",
    "from Visualization import *\n",
    "from Data_Extractor import *\n",
    "\n",
    "\n",
    "parser = OptionParser()\n",
    "parser.add_option(\"--dir\", dest=\"dir\")\n",
    "(options, args) = parser.parse_args([\"--dir\", \"./Result/\"])\n",
    "\n",
    "log_dir = options.dir"
   ]
  },
  {
   "cell_type": "code",
   "execution_count": 34,
   "metadata": {
    "scrolled": true
   },
   "outputs": [
    {
     "name": "stdout",
     "output_type": "stream",
     "text": [
      "1  :  7-8-9-10_rst\n",
      "{'name': '7-8-9-10_rst', 'rd_type': ['residential', 'service', 'road', 'living_street'], 'train': {'avg_pre': 0.5613416780574223, 'bal_acc': 0.6385928879426754, 'AUC': 0.9165213163184444}, 'val': {'avg_pre': 0.4131386696129125, 'bal_acc': 0.610297710281164, 'AUC': 0.856047943454419}, 'pos_w': 0.039278334900389525, 'neg_w': 0.9607216650996104, 'rd_idx': [7, 8, 9, 10]}\n",
      "\n",
      "2  :  0-1-2-3-4_rst\n",
      "{'name': '0-1-2-3-4_rst', 'rd_type': ['motorway', 'trunk', 'primary', 'secondary', 'tertiary'], 'train': {'avg_pre': 0.42847042400958846, 'bal_acc': 0.5473421406042354, 'AUC': 0.816624329472174}, 'val': {'avg_pre': 0.3379000495517638, 'bal_acc': 0.5378406510848942, 'AUC': 0.7681901358741525}, 'pos_w': 0.11341390574228451, 'neg_w': 0.8865860942577155, 'rd_idx': [0, 1, 2, 3, 4]}\n",
      "\n",
      "3  :  0-1-2-3-4-5_rst\n",
      "{'name': '0-1-2-3-4-5_rst', 'rd_type': ['motorway', 'trunk', 'primary', 'secondary', 'tertiary', 'unclassified'], 'train': {'avg_pre': 0.503084284773963, 'bal_acc': 0.5855526164832994, 'AUC': 0.7628422646960922}, 'val': {'avg_pre': 0.433215921969625, 'bal_acc': 0.5655746723439593, 'AUC': 0.7215464986051106}, 'pos_w': 0.2222409570378923, 'neg_w': 0.7777590429621077, 'rd_idx': [0, 1, 2, 3, 4, 5]}\n",
      "\n",
      "4  :  0-1-2-3-4-5-6_rst\n",
      "{'name': '0-1-2-3-4-5-6_rst', 'rd_type': ['motorway', 'trunk', 'primary', 'secondary', 'tertiary', 'unclassified', 'track'], 'train': {'avg_pre': 0.5733060832783865, 'bal_acc': 0.5966077804666841, 'AUC': 0.7130687511875726}, 'val': {'avg_pre': 0.518024254483839, 'bal_acc': 0.5751248252594678, 'AUC': 0.6708162809477745}, 'pos_w': 0.340175986602384, 'neg_w': 0.659824013397616, 'rd_idx': [0, 1, 2, 3, 4, 5, 6]}\n",
      "\n",
      "5  :  4-5-6_rst\n",
      "{'name': '4-5-6_rst', 'rd_type': ['tertiary', 'unclassified', 'track'], 'train': {'avg_pre': 0.515430294973969, 'bal_acc': 0.563466284339637, 'AUC': 0.7090666045192997}, 'val': {'avg_pre': 0.46020894977012694, 'bal_acc': 0.5482387015819452, 'AUC': 0.6637490172688278}, 'pos_w': 0.2959878598394458, 'neg_w': 0.7040121401605542, 'rd_idx': [4, 5, 6]}\n",
      "\n",
      "6  :  0-1-2-3-7-8-9-10_rst\n",
      "{'name': '0-1-2-3-7-8-9-10_rst', 'rd_type': ['motorway', 'trunk', 'primary', 'secondary', 'residential', 'service', 'road', 'living_street'], 'train': {'avg_pre': 0.5028451048325459, 'bal_acc': 0.5907288340525945, 'AUC': 0.8616866541514442}, 'val': {'avg_pre': 0.3934441011969917, 'bal_acc': 0.5710763373944262, 'AUC': 0.8064951940179736}, 'pos_w': 0.09239153732499221, 'neg_w': 0.9076084626750078, 'rd_idx': [0, 1, 2, 3, 7, 8, 9, 10]}\n",
      "\n",
      "7  :  0-1-2-3-4-5-6-7-8-9-10_rst\n",
      "{'name': '0-1-2-3-4-5-6-7-8-9-10_rst', 'rd_type': ['motorway', 'trunk', 'primary', 'secondary', 'tertiary', 'unclassified', 'track', 'residential', 'service', 'road', 'living_street'], 'train': {'avg_pre': 0.6055290998560163, 'bal_acc': 0.6161593127902345, 'AUC': 0.7209740088689487}, 'val': {'avg_pre': 0.5482046821970828, 'bal_acc': 0.5896478178592653, 'AUC': 0.6764647348727839}, 'pos_w': 0.35624569535856054, 'neg_w': 0.6437543046414395, 'rd_idx': [0, 1, 2, 3, 4, 5, 6, 7, 8, 9, 10]}\n",
      "\n",
      "8  :  0-1-2_rst\n",
      "{'name': '0-1-2_rst', 'rd_type': ['motorway', 'trunk', 'primary'], 'train': {'avg_pre': 0.2955622167894091, 'bal_acc': 0.5266484855739925, 'AUC': 0.8775029440258898}, 'val': {'avg_pre': 0.13629676739323537, 'bal_acc': 0.5093782985517331, 'AUC': 0.801454745993791}, 'pos_w': 0.030899109207145777, 'neg_w': 0.9691008907928542, 'rd_idx': [0, 1, 2]}\n",
      "\n",
      "9  :  0-1-2-7-8-9-10_rst\n",
      "{'name': '0-1-2-7-8-9-10_rst', 'rd_type': ['motorway', 'trunk', 'primary', 'residential', 'service', 'road', 'living_street'], 'train': {'avg_pre': 0.5076569161190019, 'bal_acc': 0.6081472724874969, 'AUC': 0.8803282995284957}, 'val': {'avg_pre': 0.3940988958704444, 'bal_acc': 0.5860113418651165, 'AUC': 0.8275862498808171}, 'pos_w': 0.06326429712528543, 'neg_w': 0.9367357028747145, 'rd_idx': [0, 1, 2, 7, 8, 9, 10]}\n",
      "\n",
      "10  :  0-1-2-3_rst\n",
      "{'name': '0-1-2-3_rst', 'rd_type': ['motorway', 'trunk', 'primary', 'secondary'], 'train': {'avg_pre': 0.35415126776019634, 'bal_acc': 0.5401789853085399, 'AUC': 0.8495691870945339}, 'val': {'avg_pre': 0.24247141868739377, 'bal_acc': 0.5266875461095986, 'AUC': 0.7955789372297049}, 'pos_w': 0.06543054987954149, 'neg_w': 0.9345694501204586, 'rd_idx': [0, 1, 2, 3]}\n",
      "\n",
      "11  :  3-4-5-6_rst\n",
      "{'name': '3-4-5-6_rst', 'rd_type': ['secondary', 'tertiary', 'unclassified', 'track'], 'train': {'avg_pre': 0.546499846122006, 'bal_acc': 0.5773148740957263, 'AUC': 0.7084922490710555}, 'val': {'avg_pre': 0.48912515473693985, 'bal_acc': 0.5593425552351441, 'AUC': 0.6637590573103318}, 'pos_w': 0.32232011957257944, 'neg_w': 0.6776798804274206, 'rd_idx': [3, 4, 5, 6]}\n",
      "\n"
     ]
    }
   ],
   "source": [
    "record_list = []\n",
    "cnt = 0\n",
    "\n",
    "road_type = np.array([\"motorway\", \"trunk\", \"primary\", \"secondary\", \"tertiary\", \"unclassified\", \"track\", # 0-6\n",
    "                      \"residential\", \"service\", \"road\", \"living_street\", # 7-10\n",
    "                      \"all_roads\"]) # 11 \n",
    "\n",
    "for filename in os.listdir(log_dir):\n",
    "    if not filename.endswith('_rst'): continue\n",
    "    cnt += 1\n",
    "    print(cnt, \" : \", filename)\n",
    "\n",
    "    # open file\n",
    "    file = open(log_dir+filename)\n",
    "    log = file.read().split('\\n')\n",
    "    file.close()\n",
    "\n",
    "    # initialization\n",
    "    train_record = {'avg_pre':None, 'bal_acc':None, 'AUC':None}\n",
    "    val_record   = {'avg_pre':None, 'bal_acc':None, 'AUC':None}\n",
    "\n",
    "    record = {}\n",
    "    for n in ['name', 'rd_type']:\n",
    "        record[n] = None\n",
    "    record['train'] = train_record\n",
    "    record['val'] = val_record\n",
    "\n",
    "    # name\n",
    "    record['name'] = filename\n",
    "    \n",
    "    # data info\n",
    "    line = [s for s in log if 'class balance:' in s][0].split()\n",
    "    record['pos_w'] = float(line[3])\n",
    "    record['neg_w'] = float(line[4])\n",
    "    assert line[2] == 'pos='\n",
    "    \n",
    "    # settings\n",
    "    record['rd_idx'] = [int(idx) for idx in filename.split('_')[0].split('-')]\n",
    "    record['rd_type'] = [road_type[idx] for idx in record['rd_idx']]\n",
    "\n",
    "    train_idx = log.index(\"On training set\")\n",
    "    val_idx = log.index(\"On test set\")\n",
    "    \n",
    "    # train set\n",
    "    train_metric = log[train_idx:val_idx]\n",
    "    \n",
    "    line = [s for s in train_metric if 'balanced_accuracy' in s][0].split()\n",
    "    assert line[0] == 'balanced_accuracy'\n",
    "    record['train']['bal_acc'] = float(line[-1])\n",
    "\n",
    "    line = [s for s in train_metric if 'AUC' in s][0].split()\n",
    "    assert line[0] == 'AUC='\n",
    "    record['train']['AUC'] = float(line[1])\n",
    "    assert line[2] == 'avg_precision='\n",
    "    record['train']['avg_pre'] = float(line[-1])\n",
    "    \n",
    "    # validation set\n",
    "    val_metric = log[val_idx:]\n",
    "    \n",
    "    line = [s for s in val_metric if 'balanced_accuracy' in s][0].split()\n",
    "    assert line[0] == 'balanced_accuracy'\n",
    "    record['val']['bal_acc'] = float(line[-1])\n",
    "\n",
    "    line = [s for s in val_metric if 'AUC' in s][0].split()\n",
    "    assert line[0] == 'AUC='\n",
    "    record['val']['AUC'] = float(line[1])\n",
    "    assert line[2] == 'avg_precision='\n",
    "    record['val']['avg_pre'] = float(line[-1])\n",
    "\n",
    "    record_list.append(record)\n",
    "    print(record)\n",
    "    print()"
   ]
  },
  {
   "cell_type": "code",
   "execution_count": 35,
   "metadata": {},
   "outputs": [],
   "source": [
    "sorted_record_list = sorted(record_list, key=lambda r: r['rd_idx'])"
   ]
  },
  {
   "cell_type": "code",
   "execution_count": 41,
   "metadata": {
    "scrolled": false
   },
   "outputs": [
    {
     "name": "stdout",
     "output_type": "stream",
     "text": [
      "road types                                                                       & pos_ratio & bl_acc avg_pre train_AUC | bl_acc avg_pre val_AUC   \\\\ \n",
      "\n",
      "1.& motorway, trunk, primary                                                         & 0.03      & 0.136   & 0.801     \\\\ \n",
      "\n",
      "2.& motorway, trunk, primary, secondary                                              & 0.07      & 0.242   & 0.796     \\\\ \n",
      "\n",
      "3.& motorway, trunk, primary, secondary, tertiary                                    & 0.11      & 0.338   & 0.768     \\\\ \n",
      "\n",
      "4.& motorway, trunk, primary, secondary, tertiary, unclassified                      & 0.22      & 0.433   & 0.722     \\\\ \n",
      "\n",
      "5.& motorway, trunk, primary, secondary, tertiary, unclassified, track               & 0.34      & 0.518   & 0.671     \\\\ \n",
      "\n",
      "6.& motorway, trunk, primary, secondary, tertiary, unclassified, track, residential, service, road, living_street & 0.36      & 0.548   & 0.676     \\\\ \n",
      "\n",
      "7.& motorway, trunk, primary, secondary, residential, service, road, living_street   & 0.09      & 0.393   & 0.806     \\\\ \n",
      "\n",
      "8.& motorway, trunk, primary, residential, service, road, living_street              & 0.06      & 0.394   & 0.828     \\\\ \n",
      "\n",
      "9.& secondary, tertiary, unclassified, track                                         & 0.32      & 0.489   & 0.664     \\\\ \n",
      "\n",
      "10.& tertiary, unclassified, track                                                    & 0.30      & 0.460   & 0.664     \\\\ \n",
      "\n",
      "11.& residential, service, road, living_street                                        & 0.04      & 0.413   & 0.856     \\\\ \n",
      "\n"
     ]
    }
   ],
   "source": [
    "print(\"%-80s & %-9s & %-6s %-7s %-9s | %-6s %-7s %-9s \\\\\\\\ \\n\" % ('road types', 'pos_ratio',\n",
    "                                   'bl_acc', 'avg_pre', 'train_AUC',  \n",
    "                                   'bl_acc', 'avg_pre', 'val_AUC'))\n",
    "for r, cnt in zip(sorted_record_list, range(len(record_list))):\n",
    "    print(\"%d.& %-80s & %-9.2f & %-7.3f & %-9.3f \\\\\\\\ \\n\" % \n",
    "          (cnt+1, ', '.join(r['rd_type']), r['pos_w'],\n",
    "#            r['train']['avg_pre'], r['train']['AUC'], \n",
    "           r['val']['avg_pre'],   r['val']['AUC'])\n",
    "         )"
   ]
  },
  {
   "cell_type": "code",
   "execution_count": null,
   "metadata": {},
   "outputs": [],
   "source": [
    "import re\n",
    "file = open('./norm_T   up_sample   train_acc   recall   val_acc')\n",
    "table = file.read()\n",
    "file.close()"
   ]
  },
  {
   "cell_type": "code",
   "execution_count": null,
   "metadata": {},
   "outputs": [],
   "source": [
    "re.sub('- .* \\\\\\\\', '\\\\\\\\', table)"
   ]
  },
  {
   "cell_type": "code",
   "execution_count": null,
   "metadata": {},
   "outputs": [],
   "source": []
  }
 ],
 "metadata": {
  "kernelspec": {
   "display_name": "Python 3",
   "language": "python",
   "name": "python3"
  },
  "language_info": {
   "codemirror_mode": {
    "name": "ipython",
    "version": 3
   },
   "file_extension": ".py",
   "mimetype": "text/x-python",
   "name": "python",
   "nbconvert_exporter": "python",
   "pygments_lexer": "ipython3",
   "version": "3.6.4"
  }
 },
 "nbformat": 4,
 "nbformat_minor": 2
}
