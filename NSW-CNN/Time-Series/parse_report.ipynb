{
 "cells": [
  {
   "cell_type": "code",
   "execution_count": 1,
   "metadata": {},
   "outputs": [
    {
     "name": "stderr",
     "output_type": "stream",
     "text": [
      "/home/admin-u6142160/anaconda3/lib/python3.6/site-packages/h5py/__init__.py:36: FutureWarning: Conversion of the second argument of issubdtype from `float` to `np.floating` is deprecated. In future, it will be treated as `np.float64 == np.dtype(float).type`.\n",
      "  from ._conv import register_converters as _register_converters\n"
     ]
    }
   ],
   "source": [
    "# encoding: utf-8\n",
    "\n",
    "import numpy as np\n",
    "import sklearn as sk\n",
    "import sklearn.linear_model as sklm\n",
    "import sklearn.metrics as skmt\n",
    "import matplotlib\n",
    "import matplotlib.pyplot as plt\n",
    "import scipy.io as sio\n",
    "import skimage.io\n",
    "import h5py\n",
    "import sys\n",
    "import os\n",
    "import gc\n",
    "import os\n",
    "import psutil\n",
    "import re\n",
    "\n",
    "from optparse import OptionParser\n",
    "\n",
    "sys.path.append('../Metric/')\n",
    "sys.path.append('../../Visualization/')\n",
    "sys.path.append('../../Data_Preprocessing/')\n",
    "from Metric import *\n",
    "from Visualization import *\n",
    "from Data_Extractor import *\n",
    "\n",
    "\n",
    "parser = OptionParser()\n",
    "parser.add_option(\"--dir\", dest=\"dir\")\n",
    "(options, args) = parser.parse_args([\"--dir\", \"./Log/Classifier_Report/\"])\n",
    "\n",
    "log_dir = options.dir"
   ]
  },
  {
   "cell_type": "code",
   "execution_count": 3,
   "metadata": {
    "scrolled": false
   },
   "outputs": [
    {
     "name": "stdout",
     "output_type": "stream",
     "text": [
      "1  :  FCN_64-128-256_1_cat1-32|1-32|1-32_weight_G_x1_p0_e25_r0-13\n",
      "2  :  FCN_64-128-256_1_cat1-32;3-32_weight_G_x1_p0_e25_r0-13\n",
      "3  :  FCN_64-128-256_1_cat1-32;3-32|1-32;3-32_weight_G_x1_p0_e25_r0-13\n",
      "4  :  FCN_32-64-128_1_cat1-32;3-32_weight_G_x1_p0_e25_r0-24\n",
      "not finished ---------------\n",
      "5  :  FCN_32-64-128_1_cat1-32|1-32|1-32_weight_G_x1_p0_e25_r0-24\n",
      "not finished ---------------\n",
      "6  :  FCN_32-64-128_1_cat1-32;3-32|1-32;3-32_weight_G_x1_p0_e25_r0-21\n",
      "not finished ---------------\n"
     ]
    }
   ],
   "source": [
    "def get_metric_on_log(log, record):\n",
    "    line = [s for s in log if ('balanced_acc' in s and 'AUC' in s and 'avg_precision' in s)][0].split()\n",
    "    assert line[0] == 'balanced_acc' and line[3] == 'AUC' and line[6] == 'avg_precision'\n",
    "    \n",
    "    record['BA'] = float(line[2])\n",
    "    record['AUC'] = float(line[5])\n",
    "    record['AP'] = float(line[8])\n",
    "    \n",
    "record_list = []\n",
    "cnt = 0\n",
    "for filename in os.listdir(log_dir):\n",
    "    if 'FCN' not in filename: continue\n",
    "    cnt += 1\n",
    "    print(cnt, \" : \", filename)\n",
    "\n",
    "    # open file\n",
    "    file = open(log_dir+filename)\n",
    "    log = file.read().split('\\n')\n",
    "    file.close()\n",
    "\n",
    "    # initialization\n",
    "    record = {}\n",
    "    record['train'] = {}\n",
    "    record['val'] = {}\n",
    "    record['test'] = {}\n",
    "    \n",
    "    # name\n",
    "    record['name'] = filename\n",
    "\n",
    "    # setting\n",
    "    record['weight'] = filename.find('weight') > 0\n",
    "    if filename.find('_G') > 0:\n",
    "        record['norm_T'] = 'std'\n",
    "    elif filename.find('_m') > 0:\n",
    "        record['norm_T'] = 'mean'\n",
    "    else:\n",
    "        record['norm_T'] = '-'\n",
    "        \n",
    "    record['pos'] = int(filename.split('_p')[1].split('_')[0])\n",
    "    \n",
    "    try:\n",
    "        train_idx = log.index(\"On train set\")    \n",
    "        val_idx = log.index(\"On cv set\")\n",
    "        test_idx = log.index(\"On test set\")\n",
    "    \n",
    "        get_metric_on_log(log[train_idx:val_idx], record['train'])\n",
    "        get_metric_on_log(log[val_idx:test_idx], record['val'])\n",
    "        get_metric_on_log(log[test_idx:], record['test'])\n",
    "\n",
    "#         print(record)\n",
    "        record_list.append(record)\n",
    "    except:\n",
    "        print('not finished ---------------')"
   ]
  },
  {
   "cell_type": "code",
   "execution_count": 40,
   "metadata": {
    "scrolled": true
   },
   "outputs": [
    {
     "data": {
      "text/plain": [
       "[{'name': 'Incep_1-32;3-32|1-64;3-64|1-128;3-128_G_weight_bn_p0_e20_r0',\n",
       "  'norm_T': 'std',\n",
       "  'pos': 0,\n",
       "  'test': {'AP': 0.135486540948, 'AUC': 0.868387400216, 'BA': 0.774516819851},\n",
       "  'train': {'AP': 0.166080926526, 'AUC': 0.837989649055, 'BA': 0.723262533414},\n",
       "  'val': {'AP': 0.207462921733, 'AUC': 0.849917211293, 'BA': 0.753913980101},\n",
       "  'weight': True},\n",
       " {'name': 'Incep_1-32;3-32|1-64;3-64|1-128;3-128_G_weight_p0_e20_r0',\n",
       "  'norm_T': 'std',\n",
       "  'pos': 0,\n",
       "  'test': {'AP': 0.168574325577, 'AUC': 0.892551335581, 'BA': 0.80679835194},\n",
       "  'train': {'AP': 0.221942362963, 'AUC': 0.887395038841, 'BA': 0.799105763522},\n",
       "  'val': {'AP': 0.239194778425, 'AUC': 0.8777221842, 'BA': 0.791626727517},\n",
       "  'weight': True},\n",
       " {'name': 'Incep_1-32|1-64|1-128_G_weight_bn_p0_e20_r0',\n",
       "  'norm_T': 'std',\n",
       "  'pos': 0,\n",
       "  'test': {'AP': 0.0859579050241, 'AUC': 0.824621456639, 'BA': 0.721848467176},\n",
       "  'train': {'AP': 0.0624664779167,\n",
       "   'AUC': 0.724332998824,\n",
       "   'BA': 0.632648114365},\n",
       "  'val': {'AP': 0.13266691129, 'AUC': 0.780008141773, 'BA': 0.683982082512},\n",
       "  'weight': True},\n",
       " {'name': 'Incep_1-32|1-64|1-128_G_weight_p0_e20_r0',\n",
       "  'norm_T': 'std',\n",
       "  'pos': 0,\n",
       "  'test': {'AP': 0.0731160498663, 'AUC': 0.834718435145, 'BA': 0.75640693309},\n",
       "  'train': {'AP': 0.0723166380712,\n",
       "   'AUC': 0.770688272143,\n",
       "   'BA': 0.692603796173},\n",
       "  'val': {'AP': 0.12210769817, 'AUC': 0.764741307454, 'BA': 0.672979110074},\n",
       "  'weight': True},\n",
       " {'name': 'Incep_3-32;1-32|3-64;1-64_G_weight_bn_p0_e20_r0',\n",
       "  'norm_T': 'std',\n",
       "  'pos': 0,\n",
       "  'test': {'AP': 0.123394594888, 'AUC': 0.862733249388, 'BA': 0.779946751952},\n",
       "  'train': {'AP': 0.138347925542, 'AUC': 0.822318544783, 'BA': 0.715325920602},\n",
       "  'val': {'AP': 0.179956641831, 'AUC': 0.835916377078, 'BA': 0.728252182568},\n",
       "  'weight': True},\n",
       " {'name': 'Incep_3-32;1-32|3-64;1-64_G_weight_p0_e20_r0',\n",
       "  'norm_T': 'std',\n",
       "  'pos': 0,\n",
       "  'test': {'AP': 0.112534448649, 'AUC': 0.872706788364, 'BA': 0.785000724928},\n",
       "  'train': {'AP': 0.15385716225, 'AUC': 0.853741991232, 'BA': 0.766741450004},\n",
       "  'val': {'AP': 0.174306009431, 'AUC': 0.842442302277, 'BA': 0.752628407146},\n",
       "  'weight': True},\n",
       " {'name': 'Incep_3-32;1-32|3-64;1-64_m_weight_bn_p0_e20_r0',\n",
       "  'norm_T': 'mean',\n",
       "  'pos': 0,\n",
       "  'test': {'AP': 0.11930085883, 'AUC': 0.838235271398, 'BA': 0.764407672334},\n",
       "  'train': {'AP': 0.147351086983, 'AUC': 0.81506840291, 'BA': 0.715374330724},\n",
       "  'val': {'AP': 0.188773153263, 'AUC': 0.839728398913, 'BA': 0.730168059151},\n",
       "  'weight': True},\n",
       " {'name': 'Incep_3-32|3-64|3-128_G_weight_bn_p0_e20_r0',\n",
       "  'norm_T': 'std',\n",
       "  'pos': 0,\n",
       "  'test': {'AP': 0.153099868601, 'AUC': 0.867339338997, 'BA': 0.779694142198},\n",
       "  'train': {'AP': 0.180325975335, 'AUC': 0.843154816552, 'BA': 0.732801157303},\n",
       "  'val': {'AP': 0.20160454604, 'AUC': 0.839070041734, 'BA': 0.723464711705},\n",
       "  'weight': True},\n",
       " {'name': 'Incep_3-32|3-64|3-128_G_weight_p0_e20_r0',\n",
       "  'norm_T': 'std',\n",
       "  'pos': 0,\n",
       "  'test': {'AP': 0.153369101547, 'AUC': 0.888987828559, 'BA': 0.801528526204},\n",
       "  'train': {'AP': 0.202071045386, 'AUC': 0.877115253773, 'BA': 0.789617845729},\n",
       "  'val': {'AP': 0.231694296023, 'AUC': 0.871575725979, 'BA': 0.785524954908},\n",
       "  'weight': True}]"
      ]
     },
     "execution_count": 40,
     "metadata": {},
     "output_type": "execute_result"
    }
   ],
   "source": [
    "sorted_record_list = sorted(record_list, key=lambda r: (r['name'], r['test']['AUC']))\n",
    "sorted_record_list"
   ]
  },
  {
   "cell_type": "code",
   "execution_count": 33,
   "metadata": {},
   "outputs": [],
   "source": [
    "name_list = ['A', 'C', 'B', 'D']\n",
    "for r, n in zip(sorted_record_list,name_list):\n",
    "    r['label'] = n\n",
    "sorted_record_list = sorted_record_list =sorted(record_list, key=lambda r: (r['label']))"
   ]
  },
  {
   "cell_type": "code",
   "execution_count": 41,
   "metadata": {
    "scrolled": false
   },
   "outputs": [
    {
     "name": "stdout",
     "output_type": "stream",
     "text": [
      "BA: train val test | AP: train val test | AUC: train val test \n",
      "0.723  & 0.754 & 0.775 & 0.166  & 0.207 & 0.135 & 0.838  & 0.850 & 0.868 \\\\ % Incep_1-32;3-32|1-64;3-64|1-128;3-128_G_weight_bn_p0_e20_r0\n",
      "0.799  & 0.792 & 0.807 & 0.222  & 0.239 & 0.169 & 0.887  & 0.878 & 0.893 \\\\ % Incep_1-32;3-32|1-64;3-64|1-128;3-128_G_weight_p0_e20_r0\n",
      "0.633  & 0.684 & 0.722 & 0.062  & 0.133 & 0.086 & 0.724  & 0.780 & 0.825 \\\\ % Incep_1-32|1-64|1-128_G_weight_bn_p0_e20_r0\n",
      "0.693  & 0.673 & 0.756 & 0.072  & 0.122 & 0.073 & 0.771  & 0.765 & 0.835 \\\\ % Incep_1-32|1-64|1-128_G_weight_p0_e20_r0\n",
      "0.715  & 0.728 & 0.780 & 0.138  & 0.180 & 0.123 & 0.822  & 0.836 & 0.863 \\\\ % Incep_3-32;1-32|3-64;1-64_G_weight_bn_p0_e20_r0\n",
      "0.767  & 0.753 & 0.785 & 0.154  & 0.174 & 0.113 & 0.854  & 0.842 & 0.873 \\\\ % Incep_3-32;1-32|3-64;1-64_G_weight_p0_e20_r0\n",
      "0.715  & 0.730 & 0.764 & 0.147  & 0.189 & 0.119 & 0.815  & 0.840 & 0.838 \\\\ % Incep_3-32;1-32|3-64;1-64_m_weight_bn_p0_e20_r0\n",
      "0.733  & 0.723 & 0.780 & 0.180  & 0.202 & 0.153 & 0.843  & 0.839 & 0.867 \\\\ % Incep_3-32|3-64|3-128_G_weight_bn_p0_e20_r0\n",
      "0.790  & 0.786 & 0.802 & 0.202  & 0.232 & 0.153 & 0.877  & 0.872 & 0.889 \\\\ % Incep_3-32|3-64|3-128_G_weight_p0_e20_r0\n"
     ]
    }
   ],
   "source": [
    "print(\"BA: train val test | AP: train val test | AUC: train val test \")\n",
    "for r in sorted_record_list:\n",
    "    print(\"%-6.3f & %-4.3f & %-5.3f & %-6.3f & %-4.3f & %-5.3f & %-6.3f & %-4.3f & %-5.3f \\\\\\\\ %% %s\"  % \n",
    "         (r['train']['BA'], r['val']['BA'], r['test']['BA'],\n",
    "          r['train']['AP'], r['val']['AP'], r['test']['AP'],\n",
    "          r['train']['AUC'], r['val']['AUC'], r['test']['AUC'],\n",
    "          r['name']))"
   ]
  },
  {
   "cell_type": "code",
   "execution_count": 35,
   "metadata": {},
   "outputs": [
    {
     "name": "stdout",
     "output_type": "stream",
     "text": [
      "[array([0., 1., 2.]), array([0.15, 1.15, 2.15]), array([0.3, 1.3, 2.3]), array([0.45, 1.45, 2.45])]\n",
      "Incep_1-32|1-64|1-128_G_weight_bn_p0_e20_r0\n",
      "Incep_3-32|3-64|3-128_G_weight_p0_e20_r0\n",
      "Incep_3-32;1-32|3-64;1-64_m_weight_bn_p0_e20_r0\n",
      "Incep_1-32;3-32|1-64;3-64|1-128;3-128_G_weight_p0_e20_r0\n"
     ]
    },
    {
     "data": {
      "image/png": "[encoded data removed]",
      "text/plain": [
       "<matplotlib.figure.Figure at 0x7fe698187a90>"
      ]
     },
     "metadata": {},
     "output_type": "display_data"
    },
    {
     "name": "stdout",
     "output_type": "stream",
     "text": [
      "[<Container object of 3 artists>, <Container object of 3 artists>, <Container object of 3 artists>, <Container object of 3 artists>]\n",
      "['A', 'B', 'C', 'D']\n"
     ]
    }
   ],
   "source": [
    "file_num = 4\n",
    "width = 0.1\n",
    "key_list = ['BA', 'AP', 'AUC']\n",
    "\n",
    "fig, ax = plt.subplots(figsize=(9.5*1.5,3*1.5))\n",
    "placement = np.arange(len(key_list))\n",
    "placement = [cnt*0.15 + placement for cnt in range(file_num)]\n",
    "print(placement)\n",
    "\n",
    "cnt = 0\n",
    "\n",
    "name_list = []\n",
    "plot_list = []\n",
    "for r in sorted_record_list:\n",
    "\n",
    "    print('%-30s' % (r['name']), end='')\n",
    "    if 'weight' not in r['name']: \n",
    "        print('%20s' % ('--- skip'))\n",
    "        continue\n",
    "    print()\n",
    "    \n",
    "    val_list = []\n",
    "    for key in key_list:\n",
    "        val_list.append(r['test'][key])\n",
    "\n",
    "#     if r['pos'] < 8:\n",
    "#         if r['weight']: name = 'weight'\n",
    "#         else: name = '-'\n",
    "#     elif r['pos'] == 8: name = '0.125'\n",
    "#     elif r['pos'] == 16: name = '0.250'\n",
    "#     elif r['pos'] == 32: name = '0.500'\n",
    "\n",
    "    name = r['label']\n",
    "    name_list.append(name)\n",
    "\n",
    "    plot_list.append(ax.bar(placement[cnt], val_list, width=width))\n",
    "    cnt += 1\n",
    "\n",
    "ax.set_xticks((placement[int(cnt/2)] + placement[int(cnt/2)-1])/2)\n",
    "ax.set_xticklabels(key_list, fontdict={'fontsize': 20})\n",
    "\n",
    "# legend experiment name\n",
    "ax.legend([bar[0] for bar in plot_list], name_list)\n",
    "plt.savefig('./Result/Incep_bar', transparent=True, bbox_inches='tight')\n",
    "plt.show()\n",
    "plt.close()\n",
    "\n",
    "print(plot_list)\n",
    "print(name_list)"
   ]
  },
  {
   "cell_type": "code",
   "execution_count": 18,
   "metadata": {},
   "outputs": [
    {
     "name": "stdout",
     "output_type": "stream",
     "text": [
      "[array([0., 1., 2.]), array([0.15, 1.15, 2.15]), array([0.3, 1.3, 2.3]), array([0.45, 1.45, 2.45])]\n"
     ]
    },
    {
     "data": {
      "text/plain": [
       "array([0.225, 1.225, 2.225])"
      ]
     },
     "execution_count": 18,
     "metadata": {},
     "output_type": "execute_result"
    }
   ],
   "source": [
    "print(placement)\n",
    "(placement[int(cnt/2)] + placement[int(cnt/2)-1])/2"
   ]
  },
  {
   "cell_type": "code",
   "execution_count": 56,
   "metadata": {},
   "outputs": [
    {
     "data": {
      "image/png": "[encoded data removed]",
      "text/plain": [
       "<matplotlib.figure.Figure at 0x7f83fd7d7f60>"
      ]
     },
     "metadata": {},
     "output_type": "display_data"
    }
   ],
   "source": [
    "N = 5\n",
    "men_means = (20, 35, 30, 35, 27)\n",
    "men_std = (2, 3, 4, 1, 2)\n",
    "women_means = (25, 32, 34, 20, 25)\n",
    "women_std = (3, 5, 2, 3, 3)\n",
    "ind = np.arange(N)  # the x locations for the groups\n",
    "width = 0.35       # the width of the bars\n",
    "\n",
    "\n",
    "fig, ax = plt.subplots()\n",
    "\n",
    "plot_list = []\n",
    "plot_list.append(ax.bar(ind, men_means, width, color='r', yerr=men_std))\n",
    "\n",
    "plot_list.append(ax.bar(ind + width, women_means, width, color='y', yerr=women_std))\n",
    "\n",
    "name_list = ['Men', 'Women']\n",
    "ax.legend([bar[0] for bar in plot_list], name_list)\n",
    "\n",
    "\n",
    "plt.show()"
   ]
  },
  {
   "cell_type": "code",
   "execution_count": null,
   "metadata": {},
   "outputs": [],
   "source": []
  },
  {
   "cell_type": "code",
   "execution_count": null,
   "metadata": {},
   "outputs": [],
   "source": []
  }
 ],
 "metadata": {
  "kernelspec": {
   "display_name": "Python 3",
   "language": "python",
   "name": "python3"
  },
  "language_info": {
   "codemirror_mode": {
    "name": "ipython",
    "version": 3
   },
   "file_extension": ".py",
   "mimetype": "text/x-python",
   "name": "python",
   "nbconvert_exporter": "python",
   "pygments_lexer": "ipython3",
   "version": "3.6.4"
  }
 },
 "nbformat": 4,
 "nbformat_minor": 2
}
