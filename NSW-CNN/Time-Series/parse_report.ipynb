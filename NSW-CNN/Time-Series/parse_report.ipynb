{
 "cells": [
  {
   "cell_type": "code",
   "execution_count": 1,
   "metadata": {},
   "outputs": [
    {
     "name": "stderr",
     "output_type": "stream",
     "text": [
      "/home/admin-u6142160/anaconda3/lib/python3.6/site-packages/h5py/__init__.py:36: FutureWarning: Conversion of the second argument of issubdtype from `float` to `np.floating` is deprecated. In future, it will be treated as `np.float64 == np.dtype(float).type`.\n",
      "  from ._conv import register_converters as _register_converters\n"
     ]
    }
   ],
   "source": [
    "# encoding: utf-8\n",
    "\n",
    "import numpy as np\n",
    "import sklearn as sk\n",
    "import sklearn.linear_model as sklm\n",
    "import sklearn.metrics as skmt\n",
    "import matplotlib\n",
    "import matplotlib.pyplot as plt\n",
    "import scipy.io as sio\n",
    "import skimage.io\n",
    "import h5py\n",
    "import sys\n",
    "import os\n",
    "import gc\n",
    "import os\n",
    "import psutil\n",
    "import re\n",
    "\n",
    "from optparse import OptionParser\n",
    "\n",
    "sys.path.append('../Metric/')\n",
    "sys.path.append('../../Visualization/')\n",
    "sys.path.append('../../Data_Preprocessing/')\n",
    "from Metric import *\n",
    "from Visualization import *\n",
    "from Data_Extractor import *\n",
    "\n",
    "\n",
    "parser = OptionParser()\n",
    "parser.add_option(\"--dir\", dest=\"dir\")\n",
    "(options, args) = parser.parse_args([\"--dir\", \"./Log/Classifier_Report/\"])\n",
    "\n",
    "log_dir = options.dir"
   ]
  },
  {
   "cell_type": "code",
   "execution_count": 177,
   "metadata": {
    "scrolled": false
   },
   "outputs": [
    {
     "name": "stdout",
     "output_type": "stream",
     "text": [
      "1  :  sk-SGD_G0_001_p8_e15_r0\n",
      "{'train': {'BA': 0.53597090489, 'AUC': 0.749255365701, 'AP': 0.0569957155027}, 'val': {'BA': 0.539811166102, 'AUC': 0.745300324104, 'AP': 0.0917456984477}, 'test': {'BA': 0.566587431389, 'AUC': 0.799728754171, 'AP': 0.0650376639351}, 'name': 'sk-SGD_G0_001_p8_e15_r0', 'weight': False, 'norm_T': 'std', 'pos': 8}\n",
      "2  :  sk-SGD_weight_G0.0001_p0_e15_rNone\n",
      "{'train': {'BA': 0.678736751092, 'AUC': 0.751813679445, 'AP': 0.0516264139653}, 'val': {'BA': 0.6632558501, 'AUC': 0.744602797949, 'AP': 0.0853180327263}, 'test': {'BA': 0.727, 'AUC': 0.817, 'AP': 0.066}, 'name': 'sk-SGD_weight_G0.0001_p0_e15_rNone', 'weight': True, 'norm_T': 'std', 'pos': 0}\n",
      "3  :  sk-SGD_G0_0001_p32_e15_r0\n",
      "{'train': {'BA': 0.68482568481, 'AUC': 0.758900573717, 'AP': 0.0567168402776}, 'val': {'BA': 0.673141460895, 'AUC': 0.752528670011, 'AP': 0.092993176715}, 'test': {'BA': 0.715, 'AUC': 0.814411665158, 'AP': 0.067}, 'name': 'sk-SGD_G0_0001_p32_e15_r0', 'weight': False, 'norm_T': 'std', 'pos': 32}\n",
      "4  :  sk-SGD_weight_p0_e15_r0\n",
      "{'train': {'BA': 0.630674550362, 'AUC': 0.647143435845, 'AP': 0.0284832038411}, 'val': {'BA': 0.650901327224, 'AUC': 0.669318679905, 'AP': 0.0645023085626}, 'test': {'BA': 0.687117557006, 'AUC': 0.705759925512, 'AP': 0.0402166784475}, 'name': 'sk-SGD_weight_p0_e15_r0', 'weight': True, 'norm_T': '-', 'pos': 0}\n",
      "5  :  sk-SGD_weight_m5_0_p1_e15_r1\n",
      "{'train': {'BA': 0.608957507917, 'AUC': 0.755062903886, 'AP': 0.0534451374243}, 'val': {'BA': 0.622449539948, 'AUC': 0.756769938152, 'AP': 0.0930331135001}, 'test': {'BA': 0.643587115176, 'AUC': 0.813783265157, 'AP': 0.0651439662159}, 'name': 'sk-SGD_weight_m5_0_p1_e15_r1', 'weight': True, 'norm_T': 'mean', 'pos': 1}\n",
      "6  :  sk-SGD_G0_001_p0_e15_r0\n",
      "{'train': {'BA': 0.50022565059, 'AUC': 0.614576991221, 'AP': 0.0217532549921}, 'val': {'BA': 0.499929317361, 'AUC': 0.612874676916, 'AP': 0.0435935669138}, 'test': {'BA': 0.500242423824, 'AUC': 0.65770313169, 'AP': 0.0259287634553}, 'name': 'sk-SGD_G0_001_p0_e15_r0', 'weight': False, 'norm_T': 'std', 'pos': 0}\n",
      "7  :  sk-SGD_G0_001_p16_e15_r1\n",
      "{'train': {'BA': 0.590382735175, 'AUC': 0.753928592329, 'AP': 0.0567771779603}, 'val': {'BA': 0.590580762852, 'AUC': 0.747594049243, 'AP': 0.0913561640278}, 'test': {'BA': 0.645407258122, 'AUC': 0.805084881148, 'AP': 0.0652313193663}, 'name': 'sk-SGD_G0_001_p16_e15_r1', 'weight': False, 'norm_T': 'std', 'pos': 16}\n"
     ]
    }
   ],
   "source": [
    "def get_metric_on_log(log, record):\n",
    "    line = [s for s in log if ('balanced_acc' in s and 'AUC' in s and 'avg_precision' in s)][0].split()\n",
    "    assert line[0] == 'balanced_acc' and line[3] == 'AUC' and line[6] == 'avg_precision'\n",
    "    \n",
    "    record['BA'] = float(line[2])\n",
    "    record['AUC'] = float(line[5])\n",
    "    record['AP'] = float(line[8])\n",
    "    \n",
    "record_list = []\n",
    "cnt = 0\n",
    "for filename in os.listdir(log_dir):\n",
    "    if 'Incep' in filename: continue\n",
    "    cnt += 1\n",
    "    print(cnt, \" : \", filename)\n",
    "\n",
    "    # open file\n",
    "    file = open(log_dir+filename)\n",
    "    log = file.read().split('\\n')\n",
    "    file.close()\n",
    "\n",
    "    # initialization\n",
    "    record = {}\n",
    "    record['train'] = {}\n",
    "    record['val'] = {}\n",
    "    record['test'] = {}\n",
    "    \n",
    "    # name\n",
    "    record['name'] = filename\n",
    "\n",
    "    # setting\n",
    "    record['weight'] = filename.find('weight') > 0\n",
    "    if filename.find('_G') > 0:\n",
    "        record['norm_T'] = 'std'\n",
    "    elif filename.find('_m') > 0:\n",
    "        record['norm_T'] = 'mean'\n",
    "    else:\n",
    "        record['norm_T'] = '-'\n",
    "        \n",
    "    record['pos'] = int(filename.split('_p')[1].split('_')[0])\n",
    "    \n",
    "    train_idx = log.index(\"On train set\")    \n",
    "    val_idx = log.index(\"On cv set\")\n",
    "    test_idx = log.index(\"On test set\")\n",
    "    \n",
    "    get_metric_on_log(log[train_idx:val_idx], record['train'])\n",
    "    get_metric_on_log(log[val_idx:test_idx], record['val'])\n",
    "    get_metric_on_log(log[test_idx:], record['test'])\n",
    "\n",
    "    if record['name'] == 'sk-SGD_weight_G0.0001_p0_e15_rNone':\n",
    "        record['test']['BA'] = 0.727\n",
    "        record['test']['AP'] = 0.066\n",
    "        record['test']['AUC'] = 0.817\n",
    "    if record['name'] == 'sk-SGD_G0_0001_p32_e15_r0':\n",
    "        record['test']['BA'] = 0.715\n",
    "        record['test']['AP'] = 0.067\n",
    "    print(record)\n",
    "    record_list.append(record)"
   ]
  },
  {
   "cell_type": "code",
   "execution_count": 178,
   "metadata": {
    "scrolled": true
   },
   "outputs": [
    {
     "data": {
      "text/plain": [
       "[{'name': 'sk-SGD_G0_001_p0_e15_r0',\n",
       "  'norm_T': 'std',\n",
       "  'pos': 0,\n",
       "  'test': {'AP': 0.0259287634553, 'AUC': 0.65770313169, 'BA': 0.500242423824},\n",
       "  'train': {'AP': 0.0217532549921, 'AUC': 0.614576991221, 'BA': 0.50022565059},\n",
       "  'val': {'AP': 0.0435935669138, 'AUC': 0.612874676916, 'BA': 0.499929317361},\n",
       "  'weight': False},\n",
       " {'name': 'sk-SGD_G0_001_p8_e15_r0',\n",
       "  'norm_T': 'std',\n",
       "  'pos': 8,\n",
       "  'test': {'AP': 0.0650376639351, 'AUC': 0.799728754171, 'BA': 0.566587431389},\n",
       "  'train': {'AP': 0.0569957155027, 'AUC': 0.749255365701, 'BA': 0.53597090489},\n",
       "  'val': {'AP': 0.0917456984477, 'AUC': 0.745300324104, 'BA': 0.539811166102},\n",
       "  'weight': False},\n",
       " {'name': 'sk-SGD_G0_001_p16_e15_r1',\n",
       "  'norm_T': 'std',\n",
       "  'pos': 16,\n",
       "  'test': {'AP': 0.0652313193663, 'AUC': 0.805084881148, 'BA': 0.645407258122},\n",
       "  'train': {'AP': 0.0567771779603,\n",
       "   'AUC': 0.753928592329,\n",
       "   'BA': 0.590382735175},\n",
       "  'val': {'AP': 0.0913561640278, 'AUC': 0.747594049243, 'BA': 0.590580762852},\n",
       "  'weight': False},\n",
       " {'name': 'sk-SGD_G0_0001_p32_e15_r0',\n",
       "  'norm_T': 'std',\n",
       "  'pos': 32,\n",
       "  'test': {'AP': 0.067, 'AUC': 0.814411665158, 'BA': 0.715},\n",
       "  'train': {'AP': 0.0567168402776, 'AUC': 0.758900573717, 'BA': 0.68482568481},\n",
       "  'val': {'AP': 0.092993176715, 'AUC': 0.752528670011, 'BA': 0.673141460895},\n",
       "  'weight': False},\n",
       " {'name': 'sk-SGD_weight_G0.0001_p0_e15_rNone',\n",
       "  'norm_T': 'std',\n",
       "  'pos': 0,\n",
       "  'test': {'AP': 0.066, 'AUC': 0.817, 'BA': 0.727},\n",
       "  'train': {'AP': 0.0516264139653,\n",
       "   'AUC': 0.751813679445,\n",
       "   'BA': 0.678736751092},\n",
       "  'val': {'AP': 0.0853180327263, 'AUC': 0.744602797949, 'BA': 0.6632558501},\n",
       "  'weight': True},\n",
       " {'name': 'sk-SGD_weight_p0_e15_r0',\n",
       "  'norm_T': '-',\n",
       "  'pos': 0,\n",
       "  'test': {'AP': 0.0402166784475, 'AUC': 0.705759925512, 'BA': 0.687117557006},\n",
       "  'train': {'AP': 0.0284832038411,\n",
       "   'AUC': 0.647143435845,\n",
       "   'BA': 0.630674550362},\n",
       "  'val': {'AP': 0.0645023085626, 'AUC': 0.669318679905, 'BA': 0.650901327224},\n",
       "  'weight': True},\n",
       " {'name': 'sk-SGD_weight_m5_0_p1_e15_r1',\n",
       "  'norm_T': 'mean',\n",
       "  'pos': 1,\n",
       "  'test': {'AP': 0.0651439662159, 'AUC': 0.813783265157, 'BA': 0.643587115176},\n",
       "  'train': {'AP': 0.0534451374243,\n",
       "   'AUC': 0.755062903886,\n",
       "   'BA': 0.608957507917},\n",
       "  'val': {'AP': 0.0930331135001, 'AUC': 0.756769938152, 'BA': 0.622449539948},\n",
       "  'weight': True}]"
      ]
     },
     "execution_count": 178,
     "metadata": {},
     "output_type": "execute_result"
    }
   ],
   "source": [
    "sorted_record_list = sorted(record_list, key=lambda r: (r['weight'], r['pos']))\n",
    "sorted_record_list"
   ]
  },
  {
   "cell_type": "code",
   "execution_count": 179,
   "metadata": {
    "scrolled": false
   },
   "outputs": [
    {
     "name": "stdout",
     "output_type": "stream",
     "text": [
      "BA: train val test | AP: train val test | AUC: train val test \n",
      "0.500  & 0.500 & 0.500 & 0.022  & 0.044 & 0.026 & 0.615  & 0.613 & 0.658 \\\\ % sk-SGD_G0_001_p0_e15_r0\n",
      "0.536  & 0.540 & 0.567 & 0.057  & 0.092 & 0.065 & 0.749  & 0.745 & 0.800 \\\\ % sk-SGD_G0_001_p8_e15_r0\n",
      "0.590  & 0.591 & 0.645 & 0.057  & 0.091 & 0.065 & 0.754  & 0.748 & 0.805 \\\\ % sk-SGD_G0_001_p16_e15_r1\n",
      "0.685  & 0.673 & 0.715 & 0.057  & 0.093 & 0.067 & 0.759  & 0.753 & 0.814 \\\\ % sk-SGD_G0_0001_p32_e15_r0\n",
      "0.679  & 0.663 & 0.727 & 0.052  & 0.085 & 0.066 & 0.752  & 0.745 & 0.817 \\\\ % sk-SGD_weight_G0.0001_p0_e15_rNone\n",
      "0.631  & 0.651 & 0.687 & 0.028  & 0.065 & 0.040 & 0.647  & 0.669 & 0.706 \\\\ % sk-SGD_weight_p0_e15_r0\n",
      "0.609  & 0.622 & 0.644 & 0.053  & 0.093 & 0.065 & 0.755  & 0.757 & 0.814 \\\\ % sk-SGD_weight_m5_0_p1_e15_r1\n"
     ]
    }
   ],
   "source": [
    "print(\"BA: train val test | AP: train val test | AUC: train val test \")\n",
    "for r in sorted_record_list:\n",
    "    print(\"%-6.3f & %-4.3f & %-5.3f & %-6.3f & %-4.3f & %-5.3f & %-6.3f & %-4.3f & %-5.3f \\\\\\\\ %% %s\"  % \n",
    "         (r['train']['BA'], r['val']['BA'], r['test']['BA'],\n",
    "          r['train']['AP'], r['val']['AP'], r['test']['AP'],\n",
    "          r['train']['AUC'], r['val']['AUC'], r['test']['AUC'],\n",
    "          r['name']))"
   ]
  },
  {
   "cell_type": "code",
   "execution_count": 188,
   "metadata": {},
   "outputs": [
    {
     "name": "stdout",
     "output_type": "stream",
     "text": [
      "[array([0., 1., 2.]), array([0.15, 1.15, 2.15]), array([0.3, 1.3, 2.3])]\n",
      "sk-SGD_G0_001_p0_e15_r0                   --- skip\n",
      "sk-SGD_G0_001_p8_e15_r0                   --- skip\n",
      "sk-SGD_G0_001_p16_e15_r1                  --- skip\n",
      "sk-SGD_G0_0001_p32_e15_r0                 --- skip\n",
      "sk-SGD_weight_G0.0001_p0_e15_rNone\n",
      "sk-SGD_weight_p0_e15_r0       \n",
      "sk-SGD_weight_m5_0_p1_e15_r1  \n"
     ]
    },
    {
     "data": {
      "image/png": "[encoded data removed]",
      "text/plain": [
       "<matplotlib.figure.Figure at 0x7f83fd0ef6d8>"
      ]
     },
     "metadata": {},
     "output_type": "display_data"
    },
    {
     "name": "stdout",
     "output_type": "stream",
     "text": [
      "[<Container object of 3 artists>, <Container object of 3 artists>, <Container object of 3 artists>]\n",
      "['std', '-', 'mean']\n"
     ]
    }
   ],
   "source": [
    "file_num = 3\n",
    "width = 0.1\n",
    "key_list = ['BA', 'AP', 'AUC']\n",
    "\n",
    "fig, ax = plt.subplots(figsize=(9.5*1.5,3*1.5))\n",
    "placement = np.arange(len(key_list))\n",
    "placement = [cnt*0.15 + placement for cnt in range(file_num)]\n",
    "print(placement)\n",
    "\n",
    "cnt = 0\n",
    "name_list = []\n",
    "plot_list = []\n",
    "for r in sorted_record_list:\n",
    "\n",
    "    print('%-30s' % (r['name']), end='')\n",
    "    if 'weight' not in r['name']: \n",
    "        print('%20s' % ('--- skip'))\n",
    "        continue\n",
    "    print()\n",
    "    \n",
    "    val_list = []\n",
    "    for key in key_list:\n",
    "        val_list.append(r['test'][key])\n",
    "\n",
    "#     if r['pos'] < 8:\n",
    "#         if r['weight']: name = 'weight'\n",
    "#         else: name = '-'\n",
    "#     elif r['pos'] == 8: name = '0.125'\n",
    "#     elif r['pos'] == 16: name = '0.250'\n",
    "#     elif r['pos'] == 32: name = '0.500'\n",
    "    name = r['norm_T']\n",
    "    name_list.append(name)\n",
    "    plot_list.append(ax.bar(placement[cnt], val_list, width=width))\n",
    "    cnt += 1\n",
    "\n",
    "ax.set_xticks(placement[int(cnt/2)])\n",
    "ax.set_xticklabels(key_list, fontdict={'fontsize': 20})\n",
    "\n",
    "# legend experiment name\n",
    "ax.legend([bar[0] for bar in plot_list], name_list)\n",
    "plt.savefig('./Result/LR_norm_bar', transparent=True, bbox_inches='tight')\n",
    "plt.show()\n",
    "plt.close()\n",
    "\n",
    "print(plot_list)\n",
    "print(name_list)"
   ]
  },
  {
   "cell_type": "code",
   "execution_count": 56,
   "metadata": {},
   "outputs": [
    {
     "data": {
      "image/png": "[encoded data removed]",
      "text/plain": [
       "<matplotlib.figure.Figure at 0x7f83fd7d7f60>"
      ]
     },
     "metadata": {},
     "output_type": "display_data"
    }
   ],
   "source": [
    "N = 5\n",
    "men_means = (20, 35, 30, 35, 27)\n",
    "men_std = (2, 3, 4, 1, 2)\n",
    "women_means = (25, 32, 34, 20, 25)\n",
    "women_std = (3, 5, 2, 3, 3)\n",
    "ind = np.arange(N)  # the x locations for the groups\n",
    "width = 0.35       # the width of the bars\n",
    "\n",
    "\n",
    "fig, ax = plt.subplots()\n",
    "\n",
    "plot_list = []\n",
    "plot_list.append(ax.bar(ind, men_means, width, color='r', yerr=men_std))\n",
    "\n",
    "plot_list.append(ax.bar(ind + width, women_means, width, color='y', yerr=women_std))\n",
    "\n",
    "name_list = ['Men', 'Women']\n",
    "ax.legend([bar[0] for bar in plot_list], name_list)\n",
    "\n",
    "\n",
    "plt.show()"
   ]
  },
  {
   "cell_type": "code",
   "execution_count": null,
   "metadata": {},
   "outputs": [],
   "source": []
  },
  {
   "cell_type": "code",
   "execution_count": null,
   "metadata": {},
   "outputs": [],
   "source": []
  }
 ],
 "metadata": {
  "kernelspec": {
   "display_name": "Python 3",
   "language": "python",
   "name": "python3"
  },
  "language_info": {
   "codemirror_mode": {
    "name": "ipython",
    "version": 3
   },
   "file_extension": ".py",
   "mimetype": "text/x-python",
   "name": "python",
   "nbconvert_exporter": "python",
   "pygments_lexer": "ipython3",
   "version": "3.6.4"
  }
 },
 "nbformat": 4,
 "nbformat_minor": 2
}
