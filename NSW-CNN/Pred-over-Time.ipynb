{
 "cells": [
  {
   "cell_type": "code",
   "execution_count": 1,
   "metadata": {},
   "outputs": [
    {
     "name": "stderr",
     "output_type": "stream",
     "text": [
      "/home/admin-u6142160/anaconda3/lib/python3.6/site-packages/h5py/__init__.py:36: FutureWarning: Conversion of the second argument of issubdtype from `float` to `np.floating` is deprecated. In future, it will be treated as `np.float64 == np.dtype(float).type`.\n",
      "  from ._conv import register_converters as _register_converters\n"
     ]
    }
   ],
   "source": [
    "import numpy as np\n",
    "import tensorflow as tf\n",
    "import sklearn as sk\n",
    "import sklearn.linear_model as sklm\n",
    "import sklearn.metrics as skmt\n",
    "import matplotlib.pyplot as plt\n",
    "import scipy.io as sio\n",
    "import skimage.io\n",
    "import h5py\n",
    "import sys\n",
    "import gc\n",
    "\n",
    "sys.path.append('Metric/')\n",
    "sys.path.append('../Visualization/')\n",
    "sys.path.append('../Data_Preprocessing//')\n",
    "from Metric import *\n",
    "from Visualization import *\n",
    "from Data_Extractor import *\n",
    "from sklearn.externals import joblib"
   ]
  },
  {
   "cell_type": "code",
   "execution_count": 2,
   "metadata": {},
   "outputs": [],
   "source": [
    "# settings\n",
    "classifier_type = 'LR'\n",
    "path_image_dir = \"../Data/090085/\"\n",
    "path_road_mask = \"../Data/090085/Road_Data/motor_trunk_pri_sec_tert_uncl_track/road_mask.tif\"\n",
    "path_model_dir = \"./Segmentation-Central-Pixel/Result/motor_trunk_pri_sec_tert_uncl_track/sklearn/\"\n",
    "model_name = \"sk-SGD_weight_m5_0_p1_e15_r1\"\n",
    "size = 8\n",
    "step = 1\n",
    "\n",
    "block_size = 128\n",
    "\n",
    "use_norm = True\n",
    "if model_name.find(\"_G\") > 0:\n",
    "    norm = \"Gaussian\"\n",
    "elif model_name.find(\"_m\") > 0:\n",
    "    norm = \"mean\"\n",
    "else:\n",
    "    norm = None\n",
    "    use_norm = False\n",
    "    \n",
    "image_list = ['090085_20170531.h5',\n",
    "              '090085_20160528.h5',\n",
    "              '090085_20150526.h5',\n",
    "              '090085_20140523.h5',\n",
    "              '090085_20130520.h5']"
   ]
  },
  {
   "cell_type": "code",
   "execution_count": 3,
   "metadata": {},
   "outputs": [],
   "source": [
    "class Classifier ():\n",
    "    def __init__(self, path, classifier_type):\n",
    "        assert classifier_type in set(['LR', 'FCN'])\n",
    "        self.classifier_type = classifier_type\n",
    "        if classifier_type == 'LR':\n",
    "            self.classifier = joblib.load(path)\n",
    "            self.pos_idx = int(np.where(self.classifier.classes_ == 1)[0])\n",
    "            self.predict = lambda patch: self.classifier.predict_proba(patch.reshape((1, -1)))[0,self.pos_idx]\n",
    "\n",
    "        else: # FCN\n",
    "            saver = tf.train.Saver()\n",
    "            sess = tf.InteractiveSession()\n",
    "            saver.restore(sess, path) # \"/tmp/model.ckpt\"\n",
    "            \n",
    "            graph = tf.get_default_graph()\n",
    "            self.x = graph.get_tensor_by_name(\"input/x:0\")\n",
    "            self.prob_out = graph.get_tensor_by_name(\"prob_out/prob_out:0\")\n",
    "            \n",
    "            self.pos_idx = 1\n",
    "            self.predict = lambda patch: self.prob_out.eval(feed_dict={x: patch.transpose((0, 2, 3, 1)), \n",
    "                                                                       is_training: False})[self.pos_idx]"
   ]
  },
  {
   "cell_type": "code",
   "execution_count": 4,
   "metadata": {},
   "outputs": [],
   "source": [
    "# re-load classifier\n",
    "if classifier_type == 'LR':\n",
    "    is_valid = lambda patch: (patch != -9999).all()\n",
    "    \n",
    "else:\n",
    "    assert classifier_type == 'FCN'\n",
    "    is_valid = lambda patch: ((patch==-9999).sum() / np.prod(np.array(patch.shape))) < 1/100,\n",
    "\n",
    "classifier = Classifier(path_model_dir + model_name, classifier_type)"
   ]
  },
  {
   "cell_type": "code",
   "execution_count": null,
   "metadata": {},
   "outputs": [
    {
     "name": "stdout",
     "output_type": "stream",
     "text": [
      "./Segmentation-Central-Pixel/Result/motor_trunk_pri_sec_tert_uncl_track/sklearn/Time-Series/sk-SGD_weight_m5_0_p1_e15_r1.h5\n",
      "mu =  [ 6.15251388e-05  1.31409052e-05  3.72616606e-05  8.35797834e-05\n",
      " -1.94599085e-05 -9.25174121e-05  1.31593428e-04]\n",
      "(7961, 8091) 090085_20170531.h5 20170531\n",
      "mu =  [ 1.37939874e-04 -1.59259309e-04 -1.82118851e-04  8.99532199e-05\n",
      " -1.81662886e-05  4.14640237e-05  7.96866500e-05]\n",
      "(7961, 8091) 090085_20160528.h5 20160528\n"
     ]
    }
   ],
   "source": [
    "path_pred_in_time = path_model_dir + \"Time-Series/\" + model_name + '.h5'\n",
    "print(path_pred_in_time)\n",
    "\n",
    "for image_name in image_list:\n",
    "    gc.collect()\n",
    "    \n",
    "    # load raw image\n",
    "    image_path = path_image_dir + image_name\n",
    "    h5f = h5py.File(image_path, 'r')\n",
    "    raw_image = np.array(h5f['scene'])\n",
    "    h5f.close()\n",
    "\n",
    "    # check prediction not existing\n",
    "    date = image_name.split('.')[0].split('_')[-1]\n",
    "    h5f = h5py.File(path_pred_in_time, 'w')\n",
    "    if date in set([pred for pred in h5f.items()]):\n",
    "        print(image_path, 'already predicted, skip')\n",
    "        h5f.close()\n",
    "        continue\n",
    "    h5f.close()\n",
    "\n",
    "    # construct extractor\n",
    "    data_extractor = Pred_Data_Extractor(raw_image, step=step, size=size,\n",
    "                                         normalization=norm, is_valid=is_valid)\n",
    "    \n",
    "    # pred on image\n",
    "    pred_road = np.zeros(shape=raw_image[0].shape)\n",
    "    print(pred_road.shape, image_name, date)\n",
    "    if classifier_type == 'LR':\n",
    "        for coord, patch in data_extractor.iterate_raw_image_patches_with_coord(norm=use_norm):\n",
    "            pred_road[coord[0]+int(size/2),coord[1]+int(size/2)] = classifier.predict(patch)\n",
    "    else: # FCN\n",
    "        for coord, patch in data_extractor.iterate_raw_image_patches_with_coord(norm=use_norm):\n",
    "            pred_road[coord[0]:coord[0]+size, coord[1]:coord[1]+size] += classifier.predict(patch)[:,1]\n",
    "            \n",
    "    # save prediction\n",
    "    h5f = h5py.File(path_pred_in_time, 'w')\n",
    "    h5f.create_dataset(name=date, data=pred_road)\n",
    "    h5f.close()"
   ]
  },
  {
   "cell_type": "markdown",
   "metadata": {},
   "source": [
    "Analyze pred along the time"
   ]
  },
  {
   "cell_type": "code",
   "execution_count": null,
   "metadata": {},
   "outputs": [],
   "source": [
    "def get_patch(coord, mask, size):\n",
    "    return mask1[coord[0]:coord[0]+size, coord[1]:coord[1]+size]"
   ]
  },
  {
   "cell_type": "code",
   "execution_count": null,
   "metadata": {
    "scrolled": true
   },
   "outputs": [],
   "source": [
    "# load road mask\n",
    "road_mask = skimage.io.imread(path_road_mask)\n",
    "road_proba = dict{}\n",
    "\n",
    "for image_name in image_list:\n",
    "    gc.collect()\n",
    "\n",
    "    # restore prediction \n",
    "    date = image_name.split('.')[0].split('_')[-1]\n",
    "    h5f.open(path_pred_in_time, 'r')\n",
    "    pred_road = np.array(h5f[date])\n",
    "    h5f.close()\n",
    "\n",
    "    # load raw image\n",
    "    image_path = path_image_dir + image_name\n",
    "    h5f = h5py.File(image_path, 'r')\n",
    "    raw_image = np.array(h5f['scene'])\n",
    "    h5f.close()\n",
    "    \n",
    "    # construct extractor\n",
    "    data_extractor = Pred_Data_Extractor(raw_image, step=block_size, size=block_size,\n",
    "                                         normalization=None, is_valid=lambda patch: True)\n",
    "    assert not (date in road_proba)\n",
    "    road_proba[date] = dict{}\n",
    "    for coord, patch in data_extractor.iterate_raw_image_patches_with_coord(norm=False):\n",
    "        sub_valid_mask = patch[0][0] != -9999\n",
    "        sub_road_mask  = get_patch(coord, road_mask, block_size) == 1\n",
    "        sub_valid_road_mask = np.logical_and(sub_valid_mask, sub_road_mask)\n",
    "        \n",
    "        assert not (coord in road_proba[date])\n",
    "        road_proba[date][coord] = get_patch(coord, pred_road, block_size)[np.where(sub_valid_road_mask)].sum()"
   ]
  },
  {
   "cell_type": "code",
   "execution_count": null,
   "metadata": {},
   "outputs": [],
   "source": [
    "# get coord_list\n",
    "coord_list = sorted(road_proba[date].keys())\n",
    "for image_path in image_list:\n",
    "    date = image_path.split('.')[0].split('_')[-1]\n",
    "    image_path = path_image_dir + image_path\n",
    "    assert ( coord_list == sorted(road_proba[date].keys()) ).all()\n",
    "\n",
    "# get date_list\n",
    "date_list = sorted(road_proba.keys())\n",
    "\n",
    "# construct matrix [date][coord]\n",
    "sorted_road = np.array([[road_proba[date][coord] for coord in coord_list]\n",
    "                        for date in date_list])\n",
    "\n",
    "# plot proba by date\n",
    "for row, coord in zip((sorted_road.T), coord_list):\n",
    "    plt.plot(row, label=str(coord))\n",
    "plt.legend()\n",
    "plt.show()"
   ]
  },
  {
   "cell_type": "code",
   "execution_count": null,
   "metadata": {},
   "outputs": [],
   "source": [
    "show_pred_prob_with_raw(raw_image, pred_road, pred_weight=0.3, figsize=(50,50), \n",
    "                        show_plot=True)\n",
    "#                         save_path=model_path + 'Analysis/prob_road_on_raw - 0_1.png')"
   ]
  },
  {
   "cell_type": "markdown",
   "metadata": {},
   "source": [
    "Analyze log pred"
   ]
  },
  {
   "cell_type": "code",
   "execution_count": null,
   "metadata": {
    "scrolled": true
   },
   "outputs": [],
   "source": [
    "log_pred = -np.log(-pred_road + 1 + 1e-7)\n",
    "print(log_pred.min(), log_pred.max(), log_pred.mean())\n",
    "\n",
    "norm_log_pred = (log_pred - log_pred.min()) / (log_pred.max()-log_pred.min())\n",
    "print(norm_log_pred.min(), norm_log_pred.max(), norm_log_pred.mean())\n",
    "\n",
    "plt.hist(x=norm_log_pred.flatten(), bins=100, histtype='step')\n",
    "plt.show()\n",
    "plt.close()\n",
    "plt.hist(x=norm_log_pred[np.where(norm_log_pred>0)].flatten(), bins=100, histtype='step')\n",
    "plt.show()\n",
    "plt.close()"
   ]
  },
  {
   "cell_type": "code",
   "execution_count": null,
   "metadata": {},
   "outputs": [],
   "source": [
    "path_road = \"../Data/090085/Road_Data/motor_trunk_pri_sec_tert_uncl_track/road_mask.tif\"\n",
    "road_mask = skimage.io.imread(path_road)"
   ]
  },
  {
   "cell_type": "code",
   "execution_count": null,
   "metadata": {},
   "outputs": [],
   "source": [
    "show_pred_road_against_raw(raw_image, norm_log_pred, road_mask, threshold=0.40, figsize=(150,150), show_plot=False,\n",
    "                        save_path=\"123\")\n",
    "gc.collect()"
   ]
  },
  {
   "cell_type": "code",
   "execution_count": null,
   "metadata": {},
   "outputs": [],
   "source": [
    "plt.imshow(np.array([[0,0.1,0.2,0.3,0.4,0.5,0.6,0.7,0.8,0.9,1]]), cmap='hot')\n",
    "plt.show()\n",
    "plt.figure(figsize=(100,100))\n",
    "plt.imshow(pred_road, cmap=plt.get_cmap('hot'))\n",
    "plt.show()\n",
    "plt.close()"
   ]
  },
  {
   "cell_type": "code",
   "execution_count": null,
   "metadata": {},
   "outputs": [],
   "source": [
    "plt.imshow(np.array([[0,0.1,0.2,0.3,0.4,0.5,0.6,0.7,0.8,0.9,1]]), cmap='hot')\n",
    "plt.show()\n",
    "plt.figure(figsize=(100,100))\n",
    "plt.imshow(np.log(pred_road + 1e-9), cmap='hot')\n",
    "plt.show()\n",
    "plt.close()"
   ]
  },
  {
   "cell_type": "code",
   "execution_count": null,
   "metadata": {},
   "outputs": [],
   "source": []
  }
 ],
 "metadata": {
  "kernelspec": {
   "display_name": "Python 3",
   "language": "python",
   "name": "python3"
  },
  "language_info": {
   "codemirror_mode": {
    "name": "ipython",
    "version": 3
   },
   "file_extension": ".py",
   "mimetype": "text/x-python",
   "name": "python",
   "nbconvert_exporter": "python",
   "pygments_lexer": "ipython3",
   "version": "3.6.4"
  }
 },
 "nbformat": 4,
 "nbformat_minor": 2
}
