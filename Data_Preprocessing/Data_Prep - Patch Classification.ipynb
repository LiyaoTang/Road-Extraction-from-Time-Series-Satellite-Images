{
 "cells": [
  {
   "cell_type": "code",
   "execution_count": 1,
   "metadata": {},
   "outputs": [
    {
     "name": "stderr",
     "output_type": "stream",
     "text": [
      "/home/admin-u6142160/anaconda3/lib/python3.6/site-packages/h5py/__init__.py:36: FutureWarning: Conversion of the second argument of issubdtype from `float` to `np.floating` is deprecated. In future, it will be treated as `np.float64 == np.dtype(float).type`.\n",
      "  from ._conv import register_converters as _register_converters\n"
     ]
    }
   ],
   "source": [
    "import numpy as np\n",
    "import matplotlib.pyplot as plt\n",
    "import matplotlib.image as mpimg\n",
    "import h5py\n",
    "import scipy.io as sio\n",
    "import skimage.io\n",
    "\n",
    "from Preprocess_Utilities import *"
   ]
  },
  {
   "cell_type": "code",
   "execution_count": 2,
   "metadata": {},
   "outputs": [],
   "source": [
    "# data path\n",
    "route_path = \"../Data/090085/\"\n",
    "road_type = np.array([\"motorway\", \"trunk\", \"primary\", \"secondary\", \"tertiary\", \"unclassified\", \"track\", # 0-6\n",
    "                      \"residential\", \"service\", \"road\", \"living_street\", # 7-10\n",
    "                      \"all_roads\"]) # 11 \n",
    "#                       \"motor_trunk_pri_sec_tert_uncl_track\", \"motor_trunk_pri_sec_tert_uncl\"]) # 12-13\n",
    "\n",
    "path_raw_image = route_path + \"090085_20170531.h5\"\n",
    "path_road_mask = np.char.add(np.char.add(np.char.add(route_path+\"Road_Data/\",road_type),\n",
    "                                         np.char.add('/', road_type)), '.tif')"
   ]
  },
  {
   "cell_type": "code",
   "execution_count": 3,
   "metadata": {},
   "outputs": [
    {
     "name": "stdout",
     "output_type": "stream",
     "text": [
      "0 motorway.tif\n",
      "1 trunk.tif\n",
      "2 primary.tif\n",
      "3 secondary.tif\n",
      "4 tertiary.tif\n",
      "5 unclassified.tif\n",
      "6 track.tif\n",
      "7 residential.tif\n",
      "8 service.tif\n",
      "9 road.tif\n",
      "10 living_street.tif\n",
      "11 all_roads.tif\n"
     ]
    }
   ],
   "source": [
    "# read in raw image\n",
    "raw_image = np.array(h5py.File(path_raw_image)['scene'])\n",
    "\n",
    "# read in road mask\n",
    "road_img_list = []\n",
    "cnt = 0\n",
    "for cur_path in path_road_mask:\n",
    "    print(cnt, cur_path.split('/')[-1])\n",
    "    cnt += 1\n",
    "    road_img_list.append(skimage.io.imread(cur_path))\n",
    "\n",
    "road_img_list = np.array(road_img_list)\n",
    "\n",
    "# assert 0-1 coding\n",
    "assert (np.logical_or(road_img_list == 1, road_img_list == 0)).all()"
   ]
  },
  {
   "cell_type": "code",
   "execution_count": null,
   "metadata": {},
   "outputs": [],
   "source": [
    "print(type(raw_image), raw_image.shape)\n",
    "print(type(road_img_list), road_img_list.shape)"
   ]
  },
  {
   "cell_type": "code",
   "execution_count": null,
   "metadata": {},
   "outputs": [],
   "source": [
    "1. motorway, trunk, primary 0.97 0.002 \\\\\n",
    "2. motorway, trunk, primary, secondary 0.92 0.59 \\\\\n",
    "3. motorway, trunk, primary, secondary, tertiary 0.88 0.68 \\\\\n",
    "4. motorway, trunk, primary, secondary, tertiary, unclassified 0.77  0.11 \\\\\n",
    "5*. motorway, trunk, primary, secondary, tertiary, unclassified, track 0.66 0.28 \\\\\n",
    "6. motorway, trunk, primary, secondary, tertiary, unclassified, track, residential, service, road, living street 0.65 0.27 \\\\\n",
    "7. secondary, tertiary, unclassified, track 0.67  0.19 \\\\\n",
    "8. tertiary, unclassified, track 0.69  0.14 \\\\\n",
    "9. residential, service, road, living street 0.96 0.84 \\\\\n",
    "10. motorway, trunk, primary, residential, service, road, living street 0.94 0.15 \\\\\n",
    "11. motorway, trunk, primary, secondary, residential, service, road, living street 0.91 0.13 \\\\\n"
   ]
  },
  {
   "cell_type": "code",
   "execution_count": 4,
   "metadata": {},
   "outputs": [
    {
     "name": "stdout",
     "output_type": "stream",
     "text": [
      "Used labels:\n",
      "../Data/090085/Road_Data/motorway/motorway.tif\n",
      "../Data/090085/Road_Data/trunk/trunk.tif\n",
      "../Data/090085/Road_Data/primary/primary.tif\n",
      "(7961, 8091) True\n"
     ]
    }
   ],
   "source": [
    "# modify the road mask\n",
    "print(\"Used labels:\")\n",
    "combined_road_mask = 0\n",
    "for i in [0,1,2]:\n",
    "    print(path_road_mask[i])\n",
    "    combined_road_mask += road_img_list[i]\n",
    "print(combined_road_mask.shape, (combined_road_mask > 1).any())\n",
    "\n",
    "combined_road_mask[np.where(combined_road_mask > 1)] = 1\n",
    "assert (np.logical_or(combined_road_mask == 1, combined_road_mask == 0)).all()"
   ]
  },
  {
   "cell_type": "code",
   "execution_count": 5,
   "metadata": {},
   "outputs": [
    {
     "name": "stdout",
     "output_type": "stream",
     "text": [
      "(349031, 7, 28, 28) (349031, 28, 28) (349031,)\n"
     ]
    }
   ],
   "source": [
    "image_patch = []\n",
    "road_patch = []\n",
    "road_existence = []\n",
    "\n",
    "for row_offset in [0, 7, 14, 21]:\n",
    "    for col_offset in [0, 7, 14, 21]:\n",
    "        cur_img_pch, cur_rd_pch, cur_rd_ex = create_labelled_patches(raw_image, combined_road_mask,\n",
    "                                                                     row_offset=row_offset,\n",
    "                                                                     column_offset=col_offset)\n",
    "        image_patch.extend(cur_img_pch)\n",
    "        road_patch.extend(cur_rd_pch)\n",
    "        road_existence.extend(cur_rd_ex)\n",
    "\n",
    "image_patch = np.array(image_patch)\n",
    "road_patch = np.array(road_patch)\n",
    "road_existence = np.array(road_existence)\n",
    "\n",
    "print(image_patch.shape, road_patch.shape, road_existence.shape)\n",
    "# 349031"
   ]
  },
  {
   "cell_type": "code",
   "execution_count": 14,
   "metadata": {},
   "outputs": [
    {
     "data": {
      "text/plain": [
       "349031"
      ]
     },
     "execution_count": 14,
     "metadata": {},
     "output_type": "execute_result"
    }
   ],
   "source": [
    "road_existence.shape[0]"
   ]
  },
  {
   "cell_type": "code",
   "execution_count": null,
   "metadata": {},
   "outputs": [],
   "source": [
    "# save the file\n",
    "h5_path = \"../Data/090085/Road_Data/motor_trunk_pri/patch_set.h5\"\n",
    "h5f = h5py.File(h5_path, 'w')\n",
    "h5f.create_dataset(name='image_patch', shape=image_patch.shape, data=image_patch)\n",
    "h5f.create_dataset(name='road_patch', shape=road_patch.shape, data=road_patch)\n",
    "# h5f.create_dataset(name='road_existence', shape=road_existence.shape, data=road_existence)\n",
    "h5f.close()\n",
    "\n",
    "# h5f = h5py.File(h5_path, 'r')\n",
    "# h5_image_patch = np.array(h5f['image_patch'])\n",
    "# h5_road_patch = np.array(h5f['road_patch'])\n",
    "# h5_road_existence = np.array(h5f['road_existence'])\n",
    "# h5f.close()"
   ]
  },
  {
   "cell_type": "code",
   "execution_count": null,
   "metadata": {
    "scrolled": false
   },
   "outputs": [],
   "source": [
    "# display some img\n",
    "# show_image_against_road(raw_image, combined_road_mask, size=-1, figsize=(150,150), save_path=\"combined_road_mask\")"
   ]
  },
  {
   "cell_type": "code",
   "execution_count": null,
   "metadata": {},
   "outputs": [],
   "source": [
    "print((h5_image_patch == image_patch).all(), \n",
    "      (h5_road_patch == road_patch).all(), \n",
    "      (h5_road_existence == road_existence).all())"
   ]
  },
  {
   "cell_type": "code",
   "execution_count": null,
   "metadata": {},
   "outputs": [],
   "source": [
    "# plot out some patches\n",
    "# [0-21450]\n",
    "index = 1000\n",
    "\n",
    "has_road = road_existence[index]\n",
    "mask = road_patch[index]\n",
    "patch = np.array([image_patch[index][3].T, image_patch[index][2].T, image_patch[index][1].T]).T\n",
    "\n",
    "print(has_road, patch.max(), patch.min(), patch.shape, mask.shape)\n",
    "patch = patch * 0.0001 * 5\n",
    "\n",
    "# plot raw img\n",
    "plt.imshow(patch)\n",
    "plt.show()\n",
    "plt.clf()\n",
    "\n",
    "# plot road mask\n",
    "plt.imshow(mask, cmap=plt.get_cmap('gray'))\n",
    "plt.show()\n",
    "plt.clf()"
   ]
  },
  {
   "cell_type": "code",
   "execution_count": null,
   "metadata": {},
   "outputs": [],
   "source": []
  }
 ],
 "metadata": {
  "kernelspec": {
   "display_name": "Python 3",
   "language": "python",
   "name": "python3"
  },
  "language_info": {
   "codemirror_mode": {
    "name": "ipython",
    "version": 3
   },
   "file_extension": ".py",
   "mimetype": "text/x-python",
   "name": "python",
   "nbconvert_exporter": "python",
   "pygments_lexer": "ipython3",
   "version": "3.6.4"
  }
 },
 "nbformat": 4,
 "nbformat_minor": 2
}
