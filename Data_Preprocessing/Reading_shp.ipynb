{
 "cells": [
  {
   "cell_type": "code",
   "execution_count": 1,
   "metadata": {
    "collapsed": true
   },
   "outputs": [],
   "source": [
    "import numpy as np\n",
    "import matplotlib.pyplot as plt\n",
    "import matplotlib.image as mpimg\n",
    "import h5py\n",
    "\n",
    "import fiona\n",
    "from collections import Counter\n",
    "\n",
    "from Preprocess_Utilities import *"
   ]
  },
  {
   "cell_type": "code",
   "execution_count": 2,
   "metadata": {},
   "outputs": [],
   "source": [
    "# data path\n",
    "path_raw_image = \"../Data/090085/090085_20170531.h5\"\n",
    "path_shp_file = \"../Data/090085/Road_Data/all_lines/all_lines.shp\""
   ]
  },
  {
   "cell_type": "code",
   "execution_count": 3,
   "metadata": {},
   "outputs": [],
   "source": [
    "# read in raw image\n",
    "raw_image = np.array(h5py.File(path_raw_image)['scene'])"
   ]
  },
  {
   "cell_type": "code",
   "execution_count": 4,
   "metadata": {
    "collapsed": true
   },
   "outputs": [],
   "source": [
    "shp_file = fiona.open(path_shp_file, 'r')"
   ]
  },
  {
   "cell_type": "code",
   "execution_count": 6,
   "metadata": {},
   "outputs": [],
   "source": [
    "# count = Counter([v['properties']['type'] for v in shp_file])"
   ]
  },
  {
   "cell_type": "markdown",
   "metadata": {},
   "source": [
    "###### present value for 'highway', 'railway' & 'surface'\n",
    "highway_val = ['motorway_link','secondary_link','tertiary_link','service_link','primary_link','trunk_link',\n",
    "               'motorway','trunk','primary', 'secondary','tertiary','unclassified', 'track', \n",
    "               'residential', 'service', 'living_street', 'road',\n",
    "               'bridleway', \n",
    "               'steps', \n",
    "               'raceway', \n",
    "               'abandoned', \n",
    "               'cycleway', \n",
    "               'crossing', \n",
    "               'disused', \n",
    "               'proposed', \n",
    "               'escape', \n",
    "               'construction',           \n",
    "               'footway',\n",
    "               'elevator', \n",
    "               'path', \n",
    "               'corridor',\n",
    "               'platform', \n",
    "               'pedestrian', \n",
    "               'rest_area',\n",
    "               None]\n",
    "\n",
    "railway_val = ['ore_loader', \n",
    "               'historic tramway', \n",
    "               'coal_loader', \n",
    "               'abandoned', \n",
    "               'light_rail', \n",
    "               'miniature', \n",
    "               'stacker_reclaimer',\n",
    "               'crossing', \n",
    "               'disused', \n",
    "               'preserved', \n",
    "               'rail', \n",
    "               'proposed', \n",
    "               'funicular',\n",
    "               'construction', \n",
    "               'razed', \n",
    "               'turntable', \n",
    "               'level_crossing', \n",
    "               'narrow_gauge',\n",
    "               'tram',\n",
    "               'platform',\n",
    "               'historic'\n",
    "               None]\n",
    "\n",
    "surface_val = ['gps, local_knowledge', \n",
    "               'grass;ground;dirt', \n",
    "               'pebbles',\n",
    "               'sand;unpaved',\n",
    "               'unpaved and dirt', \n",
    "               'gravel;dirt',\n",
    "               'footpad', \n",
    "               'concrete:lanes', \n",
    "               'bitumen', \n",
    "               'ground;sand;rock', \n",
    "               'unpaved/asphalt',\n",
    "               'bare_rock',\n",
    "               'Boardwalk', \n",
    "               'asphalt;concrete',\n",
    "               'ashvelt',\n",
    "               'chipseal', \n",
    "               'ground;gravel', \n",
    "               'tarmac',\n",
    "               'stone', \n",
    "               'tile', \n",
    "               'unpaved,_some_paved', \n",
    "               'earth', \n",
    "               'unpaved (largely)', \n",
    "               'paved,_gravel', \n",
    "               'brick', \n",
    "               'wood', \n",
    "               'ground;unpaved',\n",
    "               'fine_gravel',\n",
    "               'gravel;sand',\n",
    "               'mud', \n",
    "               'sand;dirt', \n",
    "               'stone;dirt', \n",
    "               'compacted', \n",
    "               'grate', \n",
    "               'ground;pebblestone',\n",
    "               'sandstone', \n",
    "               'wood;metal;ground', \n",
    "               'boardwalk', \n",
    "               'sand;ground', \n",
    "               'stone;ground', \n",
    "               'vertical', \n",
    "               'unpaved; dirt', \n",
    "               'river pebbles', \n",
    "               'sett', \n",
    "               'unpaved;concrete', \n",
    "               'ground', \n",
    "               'gravel;sand;rock', \n",
    "               'grass', \n",
    "               'unknown', \n",
    "               'Overgrown', \n",
    "               'Asphalt',\n",
    "               'metal', \n",
    "               'compacted;asphalt',\n",
    "               'grass, dirt, rock, stairs', \n",
    "               'ground;wood',\n",
    "               'asphalt;unpaved', \n",
    "               'concrete;gravel;ground',\n",
    "               'pine needles',\n",
    "               'unpaved;ground', \n",
    "               'dirt', \n",
    "               'partially_paved',\n",
    "               'unpaved adn dirt', \n",
    "               'asphalt,unpaved',\n",
    "               None, \n",
    "               'artificial_turf', \n",
    "               'unpaved;gravel',\n",
    "               'cement', \n",
    "               'dirt;stone', \n",
    "               'ground;sand',\n",
    "               'gravel',\n",
    "               'timber', \n",
    "               'paved', \n",
    "               'steel', \n",
    "               'grass, dirt, rock',\n",
    "               'ca', 'concrete', \n",
    "               'asphalt',\n",
    "               'bricks', \n",
    "               'rocky',\n",
    "               'clay;rock',\n",
    "               'tiles', \n",
    "               'paving_stones',\n",
    "               'gravel;concrete;ground',\n",
    "               'unpaved', 'duckboard', \n",
    "               'ground;rock;sand',\n",
    "               'unpaved; paved', \n",
    "               'cobblestone',\n",
    "               'sand',\n",
    "               'grass;mud', \n",
    "               'metal_grid', \n",
    "               'rock',\n",
    "               'concrete,_wood',\n",
    "               'grass;rock',\n",
    "               'dirt/rocks', \n",
    "               'dirt; unpaved', \n",
    "               'river pebble',\n",
    "               'loose_rocks',\n",
    "               'rock;gravel', \n",
    "               'dirt/sand', \n",
    "               'asphalt; unpaved',\n",
    "               'pebblestone',\n",
    "               'ground;paved', \n",
    "               'gravel;ground', \n",
    "               'gravel/rock',\n",
    "               'rock;ground',\n",
    "               'brick;asphalt',\n",
    "               'rubber',\n",
    "               'concrete:plates',\n",
    "               'asphalt (patchy)',\n",
    "               'ground;rock']"
   ]
  },
  {
   "cell_type": "code",
   "execution_count": 14,
   "metadata": {},
   "outputs": [],
   "source": [
    "for line in shp_file.values():\n",
    "    prop = line['properties']\n",
    "    # do sth..."
   ]
  },
  {
   "cell_type": "code",
   "execution_count": null,
   "metadata": {},
   "outputs": [],
   "source": [
    "print(list(shp_file[0]['properties'].keys()))\n",
    "access_val=set([])\n",
    "service_val=set([])\n",
    "\n",
    "for val in shp_file.values():\n",
    "    feature = val['properties']\n",
    "    if not (feature['access'] is None and feature['service'] is None):\n",
    "        access_val.add(feature['access'])\n",
    "        service_val.add(feature['service'])\n",
    "        \n",
    "#         print(\"%-14s, %-10s, %-10s\" % (feature['type'], feature['access'], feature['service']))"
   ]
  },
  {
   "cell_type": "code",
   "execution_count": null,
   "metadata": {},
   "outputs": [],
   "source": [
    "print(access_val)\n",
    "print()\n",
    "print(service_val)"
   ]
  },
  {
   "cell_type": "code",
   "execution_count": null,
   "metadata": {},
   "outputs": [],
   "source": [
    "shp_file.close()"
   ]
  },
  {
   "cell_type": "code",
   "execution_count": null,
   "metadata": {
    "collapsed": true
   },
   "outputs": [],
   "source": []
  }
 ],
 "metadata": {
  "kernelspec": {
   "display_name": "Python 3",
   "language": "python",
   "name": "python3"
  },
  "language_info": {
   "codemirror_mode": {
    "name": "ipython",
    "version": 3
   },
   "file_extension": ".py",
   "mimetype": "text/x-python",
   "name": "python",
   "nbconvert_exporter": "python",
   "pygments_lexer": "ipython3",
   "version": "3.5.4"
  }
 },
 "nbformat": 4,
 "nbformat_minor": 2
}
