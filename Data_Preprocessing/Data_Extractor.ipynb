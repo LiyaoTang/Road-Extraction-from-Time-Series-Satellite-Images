{
 "cells": [
  {
   "cell_type": "code",
   "execution_count": 1,
   "metadata": {},
   "outputs": [
    {
     "name": "stderr",
     "output_type": "stream",
     "text": [
      "/home/admin-u6142160/anaconda3/lib/python3.6/site-packages/h5py/__init__.py:36: FutureWarning: Conversion of the second argument of issubdtype from `float` to `np.floating` is deprecated. In future, it will be treated as `np.float64 == np.dtype(float).type`.\n",
      "  from ._conv import register_converters as _register_converters\n"
     ]
    }
   ],
   "source": [
    "import matplotlib.pyplot as plt\n",
    "import scipy.io as sio\n",
    "import skimage.io\n",
    "import numpy as np\n",
    "import h5py\n",
    "import sys\n",
    "import gc\n",
    "\n",
    "from Data_Extractor import *"
   ]
  },
  {
   "cell_type": "code",
   "execution_count": 2,
   "metadata": {},
   "outputs": [
    {
     "data": {
      "text/plain": [
       "754"
      ]
     },
     "execution_count": 2,
     "metadata": {},
     "output_type": "execute_result"
    }
   ],
   "source": [
    "path_train_set = \"../Data/090085/Road_Data/motor_trunk_pri_sec_tert_uncl_track/posneg_topleft_coord_split_8_train\"\n",
    "\n",
    "# Load training set\n",
    "train_set = h5py.File(path_train_set, 'r')\n",
    "train_pos_topleft_coord = np.array(train_set['positive_example'])\n",
    "train_neg_topleft_coord = np.array(train_set['negative_example'])\n",
    "train_raw_image = np.array(train_set['raw_image'])\n",
    "train_road_mask = np.array(train_set['road_mask'])\n",
    "train_set.close()\n",
    "gc.collect()"
   ]
  },
  {
   "cell_type": "code",
   "execution_count": null,
   "metadata": {},
   "outputs": [],
   "source": [
    "path_cv_set = \"../Data/090085/Road_Data/motor_trunk_pri_sec_tert_uncl_track/posneg_topleft_coord_split_8_cv\"\n",
    "\n",
    "# Load cross-validation set\n",
    "CV_set = h5py.File(path_cv_set, 'r')\n",
    "CV_pos_topleft_coord = np.array(CV_set['positive_example'])\n",
    "CV_neg_topleft_coord = np.array(CV_set['negative_example'])\n",
    "CV_raw_image = np.array(CV_set['raw_image'])\n",
    "CV_road_mask = np.array(CV_set['road_mask'])\n",
    "CV_set.close()\n",
    "\n",
    "gc.collect()"
   ]
  },
  {
   "cell_type": "code",
   "execution_count": 3,
   "metadata": {},
   "outputs": [
    {
     "name": "stdout",
     "output_type": "stream",
     "text": [
      "mu =  [ 144.71187809  191.4973748   363.63933132  368.9204473  2385.57259035\n",
      " 1362.40326606  728.31018062]\n",
      "std =  [125.65067662 147.07994057 235.16274288 262.88676276 927.00557037\n",
      " 842.7245097  545.23410243]\n"
     ]
    },
    {
     "data": {
      "text/plain": [
       "20"
      ]
     },
     "execution_count": 3,
     "metadata": {},
     "output_type": "execute_result"
    }
   ],
   "source": [
    "size = 8\n",
    "norm = 'Gaussian'\n",
    "Train_Data = Data_Extractor (train_raw_image, train_road_mask, size,\n",
    "                             pos_topleft_coord = train_pos_topleft_coord,\n",
    "                             neg_topleft_coord = train_neg_topleft_coord,\n",
    "                             normalization = norm)\n",
    "# run garbage collector\n",
    "gc.collect()"
   ]
  },
  {
   "cell_type": "code",
   "execution_count": null,
   "metadata": {},
   "outputs": [],
   "source": [
    "size = 8\n",
    "norm = 'Gaussian'\n",
    "CV_Data = Data_Extractor (CV_raw_image, CV_road_mask, size,\n",
    "                          pos_topleft_coord = CV_pos_topleft_coord,\n",
    "                          neg_topleft_coord = CV_neg_topleft_coord,\n",
    "                          normalization = norm)\n",
    "gc.collect()"
   ]
  },
  {
   "cell_type": "code",
   "execution_count": null,
   "metadata": {},
   "outputs": [],
   "source": [
    "def is_close_to_edge(coord, raw_img, size):\n",
    "    dist = int(1.5*size)\n",
    "    center = coord + int(size/2)\n",
    "    return (raw_img[0,center[0]-dist:center[0]+dist, center[1]-dist:center[1]+dist] == -9999).any()"
   ]
  },
  {
   "cell_type": "code",
   "execution_count": null,
   "metadata": {},
   "outputs": [],
   "source": [
    "h5f = h5py.File('./Result/center_edge_img_train.h5', 'w')\n",
    "h5f.create_group(name='edge', data=edge_img)\n",
    "h5f.create_group(name='center', data=center_img)\n",
    "h5f.close()\n",
    "\n",
    "for ch_n in range(7):\n",
    "    edge_img = []\n",
    "    center_img = []\n",
    "    i = 0\n",
    "    for coord, patch, y in Train_Data.iterate_data_with_coord(norm=True):\n",
    "        patch = patch[0]\n",
    "        if is_close_to_edge(coord,  train_raw_image, size):\n",
    "            edge_img.extend(patch[ch_n])\n",
    "        else:\n",
    "            center_img.extend(patch[ch_n])\n",
    "        \n",
    "        i += 1\n",
    "        if i > 1000:\n",
    "            gc.collect()\n",
    "            i = 0\n",
    "    gc.collect()\n",
    "    \n",
    "    h5f = h5py.File('./Result/center_edge_img_train.h5', 'w')\n",
    "    edge_group = h5f['edge']\n",
    "    edge_group.create_dataset(name=str(ch_n), data=edge_img)\n",
    "\n",
    "    gc.collect()\n",
    "\n",
    "    center_group = h5f['center']\n",
    "    center_group.create_dataset(name=str(ch_n), data=center_img)\n",
    "\n",
    "    gc.collect()"
   ]
  },
  {
   "cell_type": "code",
   "execution_count": null,
   "metadata": {},
   "outputs": [],
   "source": [
    "h5f = h5py.File('./Result/center_edge_img_train.h5', 'w')\n",
    "h5f.create_dataset(name='edge', data=edge_img)\n",
    "h5f.create_dataset(name='center', data=center_img)\n",
    "h5f.close()"
   ]
  },
  {
   "cell_type": "code",
   "execution_count": null,
   "metadata": {},
   "outputs": [],
   "source": [
    "# Two subplots, unpack the axes array immediately\n",
    "for ch_n in range(7):\n"
   ]
  },
  {
   "cell_type": "code",
   "execution_count": null,
   "metadata": {},
   "outputs": [],
   "source": [
    "gc.collect()"
   ]
  },
  {
   "cell_type": "code",
   "execution_count": null,
   "metadata": {},
   "outputs": [],
   "source": [
    "# Two subplots, unpack the axes array immediately\n",
    "for ch_n in range(7):\n",
    "    plt.figure(figsize=(30,30))\n",
    "    f, (ax1, ax2) = plt.subplots(1, 2, sharey=True)\n",
    "    cur_img = edge_img[:,0,:,:]\n",
    "    ax1.hist(cur_img[np.where(cur_img>0)].flatten(), bins=150,  histtype='step')\n",
    "    ax1.set_title('edge_' + str(ch_n))\n",
    "    gc.collect()\n",
    "    \n",
    "    cur_img = center_img[:,0,:,:]\n",
    "    ax2.hist(cur_img[np.where(cur_img>0)].flatten(), bins=150,  histtype='step')\n",
    "    ax1.set_title('center_' + str(ch_n))\n",
    "    plt.grid(True)\n",
    "    plt.show()\n",
    "    plt.close()\n",
    "    gc.collect()"
   ]
  },
  {
   "cell_type": "code",
   "execution_count": null,
   "metadata": {},
   "outputs": [],
   "source": [
    "class FCN_Data_Extractor (Data_Extractor):\n",
    "\n",
    "    def __init__(self, raw_image, road_mask, img_size, pos_topleft_coord, neg_topleft_coord, normalization='mean', encoding='one-hot'):\n",
    "\n",
    "        super(FCN_Data_Extractor, self).__init__(raw_image, road_mask, img_size, pos_topleft_coord, neg_topleft_coord, normalization, encoding)\n",
    "        self.neg_weight = self.pos_size / self.size\n",
    "        self.pos_weight = self.neg_size / self.size\n",
    "        \n",
    "    def _get_patch_label(self, coord):\n",
    "        label = self.road_mask[coord[0]:coord[0]+self.img_size, coord[1]:coord[1]+self.img_size]\n",
    "        if self.encoding == 'one-hot':\n",
    "            one_hot_label = np.zeros((self.img_size, self.img_size, 2))\n",
    "            one_hot_label[:, :, 0][np.where(label == 0)] = 1\n",
    "            one_hot_label[:, :, 1][np.where(label == 1)] = 1\n",
    "            return one_hot_label\n",
    "        return label\n",
    "\n",
    "    def get_patches(self, batch_size, positive_num = 0, norm = True, wrap_around=True, weighted=True):\n",
    "        X = []\n",
    "        Y = []\n",
    "\n",
    "        if positive_num > 0 and positive_num <= batch_size:\n",
    "            # pos patches\n",
    "            X_pos, Y_pos, self.pos_index = self._get_patches_from_topleft_coord (self.pos_topleft_coord,\n",
    "                                                                     num_of_patches = positive_num,\n",
    "                                                                     start_index = self.pos_index,\n",
    "                                                                     norm = norm, \n",
    "                                                                     wrap_around=wrap_around)\n",
    "            \n",
    "            negative_num = batch_size - positive_num\n",
    "            X_neg, Y_neg, self.neg_index = self._get_patches_from_topleft_coord (self.neg_topleft_coord,\n",
    "                                                                     num_of_patches = negative_num,\n",
    "                                                                     start_index = self.neg_index,\n",
    "                                                                     norm = norm, \n",
    "                                                                     wrap_around=wrap_around)\n",
    "            \n",
    "            X.extend (X_pos)\n",
    "            Y.extend (Y_pos)\n",
    "            \n",
    "            X.extend (X_neg)\n",
    "            Y.extend (Y_neg)\n",
    "        \n",
    "        else: # sample batches randomly\n",
    "            X, Y, self.index = self._get_patches_from_topleft_coord (self.topleft_coordinate,\n",
    "                                                                      num_of_patches = batch_size,\n",
    "                                                                      start_index = self.index,\n",
    "                                                                      norm = norm,\n",
    "                                                                      wrap_around=wrap_around)\n",
    "\n",
    "        X = np.array(X)\n",
    "        Y = np.array(Y)\n",
    "    \n",
    "        if weighted:\n",
    "            Weight = Y.copy()\n",
    "            Weight[:,:,:,0] *= self.neg_weight\n",
    "            Weight[:,:,:,1] *= self.pos_weight\n",
    "            Weight = Weight.sum(axis=-1)\n",
    "\n",
    "        return X, Y, Weight"
   ]
  },
  {
   "cell_type": "code",
   "execution_count": null,
   "metadata": {},
   "outputs": [],
   "source": [
    "import h5py\n",
    "import gc\n",
    "\n",
    "path_train_set = \"../Data/090085/Road_Data/motor_trunk_pri_sec_tert_uncl_track/posneg_topleft_coord_split_8_train\"\n",
    "path_cv_set = \"../Data/090085/Road_Data/motor_trunk_pri_sec_tert_uncl_track/posneg_topleft_coord_split_8_cv\"\n",
    "\n",
    "# Load training set\n",
    "train_set = h5py.File(path_train_set, 'r')\n",
    "train_pos_topleft_coord = np.array(train_set['positive_example'])\n",
    "train_neg_topleft_coord = np.array(train_set['negative_example'])\n",
    "train_raw_image = np.array(train_set['raw_image'])\n",
    "train_road_mask = np.array(train_set['road_mask'])\n",
    "train_set.close()\n",
    "\n",
    "# Load cross-validation set\n",
    "CV_set = h5py.File(path_cv_set, 'r')\n",
    "CV_pos_topleft_coord = np.array(CV_set['positive_example'])\n",
    "CV_neg_topleft_coord = np.array(CV_set['negative_example'])\n",
    "CV_raw_image = np.array(CV_set['raw_image'])\n",
    "CV_road_mask = np.array(CV_set['road_mask'])\n",
    "CV_set.close()\n",
    "\n",
    "gc.collect()"
   ]
  },
  {
   "cell_type": "code",
   "execution_count": null,
   "metadata": {},
   "outputs": [],
   "source": [
    "X, Y = CV_Data.get_patches(2)\n",
    "print(X.shape, Y.shape)"
   ]
  },
  {
   "cell_type": "code",
   "execution_count": null,
   "metadata": {},
   "outputs": [],
   "source": [
    "CV_FCN_Data = FCN_Data_Extractor (CV_raw_image, CV_road_mask, 8,\n",
    "                                  pos_topleft_coord = CV_pos_topleft_coord,\n",
    "                                  neg_topleft_coord = CV_neg_topleft_coord)"
   ]
  },
  {
   "cell_type": "code",
   "execution_count": null,
   "metadata": {},
   "outputs": [],
   "source": [
    "x, y, w = CV_FCN_Data.get_patches(2)\n",
    "print(x.shape, y.shape, w.shape)"
   ]
  },
  {
   "cell_type": "code",
   "execution_count": null,
   "metadata": {},
   "outputs": [],
   "source": [
    "\n",
    "y_f = y.reshape(-1,2)\n",
    "w_f = w.reshape(-1)\n",
    "for i in range(y_f.shape[0]):\n",
    "    print(y_f[i], w_f[i])\n",
    "    assert sum(np.array([CV_FCN_Data.neg_weight, CV_FCN_Data.pos_weight]) * y_f[i]) == w_f[i] "
   ]
  },
  {
   "cell_type": "code",
   "execution_count": null,
   "metadata": {},
   "outputs": [],
   "source": []
  }
 ],
 "metadata": {
  "kernelspec": {
   "display_name": "Python 3",
   "language": "python",
   "name": "python3"
  },
  "language_info": {
   "codemirror_mode": {
    "name": "ipython",
    "version": 3
   },
   "file_extension": ".py",
   "mimetype": "text/x-python",
   "name": "python",
   "nbconvert_exporter": "python",
   "pygments_lexer": "ipython3",
   "version": "3.6.4"
  }
 },
 "nbformat": 4,
 "nbformat_minor": 2
}
