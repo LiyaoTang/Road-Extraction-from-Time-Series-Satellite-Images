{
 "cells": [
  {
   "cell_type": "code",
   "execution_count": 1,
   "metadata": {},
   "outputs": [
    {
     "name": "stderr",
     "output_type": "stream",
     "text": [
      "/home/admin-u6142160/anaconda3/lib/python3.6/site-packages/h5py/__init__.py:36: FutureWarning: Conversion of the second argument of issubdtype from `float` to `np.floating` is deprecated. In future, it will be treated as `np.float64 == np.dtype(float).type`.\n",
      "  from ._conv import register_converters as _register_converters\n"
     ]
    }
   ],
   "source": [
    "import matplotlib.pyplot as plt\n",
    "import scipy.io as sio\n",
    "import skimage.io\n",
    "import numpy as np\n",
    "import h5py\n",
    "import sys\n",
    "import gc\n",
    "\n",
    "from Data_Extractor import *"
   ]
  },
  {
   "cell_type": "code",
   "execution_count": 2,
   "metadata": {},
   "outputs": [
    {
     "data": {
      "text/plain": [
       "3993"
      ]
     },
     "execution_count": 2,
     "metadata": {},
     "output_type": "execute_result"
    }
   ],
   "source": [
    "path_train_set = \"../Data/090085/Road_Data/motor_trunk_pri_sec_tert_uncl_track/posneg_seg_coord_split_thr1_128_16_train\"\n",
    "\n",
    "# Load training set\n",
    "train_set = h5py.File(path_train_set, 'r')\n",
    "train_pos_topleft_coord = np.array(train_set['positive_example'])\n",
    "train_neg_topleft_coord = np.array(train_set['negative_example'])\n",
    "train_raw_image = np.array(train_set['raw_image'])\n",
    "train_road_mask = np.array(train_set['road_mask'])\n",
    "train_set.close()\n",
    "gc.collect()\n"
   ]
  },
  {
   "cell_type": "code",
   "execution_count": 2,
   "metadata": {},
   "outputs": [
    {
     "data": {
      "text/plain": [
       "43"
      ]
     },
     "execution_count": 2,
     "metadata": {},
     "output_type": "execute_result"
    }
   ],
   "source": [
    "path_cv_set = \"../Data/090085/Road_Data/motor_trunk_pri_sec_tert_uncl_track/posneg_seg_coord_split_thr1_128_16_cv\"\n",
    "\n",
    "# Load cross-validation set\n",
    "CV_set = h5py.File(path_cv_set, 'r')\n",
    "CV_pos_topleft_coord = np.array(CV_set['positive_example'])\n",
    "CV_neg_topleft_coord = np.array(CV_set['negative_example'])\n",
    "CV_raw_image = np.array(CV_set['raw_image'])\n",
    "CV_road_mask = np.array(CV_set['road_mask'])\n",
    "CV_set.close()\n",
    "\n",
    "gc.collect()"
   ]
  },
  {
   "cell_type": "code",
   "execution_count": null,
   "metadata": {},
   "outputs": [],
   "source": [
    "X, Y = CV_Data.get_patches(2)\n",
    "print(X.shape, Y.shape)"
   ]
  },
  {
   "cell_type": "code",
   "execution_count": 49,
   "metadata": {},
   "outputs": [],
   "source": [
    "class FCN_Data_Extractor (Data_Extractor):\n",
    "\n",
    "    def __init__(self, raw_image, road_mask, img_size, pos_topleft_coord, neg_topleft_coord, normalization='mean', encoding='one-hot'):\n",
    "\n",
    "        super(FCN_Data_Extractor, self).__init__(raw_image, road_mask, img_size, pos_topleft_coord, neg_topleft_coord, normalization, encoding)\n",
    "\n",
    "    def _cal_norm_param(self):\n",
    "        img_size = self.img_size\n",
    "        mu = np.zeros((self.band, img_size, img_size))\n",
    "        pixel_cnt = np.zeros((self.band, img_size, img_size))\n",
    "\n",
    "        pos_cnt = 0\n",
    "        neg_cnt = 0\n",
    "\n",
    "        # Careful! norm params & weight not yet calculated\n",
    "        for patch, rd_map, _ in self.iterate_data(norm=False, weighted=False):\n",
    "            patch = patch[0]\n",
    "            valid_img_mask = np.where(patch != -9999)\n",
    "            valid_rd_mask = np.where(patch[0] != -9999)\n",
    "\n",
    "            pixel_cnt[valid_img_mask] = pixel_cnt[valid_img_mask] + 1\n",
    "            mu[valid_img_mask] = mu[valid_img_mask] + patch[valid_img_mask]\n",
    "\n",
    "            if self.encoding == 'one-hot':\n",
    "                pos_cnt += rd_map[0,:,:,1][valid_rd_mask].sum()\n",
    "                neg_cnt += rd_map[0,:,:,0][valid_rd_mask].sum()\n",
    "            else:\n",
    "                pos_cnt += rd_map[valid_rd_mask].sum()\n",
    "                neg_cnt += -(rd_map[valid_rd_mask]-1).sum()\n",
    "    \n",
    "        mu = mu.sum(axis=(1,2)) / pixel_cnt.sum(axis=(1,2))\n",
    "        self.mu = mu\n",
    "        self.neg_weight = pos_cnt / (pos_cnt+neg_cnt)\n",
    "        self.pos_weight = neg_cnt / (pos_cnt+neg_cnt)\n",
    "\n",
    "        assert (pos_cnt+neg_cnt) == pixel_cnt[0].sum()\n",
    "\n",
    "        print(\"mu = \", mu)\n",
    "        print(\"class weight [neg= %f, pos= %f]\"%(self.neg_weight, self.pos_weight))\n",
    "\n",
    "        if self.normalization == 'Gaussian':\n",
    "            std = np.zeros((self.band, img_size, img_size))\n",
    "            mu_ext = np.repeat(mu, [np.prod(patch[0].shape)]*patch.shape[0]).reshape(patch.shape)\n",
    "\n",
    "            for patch in self.iterate_raw_image_patches(norm = False):\n",
    "                patch = patch[0]\n",
    "                valid_mask = np.where(patch != -9999)\n",
    "                \n",
    "                std[valid_mask] = std[valid_mask] + ((patch-mu_ext)**2)[valid_mask]\n",
    "            \n",
    "            std = np.sqrt(std.sum(axis=(1,2)) / pixel_cnt.sum(axis=(1,2)))\n",
    "            self.std = std\n",
    "            print('std = ', std)\n",
    "\n",
    "\n",
    "    def _get_raw_patch(self, coord, norm):\n",
    "        patch  = self.raw_image[:, coord[0]:coord[0]+self.img_size, coord[1]:coord[1]+self.img_size].copy()\n",
    "        invalid_mask = np.where(patch == -9999)\n",
    "\n",
    "        if norm:\n",
    "            if self.normalization == 'mean':\n",
    "                for channel_num in range(self.band):\n",
    "                    patch[channel_num] = patch[channel_num] - self.mu[channel_num]\n",
    "            elif self.normalization == 'Gaussian':\n",
    "                for channel_num in range(self.band):\n",
    "                    patch[channel_num] = (patch[channel_num] - self.mu[channel_num]) / self.std[channel_num]\n",
    "        patch[invalid_mask] = 0\n",
    "        return patch\n",
    "\n",
    "\n",
    "    def _get_patch_label(self, coord):\n",
    "        label = self.road_mask[coord[0]:coord[0]+self.img_size, coord[1]:coord[1]+self.img_size].copy()\n",
    "        if self.encoding == 'one-hot':\n",
    "            one_hot_label = np.zeros((self.img_size, self.img_size, 2))\n",
    "            one_hot_label[:, :, 0][np.where(label == 0)] = 1\n",
    "            one_hot_label[:, :, 1][np.where(label == 1)] = 1\n",
    "            return one_hot_label\n",
    "        return label\n",
    "\n",
    "    def get_patches(self, batch_size, positive_num = 0, norm = True, wrap_around=True, weighted=True):\n",
    "        X = []\n",
    "        Y = []\n",
    "\n",
    "        if positive_num > 0 and positive_num <= batch_size:\n",
    "            # pos patches\n",
    "            X_pos, Y_pos, self.pos_index = self._get_patches_from_topleft_coord (self.pos_topleft_coord,\n",
    "                                                                     num_of_patches = positive_num,\n",
    "                                                                     start_index = self.pos_index,\n",
    "                                                                     norm = norm, \n",
    "                                                                     wrap_around=wrap_around)\n",
    "            \n",
    "            negative_num = batch_size - positive_num\n",
    "            X_neg, Y_neg, self.neg_index = self._get_patches_from_topleft_coord (self.neg_topleft_coord,\n",
    "                                                                     num_of_patches = negative_num,\n",
    "                                                                     start_index = self.neg_index,\n",
    "                                                                     norm = norm, \n",
    "                                                                     wrap_around=wrap_around)\n",
    "            \n",
    "            X.extend (X_pos)\n",
    "            Y.extend (Y_pos)\n",
    "            \n",
    "            X.extend (X_neg)\n",
    "            Y.extend (Y_neg)\n",
    "        \n",
    "        else: # sample batches randomly\n",
    "            X, Y, self.index = self._get_patches_from_topleft_coord (self.topleft_coordinate,\n",
    "                                                                      num_of_patches = batch_size,\n",
    "                                                                      start_index = self.index,\n",
    "                                                                      norm = norm,\n",
    "                                                                      wrap_around=wrap_around)\n",
    "\n",
    "        X = np.array(X)\n",
    "        Y = np.array(Y)\n",
    "        W = Y.copy()\n",
    "    \n",
    "        if weighted:\n",
    "            W[:,:,:,0] *= self.neg_weight\n",
    "            W[:,:,:,1] *= self.pos_weight\n",
    "            \n",
    "        return X, Y, W.sum(axis=-1)\n",
    "\n",
    "\n",
    "    def iterate_data (self, norm=True, weighted=True):\n",
    "        for coord in self.topleft_coordinate:\n",
    "            x = np.array([self._get_raw_patch(coord, norm)])\n",
    "            y = np.array([self._get_patch_label(coord)])\n",
    "            weight = y.copy()\n",
    "\n",
    "            if weighted:\n",
    "                weight[:,:,:,0] *= self.neg_weight\n",
    "                weight[:,:,:,1] *= self.pos_weight\n",
    "\n",
    "            yield x, y, weight.sum(axis=-1)\n",
    "\n",
    "\n",
    "    def iterate_data_with_coord (self, norm=True, weighted=True):\n",
    "        for coord in self.topleft_coordinate:\n",
    "            x = np.array([self._get_raw_patch(coord, norm)])\n",
    "            y = np.array([self._get_patch_label(coord)])\n",
    "            weight = y.copy()\n",
    "\n",
    "            if weighted and self.encoding == 'one-hot':\n",
    "                weight[:,:,:,0] *= self.neg_weight\n",
    "                weight[:,:,:,1] *= self.pos_weight\n",
    "            \n",
    "            yield coord, x, y, weight.sum(axis=-1)"
   ]
  },
  {
   "cell_type": "code",
   "execution_count": 6,
   "metadata": {},
   "outputs": [
    {
     "name": "stdout",
     "output_type": "stream",
     "text": [
      "(2, 50) 2\n"
     ]
    }
   ],
   "source": [
    "a = np.arange(100).reshape(2,50)\n",
    "print(a.shape, len(a))"
   ]
  },
  {
   "cell_type": "code",
   "execution_count": 50,
   "metadata": {},
   "outputs": [
    {
     "name": "stdout",
     "output_type": "stream",
     "text": [
      "(7, 128, 128) (7,) (7, 128, 128) (7,)\n",
      "mu =  [ 145.49046314  191.39246578  362.50354454  368.10274744 2388.34285012\n",
      " 1379.97093339  736.84009788]\n",
      "class weight [neg= 0.025755, pos= 0.974245]\n",
      "std =  [120.26160916 142.6461666  224.24761472 258.98333524 800.95586468\n",
      " 840.56659947 560.07518348]\n"
     ]
    }
   ],
   "source": [
    "CV_FCN_Data = FCN_Data_Extractor (CV_raw_image, CV_road_mask, 128,\n",
    "                                  pos_topleft_coord = CV_pos_topleft_coord,\n",
    "                                  neg_topleft_coord = CV_neg_topleft_coord,\n",
    "                                  normalization='Gaussian')"
   ]
  },
  {
   "cell_type": "code",
   "execution_count": 14,
   "metadata": {},
   "outputs": [
    {
     "data": {
      "text/plain": [
       "1407"
      ]
     },
     "execution_count": 14,
     "metadata": {},
     "output_type": "execute_result"
    }
   ],
   "source": [
    "import h5py\n",
    "import gc\n",
    "\n",
    "path_train_set = \"../Data/090085/Road_Data/motor_trunk_pri_sec_tert_uncl_track/posneg_seg_coord_split_thr1_128_16_train\"\n",
    "path_cv_set = \"../Data/090085/Road_Data/motor_trunk_pri_sec_tert_uncl_track/posneg_seg_coord_split_thr1_128_16_cv\"\n",
    "\n",
    "# Load training set\n",
    "train_set = h5py.File(path_train_set, 'r')\n",
    "train_pos_topleft_coord = np.array(train_set['positive_example'])\n",
    "train_neg_topleft_coord = np.array(train_set['negative_example'])\n",
    "train_raw_image = np.array(train_set['raw_image'])\n",
    "train_road_mask = np.array(train_set['road_mask'])\n",
    "train_set.close()\n",
    "\n",
    "# Load cross-validation set\n",
    "CV_set = h5py.File(path_cv_set, 'r')\n",
    "CV_pos_topleft_coord = np.array(CV_set['positive_example'])\n",
    "CV_neg_topleft_coord = np.array(CV_set['negative_example'])\n",
    "CV_raw_image = np.array(CV_set['raw_image'])\n",
    "CV_road_mask = np.array(CV_set['road_mask'])\n",
    "CV_set.close()\n",
    "\n",
    "gc.collect()"
   ]
  },
  {
   "cell_type": "code",
   "execution_count": 4,
   "metadata": {},
   "outputs": [
    {
     "name": "stdout",
     "output_type": "stream",
     "text": [
      "(2, 7, 128, 128) (2, 128, 128, 2) (2, 128, 128)\n"
     ]
    }
   ],
   "source": [
    "x, y, w = CV_FCN_Data.get_patches(2)\n",
    "print(x.shape, y.shape, w.shape)"
   ]
  },
  {
   "cell_type": "code",
   "execution_count": null,
   "metadata": {},
   "outputs": [],
   "source": [
    "y_f = y.reshape(-1,2)\n",
    "w_f = w.reshape(-1)\n",
    "for i in range(y_f.shape[0]):\n",
    "    print(y_f[i], w_f[i])\n",
    "    assert sum(np.array([CV_FCN_Data.neg_weight, CV_FCN_Data.pos_weight]) * y_f[i]) == w_f[i] "
   ]
  },
  {
   "cell_type": "code",
   "execution_count": null,
   "metadata": {},
   "outputs": [],
   "source": []
  }
 ],
 "metadata": {
  "kernelspec": {
   "display_name": "Python 3",
   "language": "python",
   "name": "python3"
  },
  "language_info": {
   "codemirror_mode": {
    "name": "ipython",
    "version": 3
   },
   "file_extension": ".py",
   "mimetype": "text/x-python",
   "name": "python",
   "nbconvert_exporter": "python",
   "pygments_lexer": "ipython3",
   "version": "3.6.4"
  }
 },
 "nbformat": 4,
 "nbformat_minor": 2
}
