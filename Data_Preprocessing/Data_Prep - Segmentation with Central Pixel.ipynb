{
 "cells": [
  {
   "cell_type": "code",
   "execution_count": 1,
   "metadata": {},
   "outputs": [
    {
     "name": "stderr",
     "output_type": "stream",
     "text": [
      "/home/admin-u6142160/anaconda3/lib/python3.6/site-packages/h5py/__init__.py:36: FutureWarning: Conversion of the second argument of issubdtype from `float` to `np.floating` is deprecated. In future, it will be treated as `np.float64 == np.dtype(float).type`.\n",
      "  from ._conv import register_converters as _register_converters\n"
     ]
    }
   ],
   "source": [
    "import numpy as np\n",
    "import matplotlib.pyplot as plt\n",
    "import matplotlib.image as mpimg\n",
    "import matplotlib\n",
    "import h5py\n",
    "import sys\n",
    "import scipy.io as sio\n",
    "import skimage.io\n",
    "\n",
    "sys.path.append(\"../Visualization/\")\n",
    "\n",
    "from optparse import OptionParser\n",
    "from Preprocess_Utilities import *\n",
    "from Visualization import *"
   ]
  },
  {
   "cell_type": "code",
   "execution_count": null,
   "metadata": {},
   "outputs": [],
   "source": [
    "img_path = '../Data/090085/090085_20170531.h5'\n",
    "road_dir_path = '../Data/090085/Road_Data/'"
   ]
  },
  {
   "cell_type": "code",
   "execution_count": null,
   "metadata": {},
   "outputs": [],
   "source": [
    "# create road mask paths list\n",
    "road_type = np.array([\"motorway\", \"trunk\", \"primary\", \"secondary\", \"tertiary\", \"unclassified\", \"track\", # 0-6\n",
    "                      \"residential\", \"service\", \"road\", \"living_street\", # 7-10\n",
    "                      \"all_roads\"]) # 11 \n",
    "#                       \"motor_trunk_pri_sec_tert_uncl_track\", \"motor_trunk_pri_sec_tert_uncl\"]) # 12-13\n",
    "\n",
    "road_mask_path = np.char.add(road_dir_path, \n",
    "                             np.char.add(np.char.add(road_type, '/'), np.char.add(road_type, '.tif')))"
   ]
  },
  {
   "cell_type": "code",
   "execution_count": null,
   "metadata": {},
   "outputs": [],
   "source": [
    "# read in raw image\n",
    "raw_image = np.array(h5py.File(img_path)['scene'])\n",
    "\n",
    "# read in road mask\n",
    "print('road mask loaded in ...')\n",
    "road_img_list = []\n",
    "for cur_path in road_mask_path:\n",
    "    print(cur_path)\n",
    "    road_img_list.append(skimage.io.imread(cur_path))\n",
    "\n",
    "road_img_list = np.array(road_img_list)\n",
    "\n",
    "# assert 0-1 coding\n",
    "assert (np.logical_or(road_img_list == 1, road_img_list == 0)).all()"
   ]
  },
  {
   "cell_type": "code",
   "execution_count": null,
   "metadata": {},
   "outputs": [],
   "source": [
    "# combine the road mask\n",
    "print(\"Used masks ... \")\n",
    "combined_road_mask = 0\n",
    "for i in range(11):\n",
    "    print(road_mask_path[i])\n",
    "    combined_road_mask += road_img_list[i]\n",
    "print(combined_road_mask.shape, (combined_road_mask > 1).any())\n",
    "\n",
    "combined_road_mask[np.where(combined_road_mask > 1)] = 1\n",
    "assert (np.logical_or(combined_road_mask == 1, combined_road_mask == 0)).all()"
   ]
  },
  {
   "cell_type": "code",
   "execution_count": null,
   "metadata": {
    "scrolled": false
   },
   "outputs": [],
   "source": [
    "# visualize\n",
    "# show_pred_prob_with_raw(raw_image, combined_road_mask, road_img_list[-1], pred_weight=1, figsize=(150,150), show_plot=False, save_path='./1')"
   ]
  },
  {
   "cell_type": "code",
   "execution_count": 4,
   "metadata": {},
   "outputs": [
    {
     "ename": "NameError",
     "evalue": "name 'combined_road_mask' is not defined",
     "output_type": "error",
     "traceback": [
      "\u001b[0;31m---------------------------------------------------------------------------\u001b[0m",
      "\u001b[0;31mNameError\u001b[0m                                 Traceback (most recent call last)",
      "\u001b[0;32m<ipython-input-4-f23b4e134f78>\u001b[0m in \u001b[0;36m<module>\u001b[0;34m()\u001b[0m\n\u001b[1;32m      1\u001b[0m \u001b[0;31m# save the combined road mask\u001b[0m\u001b[0;34m\u001b[0m\u001b[0;34m\u001b[0m\u001b[0m\n\u001b[1;32m      2\u001b[0m \u001b[0msave_dir_path\u001b[0m \u001b[0;34m=\u001b[0m \u001b[0;34m\"../Data/090085/Road_Data/motor_trunk_pri_sec_tert_uncl_track_res_serv_road_livi/\"\u001b[0m\u001b[0;34m\u001b[0m\u001b[0m\n\u001b[0;32m----> 3\u001b[0;31m \u001b[0mskimage\u001b[0m\u001b[0;34m.\u001b[0m\u001b[0mio\u001b[0m\u001b[0;34m.\u001b[0m\u001b[0mimsave\u001b[0m\u001b[0;34m(\u001b[0m\u001b[0msave_dir_path\u001b[0m \u001b[0;34m+\u001b[0m \u001b[0;34m'road_mask.tif'\u001b[0m\u001b[0;34m,\u001b[0m \u001b[0mcombined_road_mask\u001b[0m\u001b[0;34m)\u001b[0m\u001b[0;34m\u001b[0m\u001b[0m\n\u001b[0m",
      "\u001b[0;31mNameError\u001b[0m: name 'combined_road_mask' is not defined"
     ]
    }
   ],
   "source": [
    "# save the combined road mask\n",
    "save_dir_path = \"../Data/090085/Road_Data/motor_trunk_pri_sec_tert_uncl_track_res_serv_road_livi/\"\n",
    "skimage.io.imsave(save_dir_path + 'road_mask.tif', combined_road_mask)"
   ]
  },
  {
   "cell_type": "code",
   "execution_count": null,
   "metadata": {},
   "outputs": [],
   "source": [
    "# reload combined road mask\n",
    "combined_road_mask = skimage.io.imread(save_dir_path)"
   ]
  },
  {
   "cell_type": "markdown",
   "metadata": {},
   "source": [
    "split image in a balanced way"
   ]
  },
  {
   "cell_type": "code",
   "execution_count": null,
   "metadata": {},
   "outputs": [],
   "source": [
    "# pass in the road mask, split on the spcified axis (default to row => up-down split)\n",
    "def searching_split(raw_image, road_mask, axis=0):\n",
    "\n",
    "    def get_index_range(i, axis=0):\n",
    "        if axis: # split from col            \n",
    "            if i > 5456:\n",
    "                a = (i-1652)/3.686795\n",
    "                b = (i-7766)/-0.2988061\n",
    "            elif i >1752:\n",
    "                a = (i-1652)/3.686795\n",
    "                b = (i+23831)/3.787836\n",
    "            else:\n",
    "                a = (i-1759)/-0.2625974\n",
    "                b = (i+23831)/3.787836\n",
    "            \n",
    "        else: # split from row\n",
    "            if i > 6318:\n",
    "                a = 3.787836*i-23831\n",
    "                b = -0.2988061*i+7766\n",
    "            elif i >1534:\n",
    "                a = -0.2625974*i+1759\n",
    "                b = -0.2988061*i+7766\n",
    "            else:\n",
    "                a = -0.2625974*i+1759\n",
    "                b = 3.686795*i+1652\n",
    "        return int(a), int(b)\n",
    "    \n",
    "    road_cnt = np.zeros(road_mask.shape[axis])\n",
    "    print(road_cnt.size)\n",
    "    for i in range(road_cnt.size):\n",
    "        start, end = get_index_range(i, axis)\n",
    "        \n",
    "        if end-start > 0:\n",
    "            if axis == 0 and (raw_image[0][i] != -9999).any():\n",
    "                road_cnt[i] = road_mask[i, start:end+1].sum()\n",
    "            elif axis == 1 and (raw_image[0][:, i] != -9999).any():\n",
    "                road_cnt[i] = road_mask[start:end+1,i].sum()\n",
    "\n",
    "    min_diff = road_cnt.sum() + 1\n",
    "    idx_list = []\n",
    "    diff_list = []\n",
    "    \n",
    "    for i in range(1,road_cnt.size):\n",
    "        cur_diff = abs((road_cnt[:i].sum() / i) - (road_cnt[i:].sum() / (road_cnt.size-i)))\n",
    "        \n",
    "        if cur_diff < min_diff:\n",
    "            min_diff = cur_diff\n",
    "            \n",
    "            idx_list.append(i)\n",
    "            diff_list.append(min_diff)\n",
    "    \n",
    "    diff_list = np.array(diff_list)\n",
    "    idx_list = np.array(idx_list)\n",
    "    \n",
    "    return idx_list[np.where(diff_list == min_diff)[0]], min_diff"
   ]
  },
  {
   "cell_type": "code",
   "execution_count": null,
   "metadata": {
    "scrolled": false
   },
   "outputs": [],
   "source": [
    "print(searching_split(raw_image, combined_road_mask, 0))\n",
    "print()\n",
    "print(searching_split(raw_image, combined_road_mask, 1))"
   ]
  },
  {
   "cell_type": "code",
   "execution_count": null,
   "metadata": {},
   "outputs": [],
   "source": [
    "print(searching_split(raw_image[:,:1217,:], combined_road_mask[:1217,:], 0))\n",
    "print()\n",
    "print(searching_split(raw_image[:,:1217,:], combined_road_mask[:1217,:], 1))"
   ]
  },
  {
   "cell_type": "code",
   "execution_count": null,
   "metadata": {},
   "outputs": [],
   "source": [
    "def img_parallel_line(b):\n",
    "    return lambda x: (x-1652)/3.686795 + b"
   ]
  },
  {
   "cell_type": "code",
   "execution_count": null,
   "metadata": {},
   "outputs": [],
   "source": [
    "show_image_against_road(raw_image, combined_road_mask, size=-1, figsize=(40,40),\n",
    "                        show_plot=False, close_plot=False)\n",
    "# split by row\n",
    "line_1 = [img_parallel_line(760-170)(x) for x in range(0, combined_road_mask.shape[1])]\n",
    "line_2 = [img_parallel_line(760)(x) for x in range(0, combined_road_mask.shape[1])]\n",
    "plt.plot(line_1)\n",
    "plt.plot(line_2)\n",
    "plt.show()\n",
    "plt.close()"
   ]
  },
  {
   "cell_type": "code",
   "execution_count": null,
   "metadata": {},
   "outputs": [],
   "source": [
    "show_image_against_road(raw_image, combined_road_mask, size=-1, figsize=(150,150),\n",
    "                        show_plot=False, close_plot=False)\n",
    "plt.plot(line_1)\n",
    "plt.plot(line_2)\n",
    "\n",
    "plt.savefig('./Result/data_split.png')\n",
    "plt.close()"
   ]
  },
  {
   "cell_type": "markdown",
   "metadata": {},
   "source": [
    "split set into train cv test"
   ]
  },
  {
   "cell_type": "code",
   "execution_count": null,
   "metadata": {},
   "outputs": [],
   "source": [
    "def copy_into_slice(raw_image, road_mask, height, width, line_1, line_2, base_func, cmp_func):\n",
    "\n",
    "    road_mask_slice = np.zeros((height, width))\n",
    "    raw_image_slice = np.zeros((7, height, width))-9999\n",
    "    print(raw_image_slice.shape, road_mask_slice.shape)\n",
    "\n",
    "    for i in range(height):\n",
    "        for j in range(width):\n",
    "            img_x = base_func(i)\n",
    "\n",
    "            if cmp_func(img_x, j):\n",
    "                road_mask_slice[i,j] = road_mask[img_x,j]\n",
    "                raw_image_slice[:,i,j] = raw_image[:,img_x,j]\n",
    "                \n",
    "    return (raw_image_slice, road_mask_slice)"
   ]
  },
  {
   "cell_type": "code",
   "execution_count": null,
   "metadata": {},
   "outputs": [],
   "source": [
    "def copy_road_into_slice(road_mask, height, width, line_1, line_2, base_func, cmp_func):\n",
    "\n",
    "    road_mask_slice = np.zeros((height, width))\n",
    "    for i in range(height):\n",
    "        for j in range(width):\n",
    "            img_x = base_func(i)\n",
    "\n",
    "            if cmp_func(img_x, j):\n",
    "                road_mask_slice[i,j] = road_mask[img_x,j]\n",
    "                \n",
    "    return road_mask_slice"
   ]
  },
  {
   "cell_type": "code",
   "execution_count": null,
   "metadata": {},
   "outputs": [],
   "source": [
    "# train\n",
    "raw_image_train, road_mask_train = copy_into_slice(raw_image, combined_road_mask, \n",
    "                                                   height= int(combined_road_mask.shape[0]-min(line_2))+1,\n",
    "                                                   width=combined_road_mask.shape[1], \n",
    "                                                   line_1 = line_1, line_2 = line_2,\n",
    "                                                   base_func = lambda i: i+int(min(line_2)),\n",
    "                                                   cmp_func = lambda img_x, j: img_x > line_2[j])\n",
    "\n",
    "show_image_against_road(raw_image_train, road_mask_train, size=-1, figsize=(50,50),\n",
    "                        show_plot=True, show_raw=False, close_plot=False)"
   ]
  },
  {
   "cell_type": "code",
   "execution_count": null,
   "metadata": {},
   "outputs": [],
   "source": [
    "show_image_against_road(raw_image_train, road_mask_train, size=-1, figsize=(50,50),\n",
    "                        show_plot=True, show_raw=False, close_plot=False)"
   ]
  },
  {
   "cell_type": "code",
   "execution_count": null,
   "metadata": {
    "scrolled": true
   },
   "outputs": [],
   "source": [
    "# CV\n",
    "raw_image_CV, road_mask_CV = copy_into_slice(raw_image, combined_road_mask, \n",
    "                                             height= int(combined_road_mask.shape[0]-min(line_2))+1,\n",
    "                                             width=combined_road_mask.shape[1], \n",
    "                                             line_1 = line_1, line_2 = line_2,\n",
    "                                             base_func = lambda i: i+int(min(line_2)),\n",
    "                                             cmp_func = lambda x, j: line_1[j] < x and x < line_2[j])\n",
    "\n",
    "show_image_against_road(raw_image_CV, road_mask_CV, size=-1, figsize=(50,50),\n",
    "                        show_plot=True, show_raw=False, close_plot=False)"
   ]
  },
  {
   "cell_type": "code",
   "execution_count": null,
   "metadata": {},
   "outputs": [],
   "source": [
    "show_image_against_road(raw_image_cv, road_mask_cv, size=-1, figsize=(50,50),\n",
    "                        show_plot=True, show_raw=False, close_plot=False)"
   ]
  },
  {
   "cell_type": "code",
   "execution_count": null,
   "metadata": {},
   "outputs": [],
   "source": [
    "# test\n",
    "raw_image_test, road_mask_test = copy_into_slice(raw_image, combined_road_mask, \n",
    "                                                 height= int(max(line_1))+1,\n",
    "                                                 width=combined_road_mask.shape[1],\n",
    "                                                 line_1 = line_1, line_2 = line_2,\n",
    "                                                 base_func = lambda i: i,\n",
    "                                                 cmp_func = lambda img_x, j: img_x < line_1[j])\n",
    "\n",
    "show_image_against_road(raw_image_test, road_mask_test, size=-1, figsize=(50,50),\n",
    "                        show_plot=True, show_raw=False, close_plot=False)"
   ]
  },
  {
   "cell_type": "code",
   "execution_count": null,
   "metadata": {},
   "outputs": [],
   "source": [
    "show_image_against_road(raw_image_test, road_mask_test, size=-1, figsize=(50,50),\n",
    "                        show_plot=True, show_raw=False, close_plot=False)"
   ]
  },
  {
   "cell_type": "markdown",
   "metadata": {},
   "source": [
    "Reload image & lines"
   ]
  },
  {
   "cell_type": "code",
   "execution_count": 3,
   "metadata": {},
   "outputs": [],
   "source": [
    "data_dir = \"../Data/090085/Road_Data/motor_trunk_pri_sec_tert_uncl_track/\"\n",
    "\n",
    "split_line_name = \"img_split_lines.h5\"\n",
    "h5f = h5py.File(data_dir + split_line_name, 'r')\n",
    "line_1 = list(h5f['line_cv_test'])\n",
    "line_2 = list(h5f['line_train_cv'])\n",
    "h5f.close()\n",
    "\n",
    "img_data_name = \"img_split.h5\"\n",
    "h5f = h5py.File(data_dir + img_data_name, 'r')\n",
    "train_h5f = h5f['train']\n",
    "raw_image_train = np.array(train_h5f['raw_image'])\n",
    "road_mask_train = np.array(train_h5f['road_mask'])\n",
    "    \n",
    "cv_h5f = h5f['cv']\n",
    "raw_image_CV = np.array(cv_h5f['raw_image'])\n",
    "road_mask_CV = np.array(cv_h5f['road_mask'])\n",
    "\n",
    "test_h5f = h5f['test']\n",
    "raw_image_test = np.array(test_h5f['raw_image'])\n",
    "road_mask_test = np.array(test_h5f['road_mask'])\n",
    "h5f.close()"
   ]
  },
  {
   "cell_type": "markdown",
   "metadata": {},
   "source": [
    "create top-left coordinate"
   ]
  },
  {
   "cell_type": "code",
   "execution_count": 5,
   "metadata": {},
   "outputs": [],
   "source": [
    "divide = True\n",
    "size = 8\n",
    "name = \"posneg_topleft_coord_split_thr1_128_16\"\n",
    "save_dir_path = \"../Data/090085/Road_Data/motor_trunk_pri_sec_tert_uncl_track/\""
   ]
  },
  {
   "cell_type": "markdown",
   "metadata": {},
   "source": [
    "Train"
   ]
  },
  {
   "cell_type": "code",
   "execution_count": null,
   "metadata": {},
   "outputs": [],
   "source": [
    "# Train\n",
    "create_set_with_name(raw_image=raw_image_train, combined_road_mask=road_mask_train,\n",
    "                     divide = divide, step = size, save_dir_path = save_dir_path,\n",
    "                     name = name+\"_train\")"
   ]
  },
  {
   "cell_type": "markdown",
   "metadata": {},
   "source": [
    "CV"
   ]
  },
  {
   "cell_type": "code",
   "execution_count": null,
   "metadata": {},
   "outputs": [],
   "source": [
    "# CV\n",
    "create_set_with_name(raw_image=raw_image_cv, combined_road_mask=road_mask_cv,\n",
    "                     divide = divide, step = size, save_dir_path = save_dir_path,\n",
    "                     name = name+\"_cv\")"
   ]
  },
  {
   "cell_type": "markdown",
   "metadata": {},
   "source": [
    "Test"
   ]
  },
  {
   "cell_type": "code",
   "execution_count": null,
   "metadata": {},
   "outputs": [],
   "source": [
    "# Test\n",
    "create_set_with_name(raw_image=raw_image_test, combined_road_mask=road_mask_test,\n",
    "                     divide = divide, step = size, save_dir_path = save_dir_path,\n",
    "                     name = name+\"_test\")"
   ]
  },
  {
   "cell_type": "code",
   "execution_count": null,
   "metadata": {},
   "outputs": [],
   "source": [
    "from sys import getsizeof, stderr\n",
    "from itertools import chain\n",
    "from collections import deque\n",
    "try:\n",
    "    from reprlib import repr\n",
    "except ImportError:\n",
    "    pass\n",
    "\n",
    "def total_size(o, handlers={}, verbose=False):\n",
    "    \"\"\" Returns the approximate memory footprint an object and all of its contents.\n",
    "\n",
    "    Automatically finds the contents of the following builtin containers and\n",
    "    their subclasses:  tuple, list, deque, dict, set and frozenset.\n",
    "    To search other containers, add handlers to iterate over their contents:\n",
    "\n",
    "        handlers = {SomeContainerClass: iter,\n",
    "                    OtherContainerClass: OtherContainerClass.get_elements}\n",
    "\n",
    "    \"\"\"\n",
    "    dict_handler = lambda d: chain.from_iterable(d.items())\n",
    "    all_handlers = {tuple: iter,\n",
    "                    list: iter,\n",
    "                    deque: iter,\n",
    "                    dict: dict_handler,\n",
    "                    set: iter,\n",
    "                    frozenset: iter,\n",
    "                   }\n",
    "    all_handlers.update(handlers)     # user handlers take precedence\n",
    "    seen = set()                      # track which object id's have already been seen\n",
    "    default_size = getsizeof(0)       # estimate sizeof object without __sizeof__\n",
    "\n",
    "    def sizeof(o):\n",
    "        if id(o) in seen:       # do not double count the same object\n",
    "            return 0\n",
    "        seen.add(id(o))\n",
    "        s = getsizeof(o, default_size)\n",
    "\n",
    "        if verbose:\n",
    "            print(s, type(o), repr(o), file=stderr)\n",
    "\n",
    "        for typ, handler in all_handlers.items():\n",
    "            if isinstance(o, typ):\n",
    "                s += sum(map(sizeof, handler(o)))\n",
    "                break\n",
    "        return s\n",
    "\n",
    "    return sizeof(o)"
   ]
  },
  {
   "cell_type": "code",
   "execution_count": null,
   "metadata": {},
   "outputs": [],
   "source": []
  }
 ],
 "metadata": {
  "kernelspec": {
   "display_name": "Python 3",
   "language": "python",
   "name": "python3"
  },
  "language_info": {
   "codemirror_mode": {
    "name": "ipython",
    "version": 3
   },
   "file_extension": ".py",
   "mimetype": "text/x-python",
   "name": "python",
   "nbconvert_exporter": "python",
   "pygments_lexer": "ipython3",
   "version": "3.6.4"
  }
 },
 "nbformat": 4,
 "nbformat_minor": 2
}
