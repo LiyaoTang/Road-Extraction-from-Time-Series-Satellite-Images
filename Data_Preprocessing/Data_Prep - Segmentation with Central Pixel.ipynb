{
 "cells": [
  {
   "cell_type": "code",
   "execution_count": 1,
   "metadata": {},
   "outputs": [
    {
     "name": "stderr",
     "output_type": "stream",
     "text": [
      "/home/admin-u6142160/anaconda3/lib/python3.6/site-packages/h5py/__init__.py:36: FutureWarning: Conversion of the second argument of issubdtype from `float` to `np.floating` is deprecated. In future, it will be treated as `np.float64 == np.dtype(float).type`.\n",
      "  from ._conv import register_converters as _register_converters\n"
     ]
    }
   ],
   "source": [
    "import numpy as np\n",
    "import matplotlib.pyplot as plt\n",
    "import matplotlib.image as mpimg\n",
    "import matplotlib\n",
    "import h5py\n",
    "import sys\n",
    "import scipy.io as sio\n",
    "import skimage.io\n",
    "\n",
    "sys.path.append(\"../Visualization/\")\n",
    "\n",
    "from optparse import OptionParser\n",
    "from Preprocess_Utilities import *\n",
    "from Visualization import *"
   ]
  },
  {
   "cell_type": "code",
   "execution_count": null,
   "metadata": {},
   "outputs": [],
   "source": [
    "parser = OptionParser()\n",
    "\n",
    "parser.add_option(\"-m\", \"--image\", dest=\"img_path\")\n",
    "parser.add_option(\"-r\", \"--road\", dest=\"road_dir_path\")\n",
    "parser.add_option(\"-s\", \"--save_dir\", dest=\"save_dir_path\")\n",
    "parser.add_option(\"--step\", type=\"int\", dest=\"step\")\n",
    "parser.add_option(\"-d\", \"--divide\", action=\"store_true\", dest=\"divide\")\n",
    "parser.add_option(\"-n\", \"--name\", dest=\"name\")\n",
    "\n",
    "(options, args) = parser.parse_args()\n",
    "\n",
    "img_path = options.data_path\n",
    "road_dir_path = options.road_dir_path\n",
    "save_dir_path = options.save_dir_path\n",
    "step = options.step\n",
    "divide = options.divide\n",
    "\n",
    "if not img_path:\n",
    "    img_path = '/localdata/u6142160/Data/090085/All_Data/090085_20170531.h5'\n",
    "if not road_dir_path:\n",
    "    road_dir_path = '/localdata/u6142160/Data/090085/Road_Data/'\n",
    "if not save_dir_path:\n",
    "    print('no save_dir_path')\n",
    "    sys.exit()\n",
    "if not step:\n",
    "    print('no step specified')\n",
    "    sys.exit()\n",
    "if not name:\n",
    "    name = \"patch_set.h5\"\n",
    "\n",
    "save_dir_path = save_dir_path.strip('/') + '/'\n",
    "print(\"will be saved into \", save_dir_path, name)"
   ]
  },
  {
   "cell_type": "code",
   "execution_count": 2,
   "metadata": {},
   "outputs": [],
   "source": [
    "img_path = '../Data/090085/All_Data/090085_20170531.h5'\n",
    "road_dir_path = '../Data/090085/Road_Data/'"
   ]
  },
  {
   "cell_type": "code",
   "execution_count": 3,
   "metadata": {},
   "outputs": [],
   "source": [
    "# create road mask paths list\n",
    "road_type = np.array([\"motorway\", \"trunk\", \"primary\", \"secondary\", \"tertiary\", \"unclassified\", \"track\", # 0-6\n",
    "                      \"residential\", \"service\", \"road\", \"living_street\", # 7-10\n",
    "                      \"all_roads\"]) # 11 \n",
    "#                       \"motor_trunk_pri_sec_tert_uncl_track\", \"motor_trunk_pri_sec_tert_uncl\"]) # 12-13\n",
    "\n",
    "road_mask_path = np.char.add(road_dir_path, \n",
    "                             np.char.add(np.char.add(road_type, '/'), np.char.add(road_type, '.tif')))"
   ]
  },
  {
   "cell_type": "code",
   "execution_count": 4,
   "metadata": {},
   "outputs": [
    {
     "name": "stdout",
     "output_type": "stream",
     "text": [
      "road mask loaded in ...\n",
      "../Data/090085/Road_Data/motorway/motorway.tif\n",
      "../Data/090085/Road_Data/trunk/trunk.tif\n",
      "../Data/090085/Road_Data/primary/primary.tif\n",
      "../Data/090085/Road_Data/secondary/secondary.tif\n",
      "../Data/090085/Road_Data/tertiary/tertiary.tif\n",
      "../Data/090085/Road_Data/unclassified/unclassified.tif\n",
      "../Data/090085/Road_Data/track/track.tif\n",
      "../Data/090085/Road_Data/residential/residential.tif\n",
      "../Data/090085/Road_Data/service/service.tif\n",
      "../Data/090085/Road_Data/road/road.tif\n",
      "../Data/090085/Road_Data/living_street/living_street.tif\n",
      "../Data/090085/Road_Data/all_roads/all_roads.tif\n"
     ]
    }
   ],
   "source": [
    "# read in raw image\n",
    "raw_image = np.array(h5py.File(img_path)['scene'])\n",
    "\n",
    "# read in road mask\n",
    "print('road mask loaded in ...')\n",
    "road_img_list = []\n",
    "for cur_path in road_mask_path:\n",
    "    print(cur_path)\n",
    "    road_img_list.append(skimage.io.imread(cur_path))\n",
    "\n",
    "road_img_list = np.array(road_img_list)\n",
    "\n",
    "# assert 0-1 coding\n",
    "assert (np.logical_or(road_img_list == 1, road_img_list == 0)).all()"
   ]
  },
  {
   "cell_type": "code",
   "execution_count": 5,
   "metadata": {},
   "outputs": [
    {
     "name": "stdout",
     "output_type": "stream",
     "text": [
      "Used masks ... \n",
      "../Data/090085/Road_Data/motorway/motorway.tif\n",
      "../Data/090085/Road_Data/trunk/trunk.tif\n",
      "../Data/090085/Road_Data/primary/primary.tif\n",
      "../Data/090085/Road_Data/secondary/secondary.tif\n",
      "../Data/090085/Road_Data/tertiary/tertiary.tif\n",
      "../Data/090085/Road_Data/unclassified/unclassified.tif\n",
      "../Data/090085/Road_Data/track/track.tif\n",
      "(7961, 8091) True\n"
     ]
    }
   ],
   "source": [
    "# combine the road mask\n",
    "print(\"Used masks ... \")\n",
    "combined_road_mask = 0\n",
    "for i in [0,1,2,3,4,5,6]:\n",
    "    print(road_mask_path[i])\n",
    "    combined_road_mask += road_img_list[i]\n",
    "print(combined_road_mask.shape, (combined_road_mask > 1).any())\n",
    "\n",
    "combined_road_mask[np.where(combined_road_mask > 1)] = 1\n",
    "assert (np.logical_or(combined_road_mask == 1, combined_road_mask == 0)).all()"
   ]
  },
  {
   "cell_type": "code",
   "execution_count": 6,
   "metadata": {},
   "outputs": [
    {
     "name": "stderr",
     "output_type": "stream",
     "text": [
      "/home/admin-u6142160/anaconda3/lib/python3.6/site-packages/skimage/io/_io.py:132: UserWarning: ../Data/090085/Road_Data/motor_trunk_pri_sec_tert_uncl_track/road_mask.tif is a low contrast image\n",
      "  warn('%s is a low contrast image' % fname)\n"
     ]
    }
   ],
   "source": [
    "# save the combined road mask\n",
    "save_dir_path = \"../Data/090085/Road_Data/motor_trunk_pri_sec_tert_uncl_track/\"\n",
    "skimage.io.imsave(save_dir_path + 'road_mask.tif', combined_road_mask)"
   ]
  },
  {
   "cell_type": "code",
   "execution_count": 5,
   "metadata": {},
   "outputs": [],
   "source": [
    "# reload combined road mask\n",
    "combined_road_mask = skimage.io.imread(\"../Data/090085/Road_Data/motor_trunk_pri_sec_tert_uncl_track/road_mask.tif\")"
   ]
  },
  {
   "cell_type": "markdown",
   "metadata": {},
   "source": [
    "split image in a balanced way"
   ]
  },
  {
   "cell_type": "code",
   "execution_count": 25,
   "metadata": {},
   "outputs": [],
   "source": [
    "# pass in the road mask, split on the spcified axis (default to row => up-down split)\n",
    "def searching_split(raw_image, road_mask, axis=0):\n",
    "\n",
    "    def get_index_range(i, axis=0):\n",
    "        if axis: # split from col            \n",
    "            if i > 5456:\n",
    "                a = (i-1652)/3.686795\n",
    "                b = (i-7766)/-0.2988061\n",
    "            elif i >1752:\n",
    "                a = (i-1652)/3.686795\n",
    "                b = (i+23831)/3.787836\n",
    "            else:\n",
    "                a = (i-1759)/-0.2625974\n",
    "                b = (i+23831)/3.787836\n",
    "            \n",
    "        else: # split from row\n",
    "            if i > 6318:\n",
    "                a = 3.787836*i-23831\n",
    "                b = -0.2988061*i+7766\n",
    "            elif i >1534:\n",
    "                a = -0.2625974*i+1759\n",
    "                b = -0.2988061*i+7766\n",
    "            else:\n",
    "                a = -0.2625974*i+1759\n",
    "                b = 3.686795*i+1652\n",
    "        return int(a), int(b)\n",
    "    \n",
    "    road_cnt = np.zeros(road_mask.shape[axis])\n",
    "    print(road_cnt.size)\n",
    "    for i in range(road_cnt.size):\n",
    "        start, end = get_index_range(i, axis)\n",
    "        \n",
    "        if end-start > 0:\n",
    "            if axis == 0 and (raw_image[0][i] != -9999).any():\n",
    "                road_cnt[i] = road_mask[i, start:end+1].sum()\n",
    "            elif axis == 1 and (raw_image[0][:, i] != -9999).any():\n",
    "                road_cnt[i] = road_mask[start:end+1,i].sum()\n",
    "\n",
    "    min_diff = road_cnt.sum() + 1\n",
    "    idx_list = []\n",
    "    diff_list = []\n",
    "    \n",
    "    for i in range(1,road_cnt.size):\n",
    "        cur_diff = abs((road_cnt[:i].sum() / i) - (road_cnt[i:].sum() / (road_cnt.size-i)))\n",
    "        \n",
    "        if cur_diff < min_diff:\n",
    "            min_diff = cur_diff\n",
    "            \n",
    "            idx_list.append(i)\n",
    "            diff_list.append(min_diff)\n",
    "    \n",
    "    diff_list = np.array(diff_list)\n",
    "    idx_list = np.array(idx_list)\n",
    "    \n",
    "    return idx_list[np.where(diff_list == min_diff)[0]], min_diff"
   ]
  },
  {
   "cell_type": "code",
   "execution_count": 20,
   "metadata": {
    "scrolled": false
   },
   "outputs": [
    {
     "name": "stdout",
     "output_type": "stream",
     "text": [
      "(array([1217]), 0.03884654523549358)\n",
      "\n",
      "(array([2971]), 0.01526001346348238)\n"
     ]
    }
   ],
   "source": [
    "print(searching_split(raw_image, combined_road_mask, 0))\n",
    "print()\n",
    "print(searching_split(raw_image, combined_road_mask, 1))"
   ]
  },
  {
   "cell_type": "code",
   "execution_count": 28,
   "metadata": {},
   "outputs": [
    {
     "name": "stdout",
     "output_type": "stream",
     "text": [
      "1217\n",
      "(array([1]), 58.157072368421055)\n",
      "\n",
      "8091\n",
      "(array([2923]), 0.008933101302893931)\n"
     ]
    }
   ],
   "source": [
    "print(searching_split(raw_image[:,:1217,:], combined_road_mask[:1217,:], 0))\n",
    "print()\n",
    "print(searching_split(raw_image[:,:1217,:], combined_road_mask[:1217,:], 1))"
   ]
  },
  {
   "cell_type": "code",
   "execution_count": 6,
   "metadata": {
    "scrolled": false
   },
   "outputs": [],
   "source": [
    "show_image_against_road(raw_image, combined_road_mask, size=-1, figsize=(150,150),\n",
    "                        show_plot=False, close_plot=False)\n",
    "# split by row\n",
    "plt.axhline(1170) # selected\n",
    "\n",
    "# split by col\n",
    "plt.axvline(3171) # selected\n",
    "plt.axvline(2923)\n",
    "plt.savefig('./Result/data_split.png')\n",
    "plt.close()"
   ]
  },
  {
   "cell_type": "markdown",
   "metadata": {},
   "source": [
    "create top-left coordinate"
   ]
  },
  {
   "cell_type": "code",
   "execution_count": 17,
   "metadata": {},
   "outputs": [
    {
     "name": "stdout",
     "output_type": "stream",
     "text": [
      "pos coordinates' shape= (320813, 2)\n",
      "neg coordinates' shape= (22784183, 2)\n",
      "saved into  ../Data/090085/Road_Data/motor_trunk_pri_sec_tert_uncl_track/posneg_topleft_coord_split_8_train\n"
     ]
    }
   ],
   "source": [
    "# # split by row\n",
    "# plt.axhline(1170) # selected\n",
    "\n",
    "# # split by col\n",
    "# plt.axvline(3171) # selected\n",
    "\n",
    "divide = True\n",
    "step = 8\n",
    "save_dir_path = \"../Data/090085/Road_Data/motor_trunk_pri_sec_tert_uncl_track/\"\n",
    "name = \"posneg_topleft_coord_split_8\"\n",
    "\n",
    "create_set_with_name(raw_image=raw_image[:, 1170:, :], combined_road_mask=combined_road_mask[1170:, :],\n",
    "                     divide = divide, step = step, save_dir_path = save_dir_path,\n",
    "                     name = name+\"_train\")"
   ]
  },
  {
   "cell_type": "code",
   "execution_count": 18,
   "metadata": {},
   "outputs": [
    {
     "name": "stdout",
     "output_type": "stream",
     "text": [
      "pos coordinates' shape= (30350, 2)\n",
      "neg coordinates' shape= (1305067, 2)\n",
      "saved into  ../Data/090085/Road_Data/motor_trunk_pri_sec_tert_uncl_track/posneg_topleft_coord_split_8_test\n",
      "pos coordinates' shape= (21651, 2)\n",
      "neg coordinates' shape= (1012131, 2)\n",
      "saved into  ../Data/090085/Road_Data/motor_trunk_pri_sec_tert_uncl_track/posneg_topleft_coord_split_8_cv\n"
     ]
    }
   ],
   "source": [
    "create_set_with_name(raw_image=raw_image[:, :1170, :3171], combined_road_mask=combined_road_mask[:1170,:3171],\n",
    "                     divide = divide, step = step, save_dir_path = save_dir_path,\n",
    "                     name = name+\"_test\")\n",
    "create_set_with_name(raw_image=raw_image[:, :1170, 3171:], combined_road_mask=combined_road_mask[:1170, 3171:],\n",
    "                     divide = divide, step = step, save_dir_path = save_dir_path,\n",
    "                     name = name+\"_cv\")"
   ]
  },
  {
   "cell_type": "code",
   "execution_count": null,
   "metadata": {},
   "outputs": [],
   "source": [
    "# # plot out some patches\n",
    "# # [0-21450]\n",
    "# index = 1000\n",
    "\n",
    "# has_road = road_existence[index]\n",
    "# mask = road_patch[index]\n",
    "# patch = np.array([image_patch[index][3].T, image_patch[index][2].T, image_patch[index][1].T]).T\n",
    "\n",
    "# print(has_road, patch.max(), patch.min(), patch.shape, mask.shape)\n",
    "# patch = patch * 0.0001 * 5\n",
    "\n",
    "# # plot raw img\n",
    "# plt.imshow(patch)\n",
    "# plt.show()\n",
    "# plt.clf()\n",
    "\n",
    "# # plot road mask\n",
    "# plt.imshow(mask, cmap=plt.get_cmap('gray'))\n",
    "# plt.show()\n",
    "# plt.clf()"
   ]
  },
  {
   "cell_type": "code",
   "execution_count": null,
   "metadata": {},
   "outputs": [],
   "source": []
  }
 ],
 "metadata": {
  "kernelspec": {
   "display_name": "Python 3",
   "language": "python",
   "name": "python3"
  },
  "language_info": {
   "codemirror_mode": {
    "name": "ipython",
    "version": 3
   },
   "file_extension": ".py",
   "mimetype": "text/x-python",
   "name": "python",
   "nbconvert_exporter": "python",
   "pygments_lexer": "ipython3",
   "version": "3.6.4"
  }
 },
 "nbformat": 4,
 "nbformat_minor": 2
}
