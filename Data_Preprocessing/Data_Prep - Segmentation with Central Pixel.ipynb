{
 "cells": [
  {
   "cell_type": "code",
   "execution_count": 3,
   "metadata": {},
   "outputs": [],
   "source": [
    "import numpy as np\n",
    "import matplotlib.pyplot as plt\n",
    "import matplotlib.image as mpimg\n",
    "import h5py\n",
    "import scipy.io as sio\n",
    "import skimage.io\n",
    "\n",
    "from Preprocess_Utilities import *"
   ]
  },
  {
   "cell_type": "code",
   "execution_count": 4,
   "metadata": {},
   "outputs": [],
   "source": [
    "# data path\n",
    "route_path = \"../Data/090085/\"\n",
    "road_type = np.array([\"motorway\", \"trunk\", \"primary\", \"secondary\", \"tertiary\", \"unclassified\", \"track\", # 0-6\n",
    "                      \"residential\", \"service\", \"road\", \"living_street\", # 7-10\n",
    "                      \"all_roads\"]) # 11 \n",
    "#                       \"motor_trunk_pri_sec_tert_uncl_track\", \"motor_trunk_pri_sec_tert_uncl\"]) # 12-13\n",
    "\n",
    "path_raw_image = route_path + \"090085_20170531.h5\"\n",
    "path_road_mask = np.char.add(np.char.add(np.char.add(route_path+\"Road_Data/\",road_type),\n",
    "                                         np.char.add('/', road_type)), '.tif')"
   ]
  },
  {
   "cell_type": "code",
   "execution_count": 5,
   "metadata": {},
   "outputs": [
    {
     "name": "stdout",
     "output_type": "stream",
     "text": [
      "../Data/090085/Road_Data/motorway/motorway.tif\n",
      "../Data/090085/Road_Data/trunk/trunk.tif\n",
      "../Data/090085/Road_Data/primary/primary.tif\n",
      "../Data/090085/Road_Data/secondary/secondary.tif\n",
      "../Data/090085/Road_Data/tertiary/tertiary.tif\n",
      "../Data/090085/Road_Data/unclassified/unclassified.tif\n",
      "../Data/090085/Road_Data/track/track.tif\n",
      "../Data/090085/Road_Data/residential/residential.tif\n",
      "../Data/090085/Road_Data/service/service.tif\n",
      "../Data/090085/Road_Data/road/road.tif\n",
      "../Data/090085/Road_Data/living_street/living_street.tif\n",
      "../Data/090085/Road_Data/all_roads/all_roads.tif\n"
     ]
    }
   ],
   "source": [
    "# read in raw image\n",
    "raw_image = np.array(h5py.File(path_raw_image)['scene'])\n",
    "\n",
    "# read in road mask\n",
    "road_img_list = []\n",
    "for cur_path in path_road_mask:\n",
    "    print(cur_path)\n",
    "    road_img_list.append(skimage.io.imread(cur_path))\n",
    "\n",
    "road_img_list = np.array(road_img_list)\n",
    "\n",
    "# assert 0-1 coding\n",
    "assert (np.logical_or(road_img_list == 1, road_img_list == 0)).all()"
   ]
  },
  {
   "cell_type": "code",
   "execution_count": 6,
   "metadata": {
    "scrolled": true
   },
   "outputs": [
    {
     "name": "stdout",
     "output_type": "stream",
     "text": [
      "<class 'numpy.ndarray'> (7, 7961, 8091)\n",
      "<class 'numpy.ndarray'> (12, 7961, 8091)\n"
     ]
    }
   ],
   "source": [
    "print(type(raw_image), raw_image.shape)\n",
    "print(type(road_img_list), road_img_list.shape)"
   ]
  },
  {
   "cell_type": "code",
   "execution_count": 7,
   "metadata": {},
   "outputs": [
    {
     "name": "stdout",
     "output_type": "stream",
     "text": [
      "Used labels:\n",
      "../Data/090085/Road_Data/motorway/motorway.tif\n",
      "../Data/090085/Road_Data/trunk/trunk.tif\n",
      "../Data/090085/Road_Data/primary/primary.tif\n",
      "../Data/090085/Road_Data/secondary/secondary.tif\n",
      "../Data/090085/Road_Data/tertiary/tertiary.tif\n",
      "(7961, 8091) True\n"
     ]
    }
   ],
   "source": [
    "# combine the road mask\n",
    "print(\"Used labels:\")\n",
    "combined_road_mask = 0\n",
    "for i in range(5):\n",
    "    print(path_road_mask[i])\n",
    "    combined_road_mask += road_img_list[i]\n",
    "print(combined_road_mask.shape, (combined_road_mask > 1).any())\n",
    "\n",
    "combined_road_mask[np.where(combined_road_mask > 1)] = 1\n",
    "assert (np.logical_or(combined_road_mask == 1, combined_road_mask == 0)).all()"
   ]
  },
  {
   "cell_type": "code",
   "execution_count": null,
   "metadata": {
    "collapsed": true
   },
   "outputs": [],
   "source": [
    "# save the combined road mask\n",
    "save_path = \"../Data/090085/Road_Data/motor_trunk_pri_sec_tert/motor_trunk_pri_sec_tert.tif\"\n",
    "skimage.io.imsave(save_path, combined_road_mask)\n",
    "\n",
    "skimg_mask = skimage.io.imread(save_path)\n",
    "print((skimg_mask == combined_road_mask).all())\n",
    "assert (np.logical_or(skimg_mask == 1, skimg_mask == 0)).all()"
   ]
  },
  {
   "cell_type": "code",
   "execution_count": 9,
   "metadata": {},
   "outputs": [
    {
     "name": "stdout",
     "output_type": "stream",
     "text": [
      "(17154396, 2)\n"
     ]
    }
   ],
   "source": [
    "# record the top-left coordinate of each possible patches & calculate mu, sigma\n",
    "step = 28\n",
    "topleft_coordinate = []\n",
    "\n",
    "# get some negative sample near the positive one\n",
    "row_offset = 0\n",
    "while (row_offset + step <= raw_image.shape[1]):\n",
    "    col_offset = 0\n",
    "    while (col_offset + step <= raw_image.shape[2]):\n",
    "        cur_img_patch = raw_image[:,row_offset:row_offset+step, col_offset:col_offset+step]\n",
    "        \n",
    "        if (cur_img_patch != -9999).all():\n",
    "            topleft_coordinate.append((row_offset, col_offset))\n",
    "        \n",
    "        col_offset += 1\n",
    "    row_offset += 1\n",
    "\n",
    "topleft_coordinate = np.array(topleft_coordinate)\n",
    "print(topleft_coordinate.shape)"
   ]
  },
  {
   "cell_type": "code",
   "execution_count": 12,
   "metadata": {
    "collapsed": true
   },
   "outputs": [],
   "source": [
    "# save set\n",
    "h5_path = \"../Data/090085/Road_Data/motor_trunk_pri_sec_tert/topleft_coordinate.h5\"\n",
    "h5f = h5py.File(h5_path, 'w')\n",
    "h5f.create_dataset(name='topleft_coordinate', shape=topleft_coordinate.shape, data=topleft_coordinate)\n",
    "h5f.close()"
   ]
  },
  {
   "cell_type": "code",
   "execution_count": 13,
   "metadata": {},
   "outputs": [
    {
     "name": "stdout",
     "output_type": "stream",
     "text": [
      "True\n"
     ]
    }
   ],
   "source": [
    "h5f = h5py.File(h5_path, 'r')\n",
    "h5_topleft_coordinate = np.array(h5f['topleft_coordinate'])\n",
    "h5f.close()\n",
    "\n",
    "print((h5_topleft_coordinate == topleft_coordinate).all())"
   ]
  },
  {
   "cell_type": "code",
   "execution_count": null,
   "metadata": {
    "collapsed": true
   },
   "outputs": [],
   "source": [
    "# plot out some patches\n",
    "# [0-21450]\n",
    "index = 1000\n",
    "\n",
    "has_road = road_existence[index]\n",
    "mask = road_patch[index]\n",
    "patch = np.array([image_patch[index][3].T, image_patch[index][2].T, image_patch[index][1].T]).T\n",
    "\n",
    "print(has_road, patch.max(), patch.min(), patch.shape, mask.shape)\n",
    "patch = patch * 0.0001 * 5\n",
    "\n",
    "# plot raw img\n",
    "plt.imshow(patch)\n",
    "plt.show()\n",
    "plt.clf()\n",
    "\n",
    "# plot road mask\n",
    "plt.imshow(mask, cmap=plt.get_cmap('gray'))\n",
    "plt.show()\n",
    "plt.clf()"
   ]
  },
  {
   "cell_type": "code",
   "execution_count": null,
   "metadata": {
    "collapsed": true
   },
   "outputs": [],
   "source": []
  }
 ],
 "metadata": {
  "kernelspec": {
   "display_name": "Python 3",
   "language": "python",
   "name": "python3"
  },
  "language_info": {
   "codemirror_mode": {
    "name": "ipython",
    "version": 3
   },
   "file_extension": ".py",
   "mimetype": "text/x-python",
   "name": "python",
   "nbconvert_exporter": "python",
   "pygments_lexer": "ipython3",
   "version": "3.6.2"
  }
 },
 "nbformat": 4,
 "nbformat_minor": 2
}
