{
 "cells": [
  {
   "cell_type": "code",
   "execution_count": 2,
   "metadata": {
    "collapsed": true
   },
   "outputs": [],
   "source": [
    "import numpy as np\n",
    "import matplotlib.pyplot as plt\n",
    "import matplotlib.image as mpimg\n",
    "import h5py\n",
    "import scipy.io as sio\n",
    "import skimage.io\n",
    "\n",
    "from Preprocess_Utilities import *"
   ]
  },
  {
   "cell_type": "code",
   "execution_count": 3,
   "metadata": {
    "collapsed": true
   },
   "outputs": [],
   "source": [
    "# data path\n",
    "route_path = \"../Data/090085/\"\n",
    "road_type = np.array([\"motorway\", \"trunk\", \"primary\", \"secondary\", \"tertiary\", \"unclassified\", \"track\",\n",
    "                      \"residential\", \"service\", \"road\", \"living_street\",\n",
    "                      \"motor_trunk_pri_sec_tert_uncl_track\", \"motor_trunk_pri_sec_tert_uncl\"])\n",
    "\n",
    "path_raw_image = route_path + \"090085_20170531.h5\"\n",
    "path_road_mask = np.char.add(np.char.add(np.char.add(route_path+\"Road_Data/\",road_type),\n",
    "                                         np.char.add('/', road_type)), '.tif')"
   ]
  },
  {
   "cell_type": "code",
   "execution_count": 4,
   "metadata": {},
   "outputs": [
    {
     "name": "stdout",
     "output_type": "stream",
     "text": [
      "../Data/090085/Road_Data/motor_trunk_pri_sec_tert_uncl_track/motor_trunk_pri_sec_tert_uncl_track.tif\n"
     ]
    }
   ],
   "source": [
    "# read in raw image\n",
    "raw_image = np.array(h5py.File(path_raw_image)['scene'])\n",
    "\n",
    "# read in road mask\n",
    "cur_path = path_road_mask[11]\n",
    "print(cur_path)\n",
    "road_img = skimage.io.imread(cur_path)\n",
    "\n",
    "# assert 0-1 coding\n",
    "assert (np.logical_or(road_img == 1, road_img == 0)).all()"
   ]
  },
  {
   "cell_type": "code",
   "execution_count": 5,
   "metadata": {},
   "outputs": [
    {
     "name": "stdout",
     "output_type": "stream",
     "text": [
      "<class 'numpy.ndarray'> (7, 7961, 8091)\n",
      "<class 'numpy.ndarray'> (7961, 8091)\n"
     ]
    }
   ],
   "source": [
    "print(type(raw_image), raw_image.shape)\n",
    "print(type(raw_image), road_img.shape)"
   ]
  },
  {
   "cell_type": "code",
   "execution_count": 6,
   "metadata": {
    "collapsed": true
   },
   "outputs": [],
   "source": [
    "# for type_name, path in zip(road_type, path_road_mask):\n",
    "#     # read in road mask\n",
    "#     road_img = skimage.io.imread(path)\n",
    "#     assert (np.logical_or(road_img == 1, road_img == 0)).all()\n",
    "    \n",
    "#     # save road against raw img\n",
    "#     print(type_name, \": \", path)\n",
    "#     save_path = \"./Result/\" + type_name\n",
    "#     show_image_against_road(1160-500,3100-400, road=road_img, light=2.5, size=1000, figsize=(50,50),\n",
    "#                            show_raw=False)\n",
    "\n",
    "# show_image_against_road(1450,1850, light=6, size=200)\n",
    "# show_image_against_road(1400,2550, light=5, size=250)\n",
    "# show_image_against_road(1450,2800, light=3, size=150)\n",
    "# show_image_against_road(1250,3450, light=3, size=150, figsize=(20,20))"
   ]
  },
  {
   "cell_type": "code",
   "execution_count": 7,
   "metadata": {},
   "outputs": [
    {
     "name": "stdout",
     "output_type": "stream",
     "text": [
      "(341593, 7, 28, 28) (341593, 28, 28) (341593,)\n"
     ]
    }
   ],
   "source": [
    "image_patch = []\n",
    "road_patch = []\n",
    "road_existence = []\n",
    "\n",
    "for row_offset in [0, 7, 14, 21]:\n",
    "    for col_offset in [0, 7, 14, 21]:\n",
    "        cur_img_pch, cur_rd_pch, cur_rd_ex = create_labelled_patches(raw_image, road_img,\n",
    "                                                                     row_offset=row_offset, = []\n",
    "                                                                     column_offset=col_offset)\n",
    "        image_patch.extend(cur_img_pch)\n",
    "        road_patch.extend(cur_rd_pch)\n",
    "        road_existence.extend(cur_rd_ex)\n",
    "\n",
    "image_patch = np.array(image_patch)\n",
    "road_patch = np.array(road_patch)\n",
    "road_existence = np.array(road_existence)\n",
    "\n",
    "print(image_patch.shape, road_patch.shape, road_existence.shape)\n",
    "# (21845, 7, 28, 28) (21845, 28, 28)"
   ]
  },
  {
   "cell_type": "code",
   "execution_count": 8,
   "metadata": {
    "collapsed": true
   },
   "outputs": [],
   "source": [
    "# save the file\n",
    "h5_path = '../Data/090085/Road_Data/motor_trunk_pri_sec_tert_uncl_track/patch_set.h5'\n",
    "h5f = h5py.File(h5_path, 'w')\n",
    "h5f.create_dataset(name='image_patch', shape=image_patch.shape, data=image_patch)\n",
    "h5f.create_dataset(name='road_patch', shape=road_patch.shape, data=road_patch)\n",
    "h5f.create_dataset(name='road_existence', shape=road_existence.shape, data=road_existence)\n",
    "h5f.close()\n",
    "\n",
    "h5f = h5py.File(h5_path, 'r')\n",
    "h5_image_patch = np.array(h5f['image_patch'])\n",
    "h5_road_patch = np.array(h5f['road_patch'])\n",
    "h5_road_existence = np.array(h5f['road_existence'])\n",
    "h5f.close()"
   ]
  },
  {
   "cell_type": "code",
   "execution_count": 10,
   "metadata": {},
   "outputs": [
    {
     "name": "stdout",
     "output_type": "stream",
     "text": [
      "True True True\n"
     ]
    }
   ],
   "source": [
    "print((h5_image_patch == image_patch).all(), \n",
    "      (h5_road_patch == road_patch).all(), \n",
    "      (h5_road_existence == road_existence).all())"
   ]
  },
  {
   "cell_type": "code",
   "execution_count": null,
   "metadata": {
    "collapsed": true
   },
   "outputs": [],
   "source": [
    "# [0-21450]\n",
    "index = 1000\n",
    "\n",
    "has_road = road_existence[index]\n",
    "mask = road_patch[index]\n",
    "patch = np.array([image_patch[index][3].T, image_patch[index][2].T, image_patch[index][1].T]).T\n",
    "\n",
    "print(has_road, patch.max(), patch.min(), patch.shape, mask.shape)\n",
    "patch = patch * 0.0001 * 5\n",
    "\n",
    "# plot raw img\n",
    "plt.imshow(patch)\n",
    "plt.show()\n",
    "plt.clf()\n",
    "\n",
    "# plot road mask\n",
    "plt.imshow(mask, cmap=plt.get_cmap('gray'))\n",
    "plt.show()\n",
    "plt.clf()"
   ]
  },
  {
   "cell_type": "code",
   "execution_count": null,
   "metadata": {
    "collapsed": true
   },
   "outputs": [],
   "source": []
  }
 ],
 "metadata": {
  "kernelspec": {
   "display_name": "Python 3",
   "language": "python",
   "name": "python3"
  },
  "language_info": {
   "codemirror_mode": {
    "name": "ipython",
    "version": 3
   },
   "file_extension": ".py",
   "mimetype": "text/x-python",
   "name": "python",
   "nbconvert_exporter": "python",
   "pygments_lexer": "ipython3",
   "version": "3.6.2"
  }
 },
 "nbformat": 4,
 "nbformat_minor": 2
}
