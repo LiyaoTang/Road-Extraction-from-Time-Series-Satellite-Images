{
 "cells": [
  {
   "cell_type": "code",
   "execution_count": 1,
   "metadata": {
    "collapsed": true
   },
   "outputs": [],
   "source": [
    "import numpy as np\n",
    "import sklearn as sk\n",
    "import matplotlib.pyplot as plt\n",
    "import tensorflow as tf\n",
    "from sklearn import preprocessing\n",
    "from scipy import stats\n",
    "import scipy.io as sio"
   ]
  },
  {
   "cell_type": "markdown",
   "metadata": {},
   "source": [
    "Load & Reorder:"
   ]
  },
  {
   "cell_type": "code",
   "execution_count": 2,
   "metadata": {
    "collapsed": true,
    "scrolled": true
   },
   "outputs": [],
   "source": [
    "# Load\n",
    "SAT_4 = sio.loadmat('flatten_SAT_4.mat')\n",
    "train_x = SAT_4['train_x']\n",
    "train_y = SAT_4['train_y']"
   ]
  },
  {
   "cell_type": "markdown",
   "metadata": {},
   "source": [
    "Model parameters: "
   ]
  },
  {
   "cell_type": "code",
   "execution_count": 3,
   "metadata": {
    "collapsed": true
   },
   "outputs": [],
   "source": [
    "width = 28\n",
    "height = 28\n",
    "band = 4\n",
    "\n",
    "L1_out = 1024\n",
    "L2_out = 512\n",
    "L3_out = 256\n",
    "L4_out = 128\n",
    "class_output = 4 # number of possible classifications for the problem\n",
    "\n",
    "batch_size = 64\n",
    "learning_rate = 9e-6"
   ]
  },
  {
   "cell_type": "markdown",
   "metadata": {},
   "source": [
    "Calculate Normalization Parameters:"
   ]
  },
  {
   "cell_type": "code",
   "execution_count": 4,
   "metadata": {
    "collapsed": true
   },
   "outputs": [],
   "source": [
    "# Normalize Parameters\n",
    "mu = train_x.mean(axis=0, keepdims=True)\n",
    "sigma = 0\n",
    "for img in train_x:\n",
    "    sigma += (img-mu)**2\n",
    "sigma /= train_x.shape[0]"
   ]
  },
  {
   "cell_type": "markdown",
   "metadata": {},
   "source": [
    "$a_i$ is the raw number (int)\n",
    "\n",
    "$\\mu = \\frac 1 n \\sum_{i=1}^n \\frac {a_i} {\\text{Max}} = \\frac 1 {\\text{Max}}(\\frac 1 n \\sum_{i=1}^n a_i)$\n",
    "\n",
    "$\\sigma = \\sqrt{\\frac 1 n \\sum_{i=1}^n (\\frac{a_i}{\\text{Max}}-\\mu)^2 } = \\frac 1 {\\text{Max}} \\sqrt{\\frac 1 n \\sum_{i=1}^n(a_i-\\mu*\\text{Max})^2 } $\n",
    "\n",
    "$\\displaystyle \\frac {\\frac A {\\text{Max}} - mu} {\\sigma} = \\frac {A-\\mu *\\text{Max}}{\\sigma *\\text{Max}}$"
   ]
  },
  {
   "cell_type": "markdown",
   "metadata": {},
   "source": [
    "Place holders for inputs and outputs: "
   ]
  },
  {
   "cell_type": "code",
   "execution_count": 5,
   "metadata": {
    "collapsed": true
   },
   "outputs": [],
   "source": [
    "x  = tf.placeholder(tf.float32, shape=[None, width*height*band])\n",
    "y_ = tf.placeholder(tf.float32, shape=[None, class_output])"
   ]
  },
  {
   "cell_type": "markdown",
   "metadata": {},
   "source": [
    "Fully Connected Layer: "
   ]
  },
  {
   "cell_type": "code",
   "execution_count": 6,
   "metadata": {
    "collapsed": true
   },
   "outputs": [],
   "source": [
    "# Layer 1\n",
    "W_fc1 = tf.Variable(tf.truncated_normal([width*height*band, L1_out], stddev=0.1))\n",
    "b_fc1 = tf.Variable(tf.truncated_normal([L1_out], stddev=0.1))\n",
    "\n",
    "fc1=tf.matmul(x, W_fc1) + b_fc1 # applying weights and biases\n",
    "h_fc1 = tf.nn.relu(fc1) # ReLU activation\n",
    "\n",
    "# Layer 2\n",
    "W_fc2 = tf.Variable(tf.truncated_normal([L1_out, L2_out], stddev=0.1))\n",
    "b_fc2 = tf.Variable(tf.truncated_normal([L2_out], stddev=0.1))\n",
    "\n",
    "fc2=tf.matmul(h_fc1, W_fc2) + b_fc2# applying weights and biases\n",
    "h_fc2 = tf.nn.relu(fc2) # ReLU activation\n",
    "\n",
    "# Layer 3\n",
    "W_fc3 = tf.Variable(tf.truncated_normal([L2_out, L3_out], stddev=0.1))\n",
    "b_fc3 = tf.Variable(tf.truncated_normal([L3_out], stddev=0.1))\n",
    "\n",
    "fc3=tf.matmul(h_fc2, W_fc3) + b_fc3\n",
    "h_fc3 = tf.nn.relu(fc3) # ReLU activation\n",
    "\n",
    "# Layer 4\n",
    "W_fc4 = tf.Variable(tf.truncated_normal([L3_out, L4_out], stddev=0.1))\n",
    "b_fc4 = tf.Variable(tf.truncated_normal([L4_out], stddev=0.1))\n",
    "\n",
    "fc4=tf.matmul(h_fc3, W_fc4) + b_fc4\n",
    "h_fc4 = tf.nn.relu(fc4) # ReLU activation"
   ]
  },
  {
   "cell_type": "markdown",
   "metadata": {},
   "source": [
    "Output Layer (Softmax):"
   ]
  },
  {
   "cell_type": "code",
   "execution_count": 7,
   "metadata": {
    "collapsed": true
   },
   "outputs": [],
   "source": [
    "W_fc_out = tf.Variable(tf.truncated_normal([L4_out, class_output], stddev=0.1))\n",
    "b_fc_out = tf.Variable(tf.truncated_normal([class_output], stddev=0.1))\n",
    "\n",
    "fc_out=tf.matmul(h_fc4, W_fc_out) + b_fc_out\n",
    "\n",
    "y_CNN= tf.nn.softmax(fc_out)"
   ]
  },
  {
   "cell_type": "markdown",
   "metadata": {},
   "source": [
    "Cost function & optimizer:"
   ]
  },
  {
   "cell_type": "code",
   "execution_count": 8,
   "metadata": {
    "collapsed": true
   },
   "outputs": [],
   "source": [
    "cross_entropy = tf.reduce_mean(-tf.reduce_sum(y_ * (y_CNN), reduction_indices=[1]))\n",
    "train_step = tf.train.AdamOptimizer(learning_rate).minimize(cross_entropy)"
   ]
  },
  {
   "cell_type": "code",
   "execution_count": 9,
   "metadata": {
    "collapsed": true
   },
   "outputs": [],
   "source": [
    "correct_prediction = tf.equal(tf.argmax(y_CNN,1), tf.argmax(y_,1))\n",
    "accuracy = tf.reduce_mean(tf.cast(correct_prediction, tf.float32))"
   ]
  },
  {
   "cell_type": "markdown",
   "metadata": {},
   "source": [
    "Train & monitor:"
   ]
  },
  {
   "cell_type": "code",
   "execution_count": 10,
   "metadata": {
    "scrolled": false
   },
   "outputs": [
    {
     "name": "stdout",
     "output_type": "stream",
     "text": [
      "6250\n",
      "start\n",
      "step 0     : train_acc = 0.28125  , cross entropy = -0.260183 \n",
      "step 1000  : train_acc = 0.75     , cross entropy = -0.719297 \n",
      "step 2000  : train_acc = 0.828125 , cross entropy = -0.804142 \n",
      "step 3000  : train_acc = 0.890625 , cross entropy = -0.876897 \n",
      "step 4000  : train_acc = 0.90625  , cross entropy = -0.887656 \n",
      "step 5000  : train_acc = 0.921875 , cross entropy = -0.908518 \n",
      "step 6000  : train_acc = 0.875    , cross entropy = -0.861315 \n",
      "step 7000  : train_acc = 0.890625 , cross entropy = -0.862979 \n",
      "step 8000  : train_acc = 0.890625 , cross entropy = -0.859857 \n",
      "step 9000  : train_acc = 0.90625  , cross entropy = -0.899601 \n",
      "step 10000 : train_acc = 1        , cross entropy = -0.981286 \n",
      "step 11000 : train_acc = 0.90625  , cross entropy = -0.896329 \n",
      "step 12000 : train_acc = 0.890625 , cross entropy = -0.893463 \n",
      "step 13000 : train_acc = 0.953125 , cross entropy = -0.945097 \n",
      "step 14000 : train_acc = 0.921875 , cross entropy = -0.924239 \n",
      "step 15000 : train_acc = 0.859375 , cross entropy = -0.868942 \n",
      "step 16000 : train_acc = 0.90625  , cross entropy = -0.901067 \n",
      "step 17000 : train_acc = 0.96875  , cross entropy = -0.970297 \n",
      "step 18000 : train_acc = 0.96875  , cross entropy = -0.964550 \n",
      "step 19000 : train_acc = 0.921875 , cross entropy = -0.905416 \n",
      "step 20000 : train_acc = 0.9375   , cross entropy = -0.923984 \n",
      "step 21000 : train_acc = 0.96875  , cross entropy = -0.964247 \n",
      "step 22000 : train_acc = 0.9375   , cross entropy = -0.917751 \n",
      "step 23000 : train_acc = 0.953125 , cross entropy = -0.945391 \n",
      "step 24000 : train_acc = 0.984375 , cross entropy = -0.978932 \n",
      "step 25000 : train_acc = 0.96875  , cross entropy = -0.973416 \n",
      "step 26000 : train_acc = 0.953125 , cross entropy = -0.937329 \n",
      "step 27000 : train_acc = 0.9375   , cross entropy = -0.930019 \n",
      "step 28000 : train_acc = 0.953125 , cross entropy = -0.944883 \n",
      "step 29000 : train_acc = 1        , cross entropy = -0.990236 \n",
      "step 30000 : train_acc = 0.96875  , cross entropy = -0.961142 \n",
      "step 31000 : train_acc = 0.921875 , cross entropy = -0.927406 \n",
      "step 32000 : train_acc = 0.953125 , cross entropy = -0.939465 \n",
      "step 33000 : train_acc = 0.953125 , cross entropy = -0.939639 \n",
      "step 34000 : train_acc = 0.9375   , cross entropy = -0.926557 \n",
      "step 35000 : train_acc = 1        , cross entropy = -0.999790 \n",
      "step 36000 : train_acc = 0.921875 , cross entropy = -0.926343 \n",
      "step 37000 : train_acc = 0.921875 , cross entropy = -0.914409 \n",
      "step 38000 : train_acc = 0.96875  , cross entropy = -0.970743 \n",
      "step 39000 : train_acc = 0.953125 , cross entropy = -0.939331 \n",
      "step 40000 : train_acc = 0.890625 , cross entropy = -0.892945 \n",
      "step 41000 : train_acc = 0.921875 , cross entropy = -0.919027 \n",
      "step 42000 : train_acc = 0.984375 , cross entropy = -0.977903 \n",
      "step 43000 : train_acc = 0.984375 , cross entropy = -0.979686 \n",
      "step 44000 : train_acc = 0.921875 , cross entropy = -0.918643 \n",
      "step 45000 : train_acc = 0.953125 , cross entropy = -0.952817 \n",
      "step 46000 : train_acc = 0.96875  , cross entropy = -0.964508 \n",
      "step 47000 : train_acc = 0.953125 , cross entropy = -0.944474 \n",
      "step 48000 : train_acc = 0.953125 , cross entropy = -0.951861 \n",
      "step 49000 : train_acc = 0.984375 , cross entropy = -0.987916 \n",
      "finish\n"
     ]
    },
    {
     "data": {
      "image/png": "[encoded data removed]",
      "text/plain": [
       "<matplotlib.figure.Figure at 0x23fdf73e940>"
      ]
     },
     "metadata": {},
     "output_type": "display_data"
    }
   ],
   "source": [
    "batch_num = int(len(train_x)/batch_size)\n",
    "print(batch_num)\n",
    "\n",
    "sess = tf.InteractiveSession()\n",
    "sess.run(tf.global_variables_initializer())\n",
    "\n",
    "print(\"start\")\n",
    "learning_curve = []\n",
    "for i in range(50000):\n",
    "    start = (i%batch_num) * batch_size\n",
    "    end = start + batch_size\n",
    "    batch = [((train_x[start:end]-mu)/sigma), train_y[start:end]]\n",
    "    \n",
    "    if i%1000 == 0:\n",
    "        train_accuracy = accuracy.eval(feed_dict={x:batch[0], y_: batch[1]})\n",
    "\n",
    "        learning_curve.append(train_accuracy)\n",
    "        print(\"step %-6d: train_acc = %-9g, cross entropy = %-10f\"\n",
    "              %(i, train_accuracy, cross_entropy.eval(feed_dict={x:batch[0], y_: batch[1]})))\n",
    "    train_step.run(feed_dict={x: batch[0], y_: batch[1]})\n",
    "print(\"finish\")\n",
    "\n",
    "plt.plot(learning_curve)\n",
    "plt.show()"
   ]
  },
  {
   "cell_type": "markdown",
   "metadata": {},
   "source": [
    "Evaluate:"
   ]
  },
  {
   "cell_type": "code",
   "execution_count": 11,
   "metadata": {},
   "outputs": [
    {
     "name": "stdout",
     "output_type": "stream",
     "text": [
      "0.956914994098\n"
     ]
    }
   ],
   "source": [
    "train_acc = []\n",
    "for i in range(40000):\n",
    "    start = (i%40000)*10\n",
    "    end = start + 10\n",
    "    batch = [((train_x[start:end]-mu)/sigma), train_y[start:end]]\n",
    "\n",
    "    train_accuracy = accuracy.eval(feed_dict={x:batch[0], y_: batch[1]})\n",
    "    train_acc.append(train_accuracy)\n",
    "print(sum(train_acc)/len(train_acc))"
   ]
  },
  {
   "cell_type": "code",
   "execution_count": 12,
   "metadata": {},
   "outputs": [
    {
     "name": "stdout",
     "output_type": "stream",
     "text": [
      "0.951519993699\n"
     ]
    }
   ],
   "source": [
    "test_x = SAT_4['test_x']\n",
    "test_y = SAT_4['test_y']\n",
    "\n",
    "test_acc = []\n",
    "for i in range(10000):\n",
    "    start = i*10\n",
    "    end = start+10\n",
    "    test_acc.append(accuracy.eval(\n",
    "        feed_dict={x:((test_x[start:end]-mu)/sigma), y_:test_y[start:end]}))\n",
    "    \n",
    "print(sum(test_acc)/len(test_acc))"
   ]
  },
  {
   "cell_type": "code",
   "execution_count": 13,
   "metadata": {
    "collapsed": true
   },
   "outputs": [],
   "source": [
    "sess.close() #finish the session"
   ]
  },
  {
   "cell_type": "code",
   "execution_count": null,
   "metadata": {
    "collapsed": true
   },
   "outputs": [],
   "source": []
  }
 ],
 "metadata": {
  "kernelspec": {
   "display_name": "Python 3",
   "language": "python",
   "name": "python3"
  },
  "language_info": {
   "codemirror_mode": {
    "name": "ipython",
    "version": 3
   },
   "file_extension": ".py",
   "mimetype": "text/x-python",
   "name": "python",
   "nbconvert_exporter": "python",
   "pygments_lexer": "ipython3",
   "version": "3.5.4"
  }
 },
 "nbformat": 4,
 "nbformat_minor": 2
}
